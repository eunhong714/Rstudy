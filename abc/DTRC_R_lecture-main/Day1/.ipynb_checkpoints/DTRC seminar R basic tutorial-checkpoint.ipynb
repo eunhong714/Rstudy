{
 "cells": [
  {
   "cell_type": "markdown",
   "metadata": {},
   "source": [
    "# R basic\n",
    "---\n",
    "Jan 27 2022  \n",
    "Write on R version 4.1"
   ]
  },
  {
   "cell_type": "markdown",
   "metadata": {},
   "source": [
    "# Ch.1 변수와 데이터의 형태"
   ]
  },
  {
   "cell_type": "markdown",
   "metadata": {},
   "source": [
    "R은 \"값\"을 \"객체\"에 대입하여 코드에 활용함.  \n",
    "대입을 하기 위한 방법으로는 <- 혹은 = 를 활용할 수 있음.\n",
    "  \n",
    "다만. = 를 사용할 경우 R에서 다양하게 활용되는 수식과 혼동 될 수 있기 때문에 <- 를 주로 사용함.  \n",
    "  \n",
    "  \n",
    "아래는 객체 값을 대입하여 그 결과를 확인한 예제임.  \n",
    "첫번째와 같이 a 에 아무런 값을 입력하지 않고 a를 출력하였을때는 객체 \"a\" 를 찾을 수 없지만 a 와 b 에 각각 다른 방법으로 대입하게 되면, 값을 얻어낼 수 있음."
   ]
  },
  {
   "cell_type": "code",
   "execution_count": 1,
   "metadata": {},
   "outputs": [
    {
     "ename": "ERROR",
     "evalue": "Error in eval(expr, envir, enclos): 객체 'a'를 찾을 수 없습니다\n",
     "output_type": "error",
     "traceback": [
      "Error in eval(expr, envir, enclos): 객체 'a'를 찾을 수 없습니다\nTraceback:\n"
     ]
    }
   ],
   "source": [
    "a"
   ]
  },
  {
   "cell_type": "code",
   "execution_count": 2,
   "metadata": {},
   "outputs": [
    {
     "data": {
      "text/html": [
       "2"
      ],
      "text/latex": [
       "2"
      ],
      "text/markdown": [
       "2"
      ],
      "text/plain": [
       "[1] 2"
      ]
     },
     "metadata": {},
     "output_type": "display_data"
    }
   ],
   "source": [
    "a <- 2\n",
    "a"
   ]
  },
  {
   "cell_type": "code",
   "execution_count": 3,
   "metadata": {},
   "outputs": [
    {
     "data": {
      "text/html": [
       "2"
      ],
      "text/latex": [
       "2"
      ],
      "text/markdown": [
       "2"
      ],
      "text/plain": [
       "[1] 2"
      ]
     },
     "metadata": {},
     "output_type": "display_data"
    }
   ],
   "source": [
    "b = 2\n",
    "b"
   ]
  },
  {
   "cell_type": "markdown",
   "metadata": {},
   "source": [
    "## 사칙연산, 비교연산, 논리연산자\n",
    "객체를 다양한 방식으로 연산하기 위해 기본적인 연산자를 활용할 수 있다.  \n",
    "연산자의 종류는 아래와 같다.  \n",
    "특히 논리 연산자는 다양하게 활용된다.\n",
    "\n",
    "사칙연산: + - * /  \n",
    "비교 연산자: > < >= <=   \n",
    "논리연산자 1:  == (equal, 수학의 =,  대입문을 = 을 활용하기 때문에 equal은 == 을 사용), != (같지 않다)  \n",
    "논리 연산자 2:  & (AND)  | (OR) "
   ]
  },
  {
   "cell_type": "code",
   "execution_count": 4,
   "metadata": {},
   "outputs": [
    {
     "data": {
      "text/html": [
       "TRUE"
      ],
      "text/latex": [
       "TRUE"
      ],
      "text/markdown": [
       "TRUE"
      ],
      "text/plain": [
       "[1] TRUE"
      ]
     },
     "metadata": {},
     "output_type": "display_data"
    }
   ],
   "source": [
    "#논리 연산자 사용 예시\n",
    "a <- 2\n",
    "b <- 2\n",
    "a == b"
   ]
  },
  {
   "cell_type": "code",
   "execution_count": 5,
   "metadata": {},
   "outputs": [
    {
     "data": {
      "text/html": [
       "TRUE"
      ],
      "text/latex": [
       "TRUE"
      ],
      "text/markdown": [
       "TRUE"
      ],
      "text/plain": [
       "[1] TRUE"
      ]
     },
     "metadata": {},
     "output_type": "display_data"
    },
    {
     "data": {
      "text/html": [
       "FALSE"
      ],
      "text/latex": [
       "FALSE"
      ],
      "text/markdown": [
       "FALSE"
      ],
      "text/plain": [
       "[1] FALSE"
      ]
     },
     "metadata": {},
     "output_type": "display_data"
    },
    {
     "data": {
      "text/html": [
       "TRUE"
      ],
      "text/latex": [
       "TRUE"
      ],
      "text/markdown": [
       "TRUE"
      ],
      "text/plain": [
       "[1] TRUE"
      ]
     },
     "metadata": {},
     "output_type": "display_data"
    }
   ],
   "source": [
    "#논리 연산자 사용 예시\n",
    "a <- 2\n",
    "b <- 3\n",
    "a != b\n",
    "\n",
    "a >= b\n",
    "a <= b"
   ]
  },
  {
   "cell_type": "markdown",
   "metadata": {},
   "source": [
    "## 자료의 형태 (수식 연산과 문자 연산)"
   ]
  },
  {
   "cell_type": "markdown",
   "metadata": {},
   "source": [
    "프로그래밍 언어에서의 데이터는 \"숫자\"  와 \"문자\" 가 있다.  \n",
    "숫자의 종류는 정수형(numeric) 과 실수형(double) 이 있으며, 문자의 종류는 string 과 character가 있다.\n",
    "  \n",
    "숫자는 사칙연산과 비교 연산이 가능하지만  \n",
    "문자는 논리 연산만 가능하다"
   ]
  },
  {
   "cell_type": "code",
   "execution_count": 6,
   "metadata": {},
   "outputs": [
    {
     "data": {
      "text/html": [
       "1"
      ],
      "text/latex": [
       "1"
      ],
      "text/markdown": [
       "1"
      ],
      "text/plain": [
       "[1] 1"
      ]
     },
     "metadata": {},
     "output_type": "display_data"
    },
    {
     "data": {
      "text/html": [
       "1"
      ],
      "text/latex": [
       "1"
      ],
      "text/markdown": [
       "1"
      ],
      "text/plain": [
       "[1] 1"
      ]
     },
     "metadata": {},
     "output_type": "display_data"
    },
    {
     "data": {
      "text/html": [
       "TRUE"
      ],
      "text/latex": [
       "TRUE"
      ],
      "text/markdown": [
       "TRUE"
      ],
      "text/plain": [
       "[1] TRUE"
      ]
     },
     "metadata": {},
     "output_type": "display_data"
    },
    {
     "data": {
      "text/html": [
       "2"
      ],
      "text/latex": [
       "2"
      ],
      "text/markdown": [
       "2"
      ],
      "text/plain": [
       "[1] 2"
      ]
     },
     "metadata": {},
     "output_type": "display_data"
    }
   ],
   "source": [
    "# 숫자의 연산과 문자의 연산 예시\n",
    "a <- 1\n",
    "b <- 1\n",
    "\n",
    "a\n",
    "b\n",
    "a == b\n",
    "a + b"
   ]
  },
  {
   "cell_type": "code",
   "execution_count": 7,
   "metadata": {},
   "outputs": [
    {
     "data": {
      "text/html": [
       "'1'"
      ],
      "text/latex": [
       "'1'"
      ],
      "text/markdown": [
       "'1'"
      ],
      "text/plain": [
       "[1] \"1\""
      ]
     },
     "metadata": {},
     "output_type": "display_data"
    },
    {
     "data": {
      "text/html": [
       "'1'"
      ],
      "text/latex": [
       "'1'"
      ],
      "text/markdown": [
       "'1'"
      ],
      "text/plain": [
       "[1] \"1\""
      ]
     },
     "metadata": {},
     "output_type": "display_data"
    },
    {
     "data": {
      "text/html": [
       "TRUE"
      ],
      "text/latex": [
       "TRUE"
      ],
      "text/markdown": [
       "TRUE"
      ],
      "text/plain": [
       "[1] TRUE"
      ]
     },
     "metadata": {},
     "output_type": "display_data"
    },
    {
     "ename": "ERROR",
     "evalue": "Error in a + b: 이항연산자에 수치가 아닌 인수입니다\n",
     "output_type": "error",
     "traceback": [
      "Error in a + b: 이항연산자에 수치가 아닌 인수입니다\nTraceback:\n"
     ]
    }
   ],
   "source": [
    "# 숫자의 연산과 문자의 연산 예시\n",
    "a <- \"1\"\n",
    "b <- \"1\"\n",
    "\n",
    "a\n",
    "b\n",
    "a == b\n",
    "a + b"
   ]
  },
  {
   "cell_type": "markdown",
   "metadata": {},
   "source": [
    "## 데이터의 형태\n",
    "\n",
    "![Data format](https://t1.daumcdn.net/cfile/tistory/99FA7D415C8F53C70B)"
   ]
  },
  {
   "cell_type": "markdown",
   "metadata": {},
   "source": [
    "### 다양한 방법으로 백터 만들기, 합치기, 조합하기"
   ]
  },
  {
   "cell_type": "code",
   "execution_count": 8,
   "metadata": {},
   "outputs": [
    {
     "data": {
      "text/html": [
       "<style>\n",
       ".list-inline {list-style: none; margin:0; padding: 0}\n",
       ".list-inline>li {display: inline-block}\n",
       ".list-inline>li:not(:last-child)::after {content: \"\\00b7\"; padding: 0 .5ex}\n",
       "</style>\n",
       "<ol class=list-inline><li>1</li><li>2</li><li>3</li><li>4</li><li>5</li></ol>\n"
      ],
      "text/latex": [
       "\\begin{enumerate*}\n",
       "\\item 1\n",
       "\\item 2\n",
       "\\item 3\n",
       "\\item 4\n",
       "\\item 5\n",
       "\\end{enumerate*}\n"
      ],
      "text/markdown": [
       "1. 1\n",
       "2. 2\n",
       "3. 3\n",
       "4. 4\n",
       "5. 5\n",
       "\n",
       "\n"
      ],
      "text/plain": [
       "[1] 1 2 3 4 5"
      ]
     },
     "metadata": {},
     "output_type": "display_data"
    }
   ],
   "source": [
    "vector_1 <- c(1,2,3,4,5)\n",
    "vector_1"
   ]
  },
  {
   "cell_type": "code",
   "execution_count": 9,
   "metadata": {},
   "outputs": [
    {
     "data": {
      "text/html": [
       "<style>\n",
       ".list-inline {list-style: none; margin:0; padding: 0}\n",
       ".list-inline>li {display: inline-block}\n",
       ".list-inline>li:not(:last-child)::after {content: \"\\00b7\"; padding: 0 .5ex}\n",
       "</style>\n",
       "<ol class=list-inline><li>1</li><li>2</li><li>2</li><li>4</li><li>5</li></ol>\n"
      ],
      "text/latex": [
       "\\begin{enumerate*}\n",
       "\\item 1\n",
       "\\item 2\n",
       "\\item 2\n",
       "\\item 4\n",
       "\\item 5\n",
       "\\end{enumerate*}\n"
      ],
      "text/markdown": [
       "1. 1\n",
       "2. 2\n",
       "3. 2\n",
       "4. 4\n",
       "5. 5\n",
       "\n",
       "\n"
      ],
      "text/plain": [
       "[1] 1 2 2 4 5"
      ]
     },
     "metadata": {},
     "output_type": "display_data"
    },
    {
     "data": {
      "text/html": [
       "<style>\n",
       ".list-inline {list-style: none; margin:0; padding: 0}\n",
       ".list-inline>li {display: inline-block}\n",
       ".list-inline>li:not(:last-child)::after {content: \"\\00b7\"; padding: 0 .5ex}\n",
       "</style>\n",
       "<ol class=list-inline><li>1</li><li>2</li><li>4</li><li>5</li><li>2</li></ol>\n"
      ],
      "text/latex": [
       "\\begin{enumerate*}\n",
       "\\item 1\n",
       "\\item 2\n",
       "\\item 4\n",
       "\\item 5\n",
       "\\item 2\n",
       "\\end{enumerate*}\n"
      ],
      "text/markdown": [
       "1. 1\n",
       "2. 2\n",
       "3. 4\n",
       "4. 5\n",
       "5. 2\n",
       "\n",
       "\n"
      ],
      "text/plain": [
       "[1] 1 2 4 5 2"
      ]
     },
     "metadata": {},
     "output_type": "display_data"
    }
   ],
   "source": [
    "a <- 1\n",
    "b <- 2\n",
    "c <- 2\n",
    "\n",
    "vector_2 <- c(a,b,c,4,5)\n",
    "vector_2\n",
    "\n",
    "vector_3 <- c(a,b,4,5,c)\n",
    "vector_3"
   ]
  },
  {
   "cell_type": "code",
   "execution_count": 10,
   "metadata": {},
   "outputs": [
    {
     "data": {
      "text/html": [
       "<style>\n",
       ".list-inline {list-style: none; margin:0; padding: 0}\n",
       ".list-inline>li {display: inline-block}\n",
       ".list-inline>li:not(:last-child)::after {content: \"\\00b7\"; padding: 0 .5ex}\n",
       "</style>\n",
       "<ol class=list-inline><li>'1'</li><li>'2'</li><li>'2'</li><li>'4'</li><li>'5'</li></ol>\n"
      ],
      "text/latex": [
       "\\begin{enumerate*}\n",
       "\\item '1'\n",
       "\\item '2'\n",
       "\\item '2'\n",
       "\\item '4'\n",
       "\\item '5'\n",
       "\\end{enumerate*}\n"
      ],
      "text/markdown": [
       "1. '1'\n",
       "2. '2'\n",
       "3. '2'\n",
       "4. '4'\n",
       "5. '5'\n",
       "\n",
       "\n"
      ],
      "text/plain": [
       "[1] \"1\" \"2\" \"2\" \"4\" \"5\""
      ]
     },
     "metadata": {},
     "output_type": "display_data"
    }
   ],
   "source": [
    "a <- \"1\"\n",
    "b <- \"2\"\n",
    "c <- \"2\"\n",
    "\n",
    "vector_4 <- c(a,b,c,4,5)\n",
    "vector_4"
   ]
  },
  {
   "cell_type": "code",
   "execution_count": 11,
   "metadata": {},
   "outputs": [
    {
     "data": {
      "text/html": [
       "'numeric'"
      ],
      "text/latex": [
       "'numeric'"
      ],
      "text/markdown": [
       "'numeric'"
      ],
      "text/plain": [
       "[1] \"numeric\""
      ]
     },
     "metadata": {},
     "output_type": "display_data"
    },
    {
     "data": {
      "text/html": [
       "'numeric'"
      ],
      "text/latex": [
       "'numeric'"
      ],
      "text/markdown": [
       "'numeric'"
      ],
      "text/plain": [
       "[1] \"numeric\""
      ]
     },
     "metadata": {},
     "output_type": "display_data"
    }
   ],
   "source": [
    "class(vector_2)\n",
    "class(vector_3)"
   ]
  },
  {
   "cell_type": "code",
   "execution_count": 12,
   "metadata": {},
   "outputs": [
    {
     "data": {
      "text/html": [
       "'character'"
      ],
      "text/latex": [
       "'character'"
      ],
      "text/markdown": [
       "'character'"
      ],
      "text/plain": [
       "[1] \"character\""
      ]
     },
     "metadata": {},
     "output_type": "display_data"
    }
   ],
   "source": [
    "class(vector_4)"
   ]
  },
  {
   "cell_type": "code",
   "execution_count": 13,
   "metadata": {},
   "outputs": [
    {
     "data": {
      "text/html": [
       "<style>\n",
       ".list-inline {list-style: none; margin:0; padding: 0}\n",
       ".list-inline>li {display: inline-block}\n",
       ".list-inline>li:not(:last-child)::after {content: \"\\00b7\"; padding: 0 .5ex}\n",
       "</style>\n",
       "<ol class=list-inline><li>1</li><li>2</li><li>3</li><li>4</li><li>5</li><li>6</li><li>7</li><li>8</li><li>9</li><li>10</li></ol>\n"
      ],
      "text/latex": [
       "\\begin{enumerate*}\n",
       "\\item 1\n",
       "\\item 2\n",
       "\\item 3\n",
       "\\item 4\n",
       "\\item 5\n",
       "\\item 6\n",
       "\\item 7\n",
       "\\item 8\n",
       "\\item 9\n",
       "\\item 10\n",
       "\\end{enumerate*}\n"
      ],
      "text/markdown": [
       "1. 1\n",
       "2. 2\n",
       "3. 3\n",
       "4. 4\n",
       "5. 5\n",
       "6. 6\n",
       "7. 7\n",
       "8. 8\n",
       "9. 9\n",
       "10. 10\n",
       "\n",
       "\n"
      ],
      "text/plain": [
       " [1]  1  2  3  4  5  6  7  8  9 10"
      ]
     },
     "metadata": {},
     "output_type": "display_data"
    },
    {
     "data": {
      "text/html": [
       "<style>\n",
       ".list-inline {list-style: none; margin:0; padding: 0}\n",
       ".list-inline>li {display: inline-block}\n",
       ".list-inline>li:not(:last-child)::after {content: \"\\00b7\"; padding: 0 .5ex}\n",
       "</style>\n",
       "<ol class=list-inline><li>1</li><li>3</li><li>5</li><li>7</li><li>9</li></ol>\n"
      ],
      "text/latex": [
       "\\begin{enumerate*}\n",
       "\\item 1\n",
       "\\item 3\n",
       "\\item 5\n",
       "\\item 7\n",
       "\\item 9\n",
       "\\end{enumerate*}\n"
      ],
      "text/markdown": [
       "1. 1\n",
       "2. 3\n",
       "3. 5\n",
       "4. 7\n",
       "5. 9\n",
       "\n",
       "\n"
      ],
      "text/plain": [
       "[1] 1 3 5 7 9"
      ]
     },
     "metadata": {},
     "output_type": "display_data"
    }
   ],
   "source": [
    "# 1부터 10까지 있는 백터 생성\n",
    "x1 <- seq(1,10) \n",
    "\n",
    " # 1부터 10까지 2씩 증가하는 수열의 백터 생성\n",
    "x2 <- seq(1,10,2) \n",
    "\n",
    "x1\n",
    "x2"
   ]
  },
  {
   "cell_type": "code",
   "execution_count": 14,
   "metadata": {},
   "outputs": [
    {
     "data": {
      "text/html": [
       "<style>\n",
       ".list-inline {list-style: none; margin:0; padding: 0}\n",
       ".list-inline>li {display: inline-block}\n",
       ".list-inline>li:not(:last-child)::after {content: \"\\00b7\"; padding: 0 .5ex}\n",
       "</style>\n",
       "<ol class=list-inline><li>1</li><li>1</li><li>1</li><li>1</li><li>1</li><li>1</li><li>1</li><li>1</li><li>1</li><li>1</li></ol>\n"
      ],
      "text/latex": [
       "\\begin{enumerate*}\n",
       "\\item 1\n",
       "\\item 1\n",
       "\\item 1\n",
       "\\item 1\n",
       "\\item 1\n",
       "\\item 1\n",
       "\\item 1\n",
       "\\item 1\n",
       "\\item 1\n",
       "\\item 1\n",
       "\\end{enumerate*}\n"
      ],
      "text/markdown": [
       "1. 1\n",
       "2. 1\n",
       "3. 1\n",
       "4. 1\n",
       "5. 1\n",
       "6. 1\n",
       "7. 1\n",
       "8. 1\n",
       "9. 1\n",
       "10. 1\n",
       "\n",
       "\n"
      ],
      "text/plain": [
       " [1] 1 1 1 1 1 1 1 1 1 1"
      ]
     },
     "metadata": {},
     "output_type": "display_data"
    },
    {
     "data": {
      "text/html": [
       "<style>\n",
       ".list-inline {list-style: none; margin:0; padding: 0}\n",
       ".list-inline>li {display: inline-block}\n",
       ".list-inline>li:not(:last-child)::after {content: \"\\00b7\"; padding: 0 .5ex}\n",
       "</style>\n",
       "<ol class=list-inline><li>1</li><li>2</li><li>1</li><li>2</li><li>1</li><li>2</li><li>1</li><li>2</li><li>1</li><li>2</li></ol>\n"
      ],
      "text/latex": [
       "\\begin{enumerate*}\n",
       "\\item 1\n",
       "\\item 2\n",
       "\\item 1\n",
       "\\item 2\n",
       "\\item 1\n",
       "\\item 2\n",
       "\\item 1\n",
       "\\item 2\n",
       "\\item 1\n",
       "\\item 2\n",
       "\\end{enumerate*}\n"
      ],
      "text/markdown": [
       "1. 1\n",
       "2. 2\n",
       "3. 1\n",
       "4. 2\n",
       "5. 1\n",
       "6. 2\n",
       "7. 1\n",
       "8. 2\n",
       "9. 1\n",
       "10. 2\n",
       "\n",
       "\n"
      ],
      "text/plain": [
       " [1] 1 2 1 2 1 2 1 2 1 2"
      ]
     },
     "metadata": {},
     "output_type": "display_data"
    }
   ],
   "source": [
    "\n",
    "# 1이 10개 있는 백터 생성\n",
    "rep(1,10) \n",
    "# 백터 1과 2가  5번 반복되는 백터 생성\n",
    "rep(c(1,2),5)  "
   ]
  },
  {
   "cell_type": "code",
   "execution_count": 15,
   "metadata": {},
   "outputs": [
    {
     "data": {
      "text/html": [
       "<style>\n",
       ".list-inline {list-style: none; margin:0; padding: 0}\n",
       ".list-inline>li {display: inline-block}\n",
       ".list-inline>li:not(:last-child)::after {content: \"\\00b7\"; padding: 0 .5ex}\n",
       "</style>\n",
       "<ol class=list-inline><li>'WT'</li><li>'WT'</li><li>'WT'</li><li>'WT'</li><li>'WT'</li><li>'KO'</li><li>'KO'</li><li>'KO'</li><li>'KO'</li><li>'KO'</li></ol>\n"
      ],
      "text/latex": [
       "\\begin{enumerate*}\n",
       "\\item 'WT'\n",
       "\\item 'WT'\n",
       "\\item 'WT'\n",
       "\\item 'WT'\n",
       "\\item 'WT'\n",
       "\\item 'KO'\n",
       "\\item 'KO'\n",
       "\\item 'KO'\n",
       "\\item 'KO'\n",
       "\\item 'KO'\n",
       "\\end{enumerate*}\n"
      ],
      "text/markdown": [
       "1. 'WT'\n",
       "2. 'WT'\n",
       "3. 'WT'\n",
       "4. 'WT'\n",
       "5. 'WT'\n",
       "6. 'KO'\n",
       "7. 'KO'\n",
       "8. 'KO'\n",
       "9. 'KO'\n",
       "10. 'KO'\n",
       "\n",
       "\n"
      ],
      "text/plain": [
       " [1] \"WT\" \"WT\" \"WT\" \"WT\" \"WT\" \"KO\" \"KO\" \"KO\" \"KO\" \"KO\""
      ]
     },
     "metadata": {},
     "output_type": "display_data"
    }
   ],
   "source": [
    "wt <- rep(\"WT\",5)\n",
    "ko <- rep(\"KO\",5)\n",
    "\n",
    "# 백터 합치기\n",
    "Conditions <- c(wt, ko)   \n",
    "Conditions"
   ]
  },
  {
   "cell_type": "markdown",
   "metadata": {},
   "source": [
    "### TSV 파일 읽어들여서 데이터프레임으로 불러오기"
   ]
  },
  {
   "cell_type": "code",
   "execution_count": 16,
   "metadata": {},
   "outputs": [
    {
     "name": "stderr",
     "output_type": "stream",
     "text": [
      "Warning message in scan(file = file, what = what, sep = sep, quote = quote, dec = dec, :\n",
      "“따옴표로 묶인 문자열내에 EOF가 있습니다”\n",
      "Warning message in scan(file = file, what = what, sep = sep, quote = quote, dec = dec, :\n",
      "“읽어들인 항목의 개수가 열의 개수의 배수가 아닙니다”\n"
     ]
    },
    {
     "data": {
      "text/html": [
       "<table class=\"dataframe\">\n",
       "<caption>A data.frame: 6 × 14</caption>\n",
       "<thead>\n",
       "\t<tr><th></th><th scope=col>V1</th><th scope=col>V2</th><th scope=col>V3</th><th scope=col>V4</th><th scope=col>V5</th><th scope=col>V6</th><th scope=col>V7</th><th scope=col>V8</th><th scope=col>V9</th><th scope=col>V10</th><th scope=col>V11</th><th scope=col>V12</th><th scope=col>V13</th><th scope=col>V14</th></tr>\n",
       "\t<tr><th></th><th scope=col>&lt;chr&gt;</th><th scope=col>&lt;chr&gt;</th><th scope=col>&lt;chr&gt;</th><th scope=col>&lt;chr&gt;</th><th scope=col>&lt;chr&gt;</th><th scope=col>&lt;chr&gt;</th><th scope=col>&lt;chr&gt;</th><th scope=col>&lt;chr&gt;</th><th scope=col>&lt;chr&gt;</th><th scope=col>&lt;chr&gt;</th><th scope=col>&lt;chr&gt;</th><th scope=col>&lt;chr&gt;</th><th scope=col>&lt;chr&gt;</th><th scope=col>&lt;chr&gt;</th></tr>\n",
       "</thead>\n",
       "<tbody>\n",
       "\t<tr><th scope=row>1</th><td>Entry </td><td>Entry_name</td><td>Gene_name  </td><td>Status  </td><td>Accession</td><td>MCF7_1     </td><td>MCF7_2     </td><td>MCF7_3     </td><td>Doxorubicin_1</td><td>Doxorubicin_2</td><td>Doxorubicin_3</td><td>P-value    </td><td>P.adjust   </td><td>log2FC      </td></tr>\n",
       "\t<tr><th scope=row>2</th><td>Q09666</td><td>AHNK_HUMAN</td><td>AHNAK PM227</td><td>reviewed</td><td>Q09666   </td><td>4984.800507</td><td>4959.724695</td><td>4885.114853</td><td>12114.33764  </td><td>11727.54481  </td><td>11587.01952  </td><td>0.000350161</td><td>0.002141511</td><td>1.256443172 </td></tr>\n",
       "\t<tr><th scope=row>3</th><td>Q15149</td><td>PLEC_HUMAN</td><td>PLEC PLEC1 </td><td>reviewed</td><td>Q15149-3 </td><td>18.44385675</td><td>20.20028963</td><td>17.78025103</td><td>20.9684458   </td><td>19.7606642   </td><td>18.96094122  </td><td>0.308643832</td><td>0.340135415</td><td>0.081171386 </td></tr>\n",
       "\t<tr><th scope=row>4</th><td>Q15149</td><td>PLEC_HUMAN</td><td>PLEC PLEC1 </td><td>reviewed</td><td>Q15149   </td><td>3202.244428</td><td>3335.804133</td><td>3156.994503</td><td>6151.740003  </td><td>5983.79064   </td><td>6123.508587  </td><td>2.83E-06   </td><td>0.000319444</td><td>0.913291643 </td></tr>\n",
       "\t<tr><th scope=row>5</th><td>Q15149</td><td>PLEC_HUMAN</td><td>PLEC PLEC1 </td><td>reviewed</td><td>Q15149-8 </td><td>13.18007585</td><td>13.66558497</td><td>13.50839075</td><td>10.36080367  </td><td>10.83964697  </td><td>9.876970579  </td><td>0.002227159</td><td>0.00628059 </td><td>-0.376846733</td></tr>\n",
       "\t<tr><th scope=row>6</th><td>Q15149</td><td>PLEC_HUMAN</td><td>PLEC PLEC1 </td><td>reviewed</td><td>Q15149-4 </td><td>12.86596234</td><td>12.27708927</td><td>12.16203951</td><td>32.36789439  </td><td>32.90083376  </td><td>31.91327357  </td><td>1.35E-06   </td><td>0.000223258</td><td>1.381316616 </td></tr>\n",
       "</tbody>\n",
       "</table>\n"
      ],
      "text/latex": [
       "A data.frame: 6 × 14\n",
       "\\begin{tabular}{r|llllllllllllll}\n",
       "  & V1 & V2 & V3 & V4 & V5 & V6 & V7 & V8 & V9 & V10 & V11 & V12 & V13 & V14\\\\\n",
       "  & <chr> & <chr> & <chr> & <chr> & <chr> & <chr> & <chr> & <chr> & <chr> & <chr> & <chr> & <chr> & <chr> & <chr>\\\\\n",
       "\\hline\n",
       "\t1 & Entry  & Entry\\_name & Gene\\_name   & Status   & Accession & MCF7\\_1      & MCF7\\_2      & MCF7\\_3      & Doxorubicin\\_1 & Doxorubicin\\_2 & Doxorubicin\\_3 & P-value     & P.adjust    & log2FC      \\\\\n",
       "\t2 & Q09666 & AHNK\\_HUMAN & AHNAK PM227 & reviewed & Q09666    & 4984.800507 & 4959.724695 & 4885.114853 & 12114.33764   & 11727.54481   & 11587.01952   & 0.000350161 & 0.002141511 & 1.256443172 \\\\\n",
       "\t3 & Q15149 & PLEC\\_HUMAN & PLEC PLEC1  & reviewed & Q15149-3  & 18.44385675 & 20.20028963 & 17.78025103 & 20.9684458    & 19.7606642    & 18.96094122   & 0.308643832 & 0.340135415 & 0.081171386 \\\\\n",
       "\t4 & Q15149 & PLEC\\_HUMAN & PLEC PLEC1  & reviewed & Q15149    & 3202.244428 & 3335.804133 & 3156.994503 & 6151.740003   & 5983.79064    & 6123.508587   & 2.83E-06    & 0.000319444 & 0.913291643 \\\\\n",
       "\t5 & Q15149 & PLEC\\_HUMAN & PLEC PLEC1  & reviewed & Q15149-8  & 13.18007585 & 13.66558497 & 13.50839075 & 10.36080367   & 10.83964697   & 9.876970579   & 0.002227159 & 0.00628059  & -0.376846733\\\\\n",
       "\t6 & Q15149 & PLEC\\_HUMAN & PLEC PLEC1  & reviewed & Q15149-4  & 12.86596234 & 12.27708927 & 12.16203951 & 32.36789439   & 32.90083376   & 31.91327357   & 1.35E-06    & 0.000223258 & 1.381316616 \\\\\n",
       "\\end{tabular}\n"
      ],
      "text/markdown": [
       "\n",
       "A data.frame: 6 × 14\n",
       "\n",
       "| <!--/--> | V1 &lt;chr&gt; | V2 &lt;chr&gt; | V3 &lt;chr&gt; | V4 &lt;chr&gt; | V5 &lt;chr&gt; | V6 &lt;chr&gt; | V7 &lt;chr&gt; | V8 &lt;chr&gt; | V9 &lt;chr&gt; | V10 &lt;chr&gt; | V11 &lt;chr&gt; | V12 &lt;chr&gt; | V13 &lt;chr&gt; | V14 &lt;chr&gt; |\n",
       "|---|---|---|---|---|---|---|---|---|---|---|---|---|---|---|\n",
       "| 1 | Entry  | Entry_name | Gene_name   | Status   | Accession | MCF7_1      | MCF7_2      | MCF7_3      | Doxorubicin_1 | Doxorubicin_2 | Doxorubicin_3 | P-value     | P.adjust    | log2FC       |\n",
       "| 2 | Q09666 | AHNK_HUMAN | AHNAK PM227 | reviewed | Q09666    | 4984.800507 | 4959.724695 | 4885.114853 | 12114.33764   | 11727.54481   | 11587.01952   | 0.000350161 | 0.002141511 | 1.256443172  |\n",
       "| 3 | Q15149 | PLEC_HUMAN | PLEC PLEC1  | reviewed | Q15149-3  | 18.44385675 | 20.20028963 | 17.78025103 | 20.9684458    | 19.7606642    | 18.96094122   | 0.308643832 | 0.340135415 | 0.081171386  |\n",
       "| 4 | Q15149 | PLEC_HUMAN | PLEC PLEC1  | reviewed | Q15149    | 3202.244428 | 3335.804133 | 3156.994503 | 6151.740003   | 5983.79064    | 6123.508587   | 2.83E-06    | 0.000319444 | 0.913291643  |\n",
       "| 5 | Q15149 | PLEC_HUMAN | PLEC PLEC1  | reviewed | Q15149-8  | 13.18007585 | 13.66558497 | 13.50839075 | 10.36080367   | 10.83964697   | 9.876970579   | 0.002227159 | 0.00628059  | -0.376846733 |\n",
       "| 6 | Q15149 | PLEC_HUMAN | PLEC PLEC1  | reviewed | Q15149-4  | 12.86596234 | 12.27708927 | 12.16203951 | 32.36789439   | 32.90083376   | 31.91327357   | 1.35E-06    | 0.000223258 | 1.381316616  |\n",
       "\n"
      ],
      "text/plain": [
       "  V1     V2         V3          V4       V5        V6          V7         \n",
       "1 Entry  Entry_name Gene_name   Status   Accession MCF7_1      MCF7_2     \n",
       "2 Q09666 AHNK_HUMAN AHNAK PM227 reviewed Q09666    4984.800507 4959.724695\n",
       "3 Q15149 PLEC_HUMAN PLEC PLEC1  reviewed Q15149-3  18.44385675 20.20028963\n",
       "4 Q15149 PLEC_HUMAN PLEC PLEC1  reviewed Q15149    3202.244428 3335.804133\n",
       "5 Q15149 PLEC_HUMAN PLEC PLEC1  reviewed Q15149-8  13.18007585 13.66558497\n",
       "6 Q15149 PLEC_HUMAN PLEC PLEC1  reviewed Q15149-4  12.86596234 12.27708927\n",
       "  V8          V9            V10           V11           V12         V13        \n",
       "1 MCF7_3      Doxorubicin_1 Doxorubicin_2 Doxorubicin_3 P-value     P.adjust   \n",
       "2 4885.114853 12114.33764   11727.54481   11587.01952   0.000350161 0.002141511\n",
       "3 17.78025103 20.9684458    19.7606642    18.96094122   0.308643832 0.340135415\n",
       "4 3156.994503 6151.740003   5983.79064    6123.508587   2.83E-06    0.000319444\n",
       "5 13.50839075 10.36080367   10.83964697   9.876970579   0.002227159 0.00628059 \n",
       "6 12.16203951 32.36789439   32.90083376   31.91327357   1.35E-06    0.000223258\n",
       "  V14         \n",
       "1 log2FC      \n",
       "2 1.256443172 \n",
       "3 0.081171386 \n",
       "4 0.913291643 \n",
       "5 -0.376846733\n",
       "6 1.381316616 "
      ]
     },
     "metadata": {},
     "output_type": "display_data"
    }
   ],
   "source": [
    "# TSV 파일 읽어오는 방법 1\n",
    "\n",
    "example <- read.table(\"./Example_data.txt\",sep='\\t')\n",
    "head(example)"
   ]
  },
  {
   "cell_type": "code",
   "execution_count": 17,
   "metadata": {},
   "outputs": [
    {
     "name": "stderr",
     "output_type": "stream",
     "text": [
      "Warning message in scan(file = file, what = what, sep = sep, quote = quote, dec = dec, :\n",
      "“따옴표로 묶인 문자열내에 EOF가 있습니다”\n",
      "Warning message in scan(file = file, what = what, sep = sep, quote = quote, dec = dec, :\n",
      "“읽어들인 항목의 개수가 열의 개수의 배수가 아닙니다”\n"
     ]
    },
    {
     "data": {
      "text/html": [
       "<table class=\"dataframe\">\n",
       "<caption>A data.frame: 6 × 14</caption>\n",
       "<thead>\n",
       "\t<tr><th></th><th scope=col>Entry</th><th scope=col>Entry_name</th><th scope=col>Gene_name</th><th scope=col>Status</th><th scope=col>Accession</th><th scope=col>MCF7_1</th><th scope=col>MCF7_2</th><th scope=col>MCF7_3</th><th scope=col>Doxorubicin_1</th><th scope=col>Doxorubicin_2</th><th scope=col>Doxorubicin_3</th><th scope=col>P.value</th><th scope=col>P.adjust</th><th scope=col>log2FC</th></tr>\n",
       "\t<tr><th></th><th scope=col>&lt;chr&gt;</th><th scope=col>&lt;chr&gt;</th><th scope=col>&lt;chr&gt;</th><th scope=col>&lt;chr&gt;</th><th scope=col>&lt;chr&gt;</th><th scope=col>&lt;dbl&gt;</th><th scope=col>&lt;dbl&gt;</th><th scope=col>&lt;dbl&gt;</th><th scope=col>&lt;dbl&gt;</th><th scope=col>&lt;dbl&gt;</th><th scope=col>&lt;dbl&gt;</th><th scope=col>&lt;dbl&gt;</th><th scope=col>&lt;dbl&gt;</th><th scope=col>&lt;dbl&gt;</th></tr>\n",
       "</thead>\n",
       "<tbody>\n",
       "\t<tr><th scope=row>1</th><td>Q09666</td><td>AHNK_HUMAN</td><td>AHNAK PM227  </td><td>reviewed</td><td>Q09666  </td><td>4984.80051</td><td>4959.72469</td><td>4885.11485</td><td>12114.33764</td><td>11727.54481</td><td>11587.019520</td><td>0.000350161</td><td>0.002141511</td><td> 1.25644317</td></tr>\n",
       "\t<tr><th scope=row>2</th><td>Q15149</td><td>PLEC_HUMAN</td><td>PLEC PLEC1   </td><td>reviewed</td><td>Q15149-3</td><td>  18.44386</td><td>  20.20029</td><td>  17.78025</td><td>   20.96845</td><td>   19.76066</td><td>   18.960941</td><td>0.308643832</td><td>0.340135415</td><td> 0.08117139</td></tr>\n",
       "\t<tr><th scope=row>3</th><td>Q15149</td><td>PLEC_HUMAN</td><td>PLEC PLEC1   </td><td>reviewed</td><td>Q15149  </td><td>3202.24443</td><td>3335.80413</td><td>3156.99450</td><td> 6151.74000</td><td> 5983.79064</td><td> 6123.508587</td><td>0.000002830</td><td>0.000319444</td><td> 0.91329164</td></tr>\n",
       "\t<tr><th scope=row>4</th><td>Q15149</td><td>PLEC_HUMAN</td><td>PLEC PLEC1   </td><td>reviewed</td><td>Q15149-8</td><td>  13.18008</td><td>  13.66558</td><td>  13.50839</td><td>   10.36080</td><td>   10.83965</td><td>    9.876971</td><td>0.002227159</td><td>0.006280590</td><td>-0.37684673</td></tr>\n",
       "\t<tr><th scope=row>5</th><td>Q15149</td><td>PLEC_HUMAN</td><td>PLEC PLEC1   </td><td>reviewed</td><td>Q15149-4</td><td>  12.86596</td><td>  12.27709</td><td>  12.16204</td><td>   32.36789</td><td>   32.90083</td><td>   31.913274</td><td>0.000001350</td><td>0.000223258</td><td> 1.38131662</td></tr>\n",
       "\t<tr><th scope=row>6</th><td>P21333</td><td>FLNA_HUMAN</td><td>FLNA FLN FLN1</td><td>reviewed</td><td>P21333-2</td><td>3657.09665</td><td>4067.28070</td><td>3777.62035</td><td> 3550.46341</td><td> 3597.42159</td><td> 3459.932638</td><td>0.122895987</td><td>0.146827666</td><td>-0.11675658</td></tr>\n",
       "</tbody>\n",
       "</table>\n"
      ],
      "text/latex": [
       "A data.frame: 6 × 14\n",
       "\\begin{tabular}{r|llllllllllllll}\n",
       "  & Entry & Entry\\_name & Gene\\_name & Status & Accession & MCF7\\_1 & MCF7\\_2 & MCF7\\_3 & Doxorubicin\\_1 & Doxorubicin\\_2 & Doxorubicin\\_3 & P.value & P.adjust & log2FC\\\\\n",
       "  & <chr> & <chr> & <chr> & <chr> & <chr> & <dbl> & <dbl> & <dbl> & <dbl> & <dbl> & <dbl> & <dbl> & <dbl> & <dbl>\\\\\n",
       "\\hline\n",
       "\t1 & Q09666 & AHNK\\_HUMAN & AHNAK PM227   & reviewed & Q09666   & 4984.80051 & 4959.72469 & 4885.11485 & 12114.33764 & 11727.54481 & 11587.019520 & 0.000350161 & 0.002141511 &  1.25644317\\\\\n",
       "\t2 & Q15149 & PLEC\\_HUMAN & PLEC PLEC1    & reviewed & Q15149-3 &   18.44386 &   20.20029 &   17.78025 &    20.96845 &    19.76066 &    18.960941 & 0.308643832 & 0.340135415 &  0.08117139\\\\\n",
       "\t3 & Q15149 & PLEC\\_HUMAN & PLEC PLEC1    & reviewed & Q15149   & 3202.24443 & 3335.80413 & 3156.99450 &  6151.74000 &  5983.79064 &  6123.508587 & 0.000002830 & 0.000319444 &  0.91329164\\\\\n",
       "\t4 & Q15149 & PLEC\\_HUMAN & PLEC PLEC1    & reviewed & Q15149-8 &   13.18008 &   13.66558 &   13.50839 &    10.36080 &    10.83965 &     9.876971 & 0.002227159 & 0.006280590 & -0.37684673\\\\\n",
       "\t5 & Q15149 & PLEC\\_HUMAN & PLEC PLEC1    & reviewed & Q15149-4 &   12.86596 &   12.27709 &   12.16204 &    32.36789 &    32.90083 &    31.913274 & 0.000001350 & 0.000223258 &  1.38131662\\\\\n",
       "\t6 & P21333 & FLNA\\_HUMAN & FLNA FLN FLN1 & reviewed & P21333-2 & 3657.09665 & 4067.28070 & 3777.62035 &  3550.46341 &  3597.42159 &  3459.932638 & 0.122895987 & 0.146827666 & -0.11675658\\\\\n",
       "\\end{tabular}\n"
      ],
      "text/markdown": [
       "\n",
       "A data.frame: 6 × 14\n",
       "\n",
       "| <!--/--> | Entry &lt;chr&gt; | Entry_name &lt;chr&gt; | Gene_name &lt;chr&gt; | Status &lt;chr&gt; | Accession &lt;chr&gt; | MCF7_1 &lt;dbl&gt; | MCF7_2 &lt;dbl&gt; | MCF7_3 &lt;dbl&gt; | Doxorubicin_1 &lt;dbl&gt; | Doxorubicin_2 &lt;dbl&gt; | Doxorubicin_3 &lt;dbl&gt; | P.value &lt;dbl&gt; | P.adjust &lt;dbl&gt; | log2FC &lt;dbl&gt; |\n",
       "|---|---|---|---|---|---|---|---|---|---|---|---|---|---|---|\n",
       "| 1 | Q09666 | AHNK_HUMAN | AHNAK PM227   | reviewed | Q09666   | 4984.80051 | 4959.72469 | 4885.11485 | 12114.33764 | 11727.54481 | 11587.019520 | 0.000350161 | 0.002141511 |  1.25644317 |\n",
       "| 2 | Q15149 | PLEC_HUMAN | PLEC PLEC1    | reviewed | Q15149-3 |   18.44386 |   20.20029 |   17.78025 |    20.96845 |    19.76066 |    18.960941 | 0.308643832 | 0.340135415 |  0.08117139 |\n",
       "| 3 | Q15149 | PLEC_HUMAN | PLEC PLEC1    | reviewed | Q15149   | 3202.24443 | 3335.80413 | 3156.99450 |  6151.74000 |  5983.79064 |  6123.508587 | 0.000002830 | 0.000319444 |  0.91329164 |\n",
       "| 4 | Q15149 | PLEC_HUMAN | PLEC PLEC1    | reviewed | Q15149-8 |   13.18008 |   13.66558 |   13.50839 |    10.36080 |    10.83965 |     9.876971 | 0.002227159 | 0.006280590 | -0.37684673 |\n",
       "| 5 | Q15149 | PLEC_HUMAN | PLEC PLEC1    | reviewed | Q15149-4 |   12.86596 |   12.27709 |   12.16204 |    32.36789 |    32.90083 |    31.913274 | 0.000001350 | 0.000223258 |  1.38131662 |\n",
       "| 6 | P21333 | FLNA_HUMAN | FLNA FLN FLN1 | reviewed | P21333-2 | 3657.09665 | 4067.28070 | 3777.62035 |  3550.46341 |  3597.42159 |  3459.932638 | 0.122895987 | 0.146827666 | -0.11675658 |\n",
       "\n"
      ],
      "text/plain": [
       "  Entry  Entry_name Gene_name     Status   Accession MCF7_1     MCF7_2    \n",
       "1 Q09666 AHNK_HUMAN AHNAK PM227   reviewed Q09666    4984.80051 4959.72469\n",
       "2 Q15149 PLEC_HUMAN PLEC PLEC1    reviewed Q15149-3    18.44386   20.20029\n",
       "3 Q15149 PLEC_HUMAN PLEC PLEC1    reviewed Q15149    3202.24443 3335.80413\n",
       "4 Q15149 PLEC_HUMAN PLEC PLEC1    reviewed Q15149-8    13.18008   13.66558\n",
       "5 Q15149 PLEC_HUMAN PLEC PLEC1    reviewed Q15149-4    12.86596   12.27709\n",
       "6 P21333 FLNA_HUMAN FLNA FLN FLN1 reviewed P21333-2  3657.09665 4067.28070\n",
       "  MCF7_3     Doxorubicin_1 Doxorubicin_2 Doxorubicin_3 P.value     P.adjust   \n",
       "1 4885.11485 12114.33764   11727.54481   11587.019520  0.000350161 0.002141511\n",
       "2   17.78025    20.96845      19.76066      18.960941  0.308643832 0.340135415\n",
       "3 3156.99450  6151.74000    5983.79064    6123.508587  0.000002830 0.000319444\n",
       "4   13.50839    10.36080      10.83965       9.876971  0.002227159 0.006280590\n",
       "5   12.16204    32.36789      32.90083      31.913274  0.000001350 0.000223258\n",
       "6 3777.62035  3550.46341    3597.42159    3459.932638  0.122895987 0.146827666\n",
       "  log2FC     \n",
       "1  1.25644317\n",
       "2  0.08117139\n",
       "3  0.91329164\n",
       "4 -0.37684673\n",
       "5  1.38131662\n",
       "6 -0.11675658"
      ]
     },
     "metadata": {},
     "output_type": "display_data"
    }
   ],
   "source": [
    "# TSV 파일 읽어오는 방법 2\n",
    "\n",
    "example <- read.table(\"./Example_data.txt\",sep='\\t',header = T)\n",
    "head(example)"
   ]
  },
  {
   "cell_type": "code",
   "execution_count": 18,
   "metadata": {},
   "outputs": [
    {
     "name": "stderr",
     "output_type": "stream",
     "text": [
      "Warning message in scan(file = file, what = what, sep = sep, quote = quote, dec = dec, :\n",
      "“따옴표로 묶인 문자열내에 EOF가 있습니다”\n",
      "Warning message in scan(file = file, what = what, sep = sep, quote = quote, dec = dec, :\n",
      "“읽어들인 항목의 개수가 열의 개수의 배수가 아닙니다”\n"
     ]
    },
    {
     "ename": "ERROR",
     "evalue": "Error in read.table(\"./Example_data.txt\", sep = \"\\t\", header = T, row.names = 1): 중복되는 'row.names'의 값은 허용되지 않습니다\n",
     "output_type": "error",
     "traceback": [
      "Error in read.table(\"./Example_data.txt\", sep = \"\\t\", header = T, row.names = 1): 중복되는 'row.names'의 값은 허용되지 않습니다\nTraceback:\n",
      "1. read.table(\"./Example_data.txt\", sep = \"\\t\", header = T, row.names = 1)",
      "2. stop(\"duplicate 'row.names' are not allowed\")"
     ]
    }
   ],
   "source": [
    "# TSV 파일 읽어오는 방법 3 row.names 안되는 이유!\n",
    "\n",
    "example <- read.table(\"./Example_data.txt\",sep='\\t',header = T,row.names = 1)\n",
    "head(example)"
   ]
  },
  {
   "cell_type": "code",
   "execution_count": 19,
   "metadata": {},
   "outputs": [
    {
     "name": "stderr",
     "output_type": "stream",
     "text": [
      "Warning message in scan(file = file, what = what, sep = sep, quote = quote, dec = dec, :\n",
      "“따옴표로 묶인 문자열내에 EOF가 있습니다”\n",
      "Warning message in scan(file = file, what = what, sep = sep, quote = quote, dec = dec, :\n",
      "“읽어들인 항목의 개수가 열의 개수의 배수가 아닙니다”\n"
     ]
    },
    {
     "data": {
      "text/html": [
       "<table class=\"dataframe\">\n",
       "<caption>A data.frame: 6 × 13</caption>\n",
       "<thead>\n",
       "\t<tr><th></th><th scope=col>Entry</th><th scope=col>Entry_name</th><th scope=col>Gene_name</th><th scope=col>Status</th><th scope=col>MCF7_1</th><th scope=col>MCF7_2</th><th scope=col>MCF7_3</th><th scope=col>Doxorubicin_1</th><th scope=col>Doxorubicin_2</th><th scope=col>Doxorubicin_3</th><th scope=col>P.value</th><th scope=col>P.adjust</th><th scope=col>log2FC</th></tr>\n",
       "\t<tr><th></th><th scope=col>&lt;chr&gt;</th><th scope=col>&lt;chr&gt;</th><th scope=col>&lt;chr&gt;</th><th scope=col>&lt;chr&gt;</th><th scope=col>&lt;dbl&gt;</th><th scope=col>&lt;dbl&gt;</th><th scope=col>&lt;dbl&gt;</th><th scope=col>&lt;dbl&gt;</th><th scope=col>&lt;dbl&gt;</th><th scope=col>&lt;dbl&gt;</th><th scope=col>&lt;dbl&gt;</th><th scope=col>&lt;dbl&gt;</th><th scope=col>&lt;dbl&gt;</th></tr>\n",
       "</thead>\n",
       "<tbody>\n",
       "\t<tr><th scope=row>Q09666</th><td>Q09666</td><td>AHNK_HUMAN</td><td>AHNAK PM227  </td><td>reviewed</td><td>4984.80051</td><td>4959.72469</td><td>4885.11485</td><td>12114.33764</td><td>11727.54481</td><td>11587.019520</td><td>0.000350161</td><td>0.002141511</td><td> 1.25644317</td></tr>\n",
       "\t<tr><th scope=row>Q15149-3</th><td>Q15149</td><td>PLEC_HUMAN</td><td>PLEC PLEC1   </td><td>reviewed</td><td>  18.44386</td><td>  20.20029</td><td>  17.78025</td><td>   20.96845</td><td>   19.76066</td><td>   18.960941</td><td>0.308643832</td><td>0.340135415</td><td> 0.08117139</td></tr>\n",
       "\t<tr><th scope=row>Q15149</th><td>Q15149</td><td>PLEC_HUMAN</td><td>PLEC PLEC1   </td><td>reviewed</td><td>3202.24443</td><td>3335.80413</td><td>3156.99450</td><td> 6151.74000</td><td> 5983.79064</td><td> 6123.508587</td><td>0.000002830</td><td>0.000319444</td><td> 0.91329164</td></tr>\n",
       "\t<tr><th scope=row>Q15149-8</th><td>Q15149</td><td>PLEC_HUMAN</td><td>PLEC PLEC1   </td><td>reviewed</td><td>  13.18008</td><td>  13.66558</td><td>  13.50839</td><td>   10.36080</td><td>   10.83965</td><td>    9.876971</td><td>0.002227159</td><td>0.006280590</td><td>-0.37684673</td></tr>\n",
       "\t<tr><th scope=row>Q15149-4</th><td>Q15149</td><td>PLEC_HUMAN</td><td>PLEC PLEC1   </td><td>reviewed</td><td>  12.86596</td><td>  12.27709</td><td>  12.16204</td><td>   32.36789</td><td>   32.90083</td><td>   31.913274</td><td>0.000001350</td><td>0.000223258</td><td> 1.38131662</td></tr>\n",
       "\t<tr><th scope=row>P21333-2</th><td>P21333</td><td>FLNA_HUMAN</td><td>FLNA FLN FLN1</td><td>reviewed</td><td>3657.09665</td><td>4067.28070</td><td>3777.62035</td><td> 3550.46341</td><td> 3597.42159</td><td> 3459.932638</td><td>0.122895987</td><td>0.146827666</td><td>-0.11675658</td></tr>\n",
       "</tbody>\n",
       "</table>\n"
      ],
      "text/latex": [
       "A data.frame: 6 × 13\n",
       "\\begin{tabular}{r|lllllllllllll}\n",
       "  & Entry & Entry\\_name & Gene\\_name & Status & MCF7\\_1 & MCF7\\_2 & MCF7\\_3 & Doxorubicin\\_1 & Doxorubicin\\_2 & Doxorubicin\\_3 & P.value & P.adjust & log2FC\\\\\n",
       "  & <chr> & <chr> & <chr> & <chr> & <dbl> & <dbl> & <dbl> & <dbl> & <dbl> & <dbl> & <dbl> & <dbl> & <dbl>\\\\\n",
       "\\hline\n",
       "\tQ09666 & Q09666 & AHNK\\_HUMAN & AHNAK PM227   & reviewed & 4984.80051 & 4959.72469 & 4885.11485 & 12114.33764 & 11727.54481 & 11587.019520 & 0.000350161 & 0.002141511 &  1.25644317\\\\\n",
       "\tQ15149-3 & Q15149 & PLEC\\_HUMAN & PLEC PLEC1    & reviewed &   18.44386 &   20.20029 &   17.78025 &    20.96845 &    19.76066 &    18.960941 & 0.308643832 & 0.340135415 &  0.08117139\\\\\n",
       "\tQ15149 & Q15149 & PLEC\\_HUMAN & PLEC PLEC1    & reviewed & 3202.24443 & 3335.80413 & 3156.99450 &  6151.74000 &  5983.79064 &  6123.508587 & 0.000002830 & 0.000319444 &  0.91329164\\\\\n",
       "\tQ15149-8 & Q15149 & PLEC\\_HUMAN & PLEC PLEC1    & reviewed &   13.18008 &   13.66558 &   13.50839 &    10.36080 &    10.83965 &     9.876971 & 0.002227159 & 0.006280590 & -0.37684673\\\\\n",
       "\tQ15149-4 & Q15149 & PLEC\\_HUMAN & PLEC PLEC1    & reviewed &   12.86596 &   12.27709 &   12.16204 &    32.36789 &    32.90083 &    31.913274 & 0.000001350 & 0.000223258 &  1.38131662\\\\\n",
       "\tP21333-2 & P21333 & FLNA\\_HUMAN & FLNA FLN FLN1 & reviewed & 3657.09665 & 4067.28070 & 3777.62035 &  3550.46341 &  3597.42159 &  3459.932638 & 0.122895987 & 0.146827666 & -0.11675658\\\\\n",
       "\\end{tabular}\n"
      ],
      "text/markdown": [
       "\n",
       "A data.frame: 6 × 13\n",
       "\n",
       "| <!--/--> | Entry &lt;chr&gt; | Entry_name &lt;chr&gt; | Gene_name &lt;chr&gt; | Status &lt;chr&gt; | MCF7_1 &lt;dbl&gt; | MCF7_2 &lt;dbl&gt; | MCF7_3 &lt;dbl&gt; | Doxorubicin_1 &lt;dbl&gt; | Doxorubicin_2 &lt;dbl&gt; | Doxorubicin_3 &lt;dbl&gt; | P.value &lt;dbl&gt; | P.adjust &lt;dbl&gt; | log2FC &lt;dbl&gt; |\n",
       "|---|---|---|---|---|---|---|---|---|---|---|---|---|---|\n",
       "| Q09666 | Q09666 | AHNK_HUMAN | AHNAK PM227   | reviewed | 4984.80051 | 4959.72469 | 4885.11485 | 12114.33764 | 11727.54481 | 11587.019520 | 0.000350161 | 0.002141511 |  1.25644317 |\n",
       "| Q15149-3 | Q15149 | PLEC_HUMAN | PLEC PLEC1    | reviewed |   18.44386 |   20.20029 |   17.78025 |    20.96845 |    19.76066 |    18.960941 | 0.308643832 | 0.340135415 |  0.08117139 |\n",
       "| Q15149 | Q15149 | PLEC_HUMAN | PLEC PLEC1    | reviewed | 3202.24443 | 3335.80413 | 3156.99450 |  6151.74000 |  5983.79064 |  6123.508587 | 0.000002830 | 0.000319444 |  0.91329164 |\n",
       "| Q15149-8 | Q15149 | PLEC_HUMAN | PLEC PLEC1    | reviewed |   13.18008 |   13.66558 |   13.50839 |    10.36080 |    10.83965 |     9.876971 | 0.002227159 | 0.006280590 | -0.37684673 |\n",
       "| Q15149-4 | Q15149 | PLEC_HUMAN | PLEC PLEC1    | reviewed |   12.86596 |   12.27709 |   12.16204 |    32.36789 |    32.90083 |    31.913274 | 0.000001350 | 0.000223258 |  1.38131662 |\n",
       "| P21333-2 | P21333 | FLNA_HUMAN | FLNA FLN FLN1 | reviewed | 3657.09665 | 4067.28070 | 3777.62035 |  3550.46341 |  3597.42159 |  3459.932638 | 0.122895987 | 0.146827666 | -0.11675658 |\n",
       "\n"
      ],
      "text/plain": [
       "         Entry  Entry_name Gene_name     Status   MCF7_1     MCF7_2    \n",
       "Q09666   Q09666 AHNK_HUMAN AHNAK PM227   reviewed 4984.80051 4959.72469\n",
       "Q15149-3 Q15149 PLEC_HUMAN PLEC PLEC1    reviewed   18.44386   20.20029\n",
       "Q15149   Q15149 PLEC_HUMAN PLEC PLEC1    reviewed 3202.24443 3335.80413\n",
       "Q15149-8 Q15149 PLEC_HUMAN PLEC PLEC1    reviewed   13.18008   13.66558\n",
       "Q15149-4 Q15149 PLEC_HUMAN PLEC PLEC1    reviewed   12.86596   12.27709\n",
       "P21333-2 P21333 FLNA_HUMAN FLNA FLN FLN1 reviewed 3657.09665 4067.28070\n",
       "         MCF7_3     Doxorubicin_1 Doxorubicin_2 Doxorubicin_3 P.value    \n",
       "Q09666   4885.11485 12114.33764   11727.54481   11587.019520  0.000350161\n",
       "Q15149-3   17.78025    20.96845      19.76066      18.960941  0.308643832\n",
       "Q15149   3156.99450  6151.74000    5983.79064    6123.508587  0.000002830\n",
       "Q15149-8   13.50839    10.36080      10.83965       9.876971  0.002227159\n",
       "Q15149-4   12.16204    32.36789      32.90083      31.913274  0.000001350\n",
       "P21333-2 3777.62035  3550.46341    3597.42159    3459.932638  0.122895987\n",
       "         P.adjust    log2FC     \n",
       "Q09666   0.002141511  1.25644317\n",
       "Q15149-3 0.340135415  0.08117139\n",
       "Q15149   0.000319444  0.91329164\n",
       "Q15149-8 0.006280590 -0.37684673\n",
       "Q15149-4 0.000223258  1.38131662\n",
       "P21333-2 0.146827666 -0.11675658"
      ]
     },
     "metadata": {},
     "output_type": "display_data"
    }
   ],
   "source": [
    "# TSV 파일 읽어오는 방법 3 - 이슈 해결\n",
    "example <- read.table(\"./Example_data.txt\",sep='\\t',header = T,row.names = 5)\n",
    "head(example)\n"
   ]
  },
  {
   "cell_type": "markdown",
   "metadata": {},
   "source": [
    "### CSV 파일 읽어들여서 데이터프레임으로 불러오기"
   ]
  },
  {
   "cell_type": "code",
   "execution_count": 20,
   "metadata": {},
   "outputs": [
    {
     "data": {
      "text/html": [
       "<table class=\"dataframe\">\n",
       "<caption>A data.frame: 6 × 14</caption>\n",
       "<thead>\n",
       "\t<tr><th></th><th scope=col>Entry</th><th scope=col>Entry_name</th><th scope=col>Gene_name</th><th scope=col>Status</th><th scope=col>Accession</th><th scope=col>MCF7_1</th><th scope=col>MCF7_2</th><th scope=col>MCF7_3</th><th scope=col>Doxorubicin_1</th><th scope=col>Doxorubicin_2</th><th scope=col>Doxorubicin_3</th><th scope=col>P.value</th><th scope=col>P.adjust</th><th scope=col>log2FC</th></tr>\n",
       "\t<tr><th></th><th scope=col>&lt;chr&gt;</th><th scope=col>&lt;chr&gt;</th><th scope=col>&lt;chr&gt;</th><th scope=col>&lt;chr&gt;</th><th scope=col>&lt;chr&gt;</th><th scope=col>&lt;dbl&gt;</th><th scope=col>&lt;dbl&gt;</th><th scope=col>&lt;dbl&gt;</th><th scope=col>&lt;dbl&gt;</th><th scope=col>&lt;dbl&gt;</th><th scope=col>&lt;dbl&gt;</th><th scope=col>&lt;dbl&gt;</th><th scope=col>&lt;dbl&gt;</th><th scope=col>&lt;dbl&gt;</th></tr>\n",
       "</thead>\n",
       "<tbody>\n",
       "\t<tr><th scope=row>1</th><td>Q09666</td><td>AHNK_HUMAN</td><td>AHNAK PM227  </td><td>reviewed</td><td>Q09666  </td><td>4984.80051</td><td>4959.72469</td><td>4885.11485</td><td>12114.33764</td><td>11727.54481</td><td>11587.019520</td><td>0.000350161</td><td>0.002141511</td><td> 1.25644317</td></tr>\n",
       "\t<tr><th scope=row>2</th><td>Q15149</td><td>PLEC_HUMAN</td><td>PLEC PLEC1   </td><td>reviewed</td><td>Q15149-3</td><td>  18.44386</td><td>  20.20029</td><td>  17.78025</td><td>   20.96845</td><td>   19.76066</td><td>   18.960941</td><td>0.308643832</td><td>0.340135415</td><td> 0.08117139</td></tr>\n",
       "\t<tr><th scope=row>3</th><td>Q15149</td><td>PLEC_HUMAN</td><td>PLEC PLEC1   </td><td>reviewed</td><td>Q15149  </td><td>3202.24443</td><td>3335.80413</td><td>3156.99450</td><td> 6151.74000</td><td> 5983.79064</td><td> 6123.508587</td><td>0.000002830</td><td>0.000319444</td><td> 0.91329164</td></tr>\n",
       "\t<tr><th scope=row>4</th><td>Q15149</td><td>PLEC_HUMAN</td><td>PLEC PLEC1   </td><td>reviewed</td><td>Q15149-8</td><td>  13.18008</td><td>  13.66558</td><td>  13.50839</td><td>   10.36080</td><td>   10.83965</td><td>    9.876971</td><td>0.002227159</td><td>0.006280590</td><td>-0.37684673</td></tr>\n",
       "\t<tr><th scope=row>5</th><td>Q15149</td><td>PLEC_HUMAN</td><td>PLEC PLEC1   </td><td>reviewed</td><td>Q15149-4</td><td>  12.86596</td><td>  12.27709</td><td>  12.16204</td><td>   32.36789</td><td>   32.90083</td><td>   31.913274</td><td>0.000001350</td><td>0.000223258</td><td> 1.38131662</td></tr>\n",
       "\t<tr><th scope=row>6</th><td>P21333</td><td>FLNA_HUMAN</td><td>FLNA FLN FLN1</td><td>reviewed</td><td>P21333-2</td><td>3657.09665</td><td>4067.28070</td><td>3777.62035</td><td> 3550.46341</td><td> 3597.42159</td><td> 3459.932638</td><td>0.122895987</td><td>0.146827666</td><td>-0.11675658</td></tr>\n",
       "</tbody>\n",
       "</table>\n"
      ],
      "text/latex": [
       "A data.frame: 6 × 14\n",
       "\\begin{tabular}{r|llllllllllllll}\n",
       "  & Entry & Entry\\_name & Gene\\_name & Status & Accession & MCF7\\_1 & MCF7\\_2 & MCF7\\_3 & Doxorubicin\\_1 & Doxorubicin\\_2 & Doxorubicin\\_3 & P.value & P.adjust & log2FC\\\\\n",
       "  & <chr> & <chr> & <chr> & <chr> & <chr> & <dbl> & <dbl> & <dbl> & <dbl> & <dbl> & <dbl> & <dbl> & <dbl> & <dbl>\\\\\n",
       "\\hline\n",
       "\t1 & Q09666 & AHNK\\_HUMAN & AHNAK PM227   & reviewed & Q09666   & 4984.80051 & 4959.72469 & 4885.11485 & 12114.33764 & 11727.54481 & 11587.019520 & 0.000350161 & 0.002141511 &  1.25644317\\\\\n",
       "\t2 & Q15149 & PLEC\\_HUMAN & PLEC PLEC1    & reviewed & Q15149-3 &   18.44386 &   20.20029 &   17.78025 &    20.96845 &    19.76066 &    18.960941 & 0.308643832 & 0.340135415 &  0.08117139\\\\\n",
       "\t3 & Q15149 & PLEC\\_HUMAN & PLEC PLEC1    & reviewed & Q15149   & 3202.24443 & 3335.80413 & 3156.99450 &  6151.74000 &  5983.79064 &  6123.508587 & 0.000002830 & 0.000319444 &  0.91329164\\\\\n",
       "\t4 & Q15149 & PLEC\\_HUMAN & PLEC PLEC1    & reviewed & Q15149-8 &   13.18008 &   13.66558 &   13.50839 &    10.36080 &    10.83965 &     9.876971 & 0.002227159 & 0.006280590 & -0.37684673\\\\\n",
       "\t5 & Q15149 & PLEC\\_HUMAN & PLEC PLEC1    & reviewed & Q15149-4 &   12.86596 &   12.27709 &   12.16204 &    32.36789 &    32.90083 &    31.913274 & 0.000001350 & 0.000223258 &  1.38131662\\\\\n",
       "\t6 & P21333 & FLNA\\_HUMAN & FLNA FLN FLN1 & reviewed & P21333-2 & 3657.09665 & 4067.28070 & 3777.62035 &  3550.46341 &  3597.42159 &  3459.932638 & 0.122895987 & 0.146827666 & -0.11675658\\\\\n",
       "\\end{tabular}\n"
      ],
      "text/markdown": [
       "\n",
       "A data.frame: 6 × 14\n",
       "\n",
       "| <!--/--> | Entry &lt;chr&gt; | Entry_name &lt;chr&gt; | Gene_name &lt;chr&gt; | Status &lt;chr&gt; | Accession &lt;chr&gt; | MCF7_1 &lt;dbl&gt; | MCF7_2 &lt;dbl&gt; | MCF7_3 &lt;dbl&gt; | Doxorubicin_1 &lt;dbl&gt; | Doxorubicin_2 &lt;dbl&gt; | Doxorubicin_3 &lt;dbl&gt; | P.value &lt;dbl&gt; | P.adjust &lt;dbl&gt; | log2FC &lt;dbl&gt; |\n",
       "|---|---|---|---|---|---|---|---|---|---|---|---|---|---|---|\n",
       "| 1 | Q09666 | AHNK_HUMAN | AHNAK PM227   | reviewed | Q09666   | 4984.80051 | 4959.72469 | 4885.11485 | 12114.33764 | 11727.54481 | 11587.019520 | 0.000350161 | 0.002141511 |  1.25644317 |\n",
       "| 2 | Q15149 | PLEC_HUMAN | PLEC PLEC1    | reviewed | Q15149-3 |   18.44386 |   20.20029 |   17.78025 |    20.96845 |    19.76066 |    18.960941 | 0.308643832 | 0.340135415 |  0.08117139 |\n",
       "| 3 | Q15149 | PLEC_HUMAN | PLEC PLEC1    | reviewed | Q15149   | 3202.24443 | 3335.80413 | 3156.99450 |  6151.74000 |  5983.79064 |  6123.508587 | 0.000002830 | 0.000319444 |  0.91329164 |\n",
       "| 4 | Q15149 | PLEC_HUMAN | PLEC PLEC1    | reviewed | Q15149-8 |   13.18008 |   13.66558 |   13.50839 |    10.36080 |    10.83965 |     9.876971 | 0.002227159 | 0.006280590 | -0.37684673 |\n",
       "| 5 | Q15149 | PLEC_HUMAN | PLEC PLEC1    | reviewed | Q15149-4 |   12.86596 |   12.27709 |   12.16204 |    32.36789 |    32.90083 |    31.913274 | 0.000001350 | 0.000223258 |  1.38131662 |\n",
       "| 6 | P21333 | FLNA_HUMAN | FLNA FLN FLN1 | reviewed | P21333-2 | 3657.09665 | 4067.28070 | 3777.62035 |  3550.46341 |  3597.42159 |  3459.932638 | 0.122895987 | 0.146827666 | -0.11675658 |\n",
       "\n"
      ],
      "text/plain": [
       "  Entry  Entry_name Gene_name     Status   Accession MCF7_1     MCF7_2    \n",
       "1 Q09666 AHNK_HUMAN AHNAK PM227   reviewed Q09666    4984.80051 4959.72469\n",
       "2 Q15149 PLEC_HUMAN PLEC PLEC1    reviewed Q15149-3    18.44386   20.20029\n",
       "3 Q15149 PLEC_HUMAN PLEC PLEC1    reviewed Q15149    3202.24443 3335.80413\n",
       "4 Q15149 PLEC_HUMAN PLEC PLEC1    reviewed Q15149-8    13.18008   13.66558\n",
       "5 Q15149 PLEC_HUMAN PLEC PLEC1    reviewed Q15149-4    12.86596   12.27709\n",
       "6 P21333 FLNA_HUMAN FLNA FLN FLN1 reviewed P21333-2  3657.09665 4067.28070\n",
       "  MCF7_3     Doxorubicin_1 Doxorubicin_2 Doxorubicin_3 P.value     P.adjust   \n",
       "1 4885.11485 12114.33764   11727.54481   11587.019520  0.000350161 0.002141511\n",
       "2   17.78025    20.96845      19.76066      18.960941  0.308643832 0.340135415\n",
       "3 3156.99450  6151.74000    5983.79064    6123.508587  0.000002830 0.000319444\n",
       "4   13.50839    10.36080      10.83965       9.876971  0.002227159 0.006280590\n",
       "5   12.16204    32.36789      32.90083      31.913274  0.000001350 0.000223258\n",
       "6 3777.62035  3550.46341    3597.42159    3459.932638  0.122895987 0.146827666\n",
       "  log2FC     \n",
       "1  1.25644317\n",
       "2  0.08117139\n",
       "3  0.91329164\n",
       "4 -0.37684673\n",
       "5  1.38131662\n",
       "6 -0.11675658"
      ]
     },
     "metadata": {},
     "output_type": "display_data"
    }
   ],
   "source": [
    "example<- read.csv(\"./Example_data.csv\")\n",
    "head(example)"
   ]
  },
  {
   "cell_type": "code",
   "execution_count": 21,
   "metadata": {},
   "outputs": [
    {
     "data": {
      "text/html": [
       "<table class=\"dataframe\">\n",
       "<caption>A data.frame: 6 × 14</caption>\n",
       "<thead>\n",
       "\t<tr><th></th><th scope=col>Entry</th><th scope=col>Entry_name</th><th scope=col>Gene_name</th><th scope=col>Status</th><th scope=col>Accession</th><th scope=col>MCF7_1</th><th scope=col>MCF7_2</th><th scope=col>MCF7_3</th><th scope=col>Doxorubicin_1</th><th scope=col>Doxorubicin_2</th><th scope=col>Doxorubicin_3</th><th scope=col>P.value</th><th scope=col>P.adjust</th><th scope=col>log2FC</th></tr>\n",
       "\t<tr><th></th><th scope=col>&lt;chr&gt;</th><th scope=col>&lt;chr&gt;</th><th scope=col>&lt;chr&gt;</th><th scope=col>&lt;chr&gt;</th><th scope=col>&lt;chr&gt;</th><th scope=col>&lt;dbl&gt;</th><th scope=col>&lt;dbl&gt;</th><th scope=col>&lt;dbl&gt;</th><th scope=col>&lt;dbl&gt;</th><th scope=col>&lt;dbl&gt;</th><th scope=col>&lt;dbl&gt;</th><th scope=col>&lt;dbl&gt;</th><th scope=col>&lt;dbl&gt;</th><th scope=col>&lt;dbl&gt;</th></tr>\n",
       "</thead>\n",
       "<tbody>\n",
       "\t<tr><th scope=row>1</th><td>Q09666</td><td>AHNK_HUMAN</td><td>AHNAK PM227  </td><td>reviewed</td><td>Q09666  </td><td>4984.80051</td><td>4959.72469</td><td>4885.11485</td><td>12114.33764</td><td>11727.54481</td><td>11587.019520</td><td>0.000350161</td><td>0.002141511</td><td> 1.25644317</td></tr>\n",
       "\t<tr><th scope=row>2</th><td>Q15149</td><td>PLEC_HUMAN</td><td>PLEC PLEC1   </td><td>reviewed</td><td>Q15149-3</td><td>  18.44386</td><td>  20.20029</td><td>  17.78025</td><td>   20.96845</td><td>   19.76066</td><td>   18.960941</td><td>0.308643832</td><td>0.340135415</td><td> 0.08117139</td></tr>\n",
       "\t<tr><th scope=row>3</th><td>Q15149</td><td>PLEC_HUMAN</td><td>PLEC PLEC1   </td><td>reviewed</td><td>Q15149  </td><td>3202.24443</td><td>3335.80413</td><td>3156.99450</td><td> 6151.74000</td><td> 5983.79064</td><td> 6123.508587</td><td>0.000002830</td><td>0.000319444</td><td> 0.91329164</td></tr>\n",
       "\t<tr><th scope=row>4</th><td>Q15149</td><td>PLEC_HUMAN</td><td>PLEC PLEC1   </td><td>reviewed</td><td>Q15149-8</td><td>  13.18008</td><td>  13.66558</td><td>  13.50839</td><td>   10.36080</td><td>   10.83965</td><td>    9.876971</td><td>0.002227159</td><td>0.006280590</td><td>-0.37684673</td></tr>\n",
       "\t<tr><th scope=row>5</th><td>Q15149</td><td>PLEC_HUMAN</td><td>PLEC PLEC1   </td><td>reviewed</td><td>Q15149-4</td><td>  12.86596</td><td>  12.27709</td><td>  12.16204</td><td>   32.36789</td><td>   32.90083</td><td>   31.913274</td><td>0.000001350</td><td>0.000223258</td><td> 1.38131662</td></tr>\n",
       "\t<tr><th scope=row>6</th><td>P21333</td><td>FLNA_HUMAN</td><td>FLNA FLN FLN1</td><td>reviewed</td><td>P21333-2</td><td>3657.09665</td><td>4067.28070</td><td>3777.62035</td><td> 3550.46341</td><td> 3597.42159</td><td> 3459.932638</td><td>0.122895987</td><td>0.146827666</td><td>-0.11675658</td></tr>\n",
       "</tbody>\n",
       "</table>\n"
      ],
      "text/latex": [
       "A data.frame: 6 × 14\n",
       "\\begin{tabular}{r|llllllllllllll}\n",
       "  & Entry & Entry\\_name & Gene\\_name & Status & Accession & MCF7\\_1 & MCF7\\_2 & MCF7\\_3 & Doxorubicin\\_1 & Doxorubicin\\_2 & Doxorubicin\\_3 & P.value & P.adjust & log2FC\\\\\n",
       "  & <chr> & <chr> & <chr> & <chr> & <chr> & <dbl> & <dbl> & <dbl> & <dbl> & <dbl> & <dbl> & <dbl> & <dbl> & <dbl>\\\\\n",
       "\\hline\n",
       "\t1 & Q09666 & AHNK\\_HUMAN & AHNAK PM227   & reviewed & Q09666   & 4984.80051 & 4959.72469 & 4885.11485 & 12114.33764 & 11727.54481 & 11587.019520 & 0.000350161 & 0.002141511 &  1.25644317\\\\\n",
       "\t2 & Q15149 & PLEC\\_HUMAN & PLEC PLEC1    & reviewed & Q15149-3 &   18.44386 &   20.20029 &   17.78025 &    20.96845 &    19.76066 &    18.960941 & 0.308643832 & 0.340135415 &  0.08117139\\\\\n",
       "\t3 & Q15149 & PLEC\\_HUMAN & PLEC PLEC1    & reviewed & Q15149   & 3202.24443 & 3335.80413 & 3156.99450 &  6151.74000 &  5983.79064 &  6123.508587 & 0.000002830 & 0.000319444 &  0.91329164\\\\\n",
       "\t4 & Q15149 & PLEC\\_HUMAN & PLEC PLEC1    & reviewed & Q15149-8 &   13.18008 &   13.66558 &   13.50839 &    10.36080 &    10.83965 &     9.876971 & 0.002227159 & 0.006280590 & -0.37684673\\\\\n",
       "\t5 & Q15149 & PLEC\\_HUMAN & PLEC PLEC1    & reviewed & Q15149-4 &   12.86596 &   12.27709 &   12.16204 &    32.36789 &    32.90083 &    31.913274 & 0.000001350 & 0.000223258 &  1.38131662\\\\\n",
       "\t6 & P21333 & FLNA\\_HUMAN & FLNA FLN FLN1 & reviewed & P21333-2 & 3657.09665 & 4067.28070 & 3777.62035 &  3550.46341 &  3597.42159 &  3459.932638 & 0.122895987 & 0.146827666 & -0.11675658\\\\\n",
       "\\end{tabular}\n"
      ],
      "text/markdown": [
       "\n",
       "A data.frame: 6 × 14\n",
       "\n",
       "| <!--/--> | Entry &lt;chr&gt; | Entry_name &lt;chr&gt; | Gene_name &lt;chr&gt; | Status &lt;chr&gt; | Accession &lt;chr&gt; | MCF7_1 &lt;dbl&gt; | MCF7_2 &lt;dbl&gt; | MCF7_3 &lt;dbl&gt; | Doxorubicin_1 &lt;dbl&gt; | Doxorubicin_2 &lt;dbl&gt; | Doxorubicin_3 &lt;dbl&gt; | P.value &lt;dbl&gt; | P.adjust &lt;dbl&gt; | log2FC &lt;dbl&gt; |\n",
       "|---|---|---|---|---|---|---|---|---|---|---|---|---|---|---|\n",
       "| 1 | Q09666 | AHNK_HUMAN | AHNAK PM227   | reviewed | Q09666   | 4984.80051 | 4959.72469 | 4885.11485 | 12114.33764 | 11727.54481 | 11587.019520 | 0.000350161 | 0.002141511 |  1.25644317 |\n",
       "| 2 | Q15149 | PLEC_HUMAN | PLEC PLEC1    | reviewed | Q15149-3 |   18.44386 |   20.20029 |   17.78025 |    20.96845 |    19.76066 |    18.960941 | 0.308643832 | 0.340135415 |  0.08117139 |\n",
       "| 3 | Q15149 | PLEC_HUMAN | PLEC PLEC1    | reviewed | Q15149   | 3202.24443 | 3335.80413 | 3156.99450 |  6151.74000 |  5983.79064 |  6123.508587 | 0.000002830 | 0.000319444 |  0.91329164 |\n",
       "| 4 | Q15149 | PLEC_HUMAN | PLEC PLEC1    | reviewed | Q15149-8 |   13.18008 |   13.66558 |   13.50839 |    10.36080 |    10.83965 |     9.876971 | 0.002227159 | 0.006280590 | -0.37684673 |\n",
       "| 5 | Q15149 | PLEC_HUMAN | PLEC PLEC1    | reviewed | Q15149-4 |   12.86596 |   12.27709 |   12.16204 |    32.36789 |    32.90083 |    31.913274 | 0.000001350 | 0.000223258 |  1.38131662 |\n",
       "| 6 | P21333 | FLNA_HUMAN | FLNA FLN FLN1 | reviewed | P21333-2 | 3657.09665 | 4067.28070 | 3777.62035 |  3550.46341 |  3597.42159 |  3459.932638 | 0.122895987 | 0.146827666 | -0.11675658 |\n",
       "\n"
      ],
      "text/plain": [
       "  Entry  Entry_name Gene_name     Status   Accession MCF7_1     MCF7_2    \n",
       "1 Q09666 AHNK_HUMAN AHNAK PM227   reviewed Q09666    4984.80051 4959.72469\n",
       "2 Q15149 PLEC_HUMAN PLEC PLEC1    reviewed Q15149-3    18.44386   20.20029\n",
       "3 Q15149 PLEC_HUMAN PLEC PLEC1    reviewed Q15149    3202.24443 3335.80413\n",
       "4 Q15149 PLEC_HUMAN PLEC PLEC1    reviewed Q15149-8    13.18008   13.66558\n",
       "5 Q15149 PLEC_HUMAN PLEC PLEC1    reviewed Q15149-4    12.86596   12.27709\n",
       "6 P21333 FLNA_HUMAN FLNA FLN FLN1 reviewed P21333-2  3657.09665 4067.28070\n",
       "  MCF7_3     Doxorubicin_1 Doxorubicin_2 Doxorubicin_3 P.value     P.adjust   \n",
       "1 4885.11485 12114.33764   11727.54481   11587.019520  0.000350161 0.002141511\n",
       "2   17.78025    20.96845      19.76066      18.960941  0.308643832 0.340135415\n",
       "3 3156.99450  6151.74000    5983.79064    6123.508587  0.000002830 0.000319444\n",
       "4   13.50839    10.36080      10.83965       9.876971  0.002227159 0.006280590\n",
       "5   12.16204    32.36789      32.90083      31.913274  0.000001350 0.000223258\n",
       "6 3777.62035  3550.46341    3597.42159    3459.932638  0.122895987 0.146827666\n",
       "  log2FC     \n",
       "1  1.25644317\n",
       "2  0.08117139\n",
       "3  0.91329164\n",
       "4 -0.37684673\n",
       "5  1.38131662\n",
       "6 -0.11675658"
      ]
     },
     "metadata": {},
     "output_type": "display_data"
    }
   ],
   "source": [
    "example <- read.csv(\"./Example_data.csv\", header = T)\n",
    "head(example)"
   ]
  },
  {
   "cell_type": "code",
   "execution_count": 22,
   "metadata": {},
   "outputs": [
    {
     "data": {
      "text/html": [
       "<table class=\"dataframe\">\n",
       "<caption>A data.frame: 6 × 13</caption>\n",
       "<thead>\n",
       "\t<tr><th></th><th scope=col>Entry</th><th scope=col>Entry_name</th><th scope=col>Gene_name</th><th scope=col>Status</th><th scope=col>MCF7_1</th><th scope=col>MCF7_2</th><th scope=col>MCF7_3</th><th scope=col>Doxorubicin_1</th><th scope=col>Doxorubicin_2</th><th scope=col>Doxorubicin_3</th><th scope=col>P.value</th><th scope=col>P.adjust</th><th scope=col>log2FC</th></tr>\n",
       "\t<tr><th></th><th scope=col>&lt;chr&gt;</th><th scope=col>&lt;chr&gt;</th><th scope=col>&lt;chr&gt;</th><th scope=col>&lt;chr&gt;</th><th scope=col>&lt;dbl&gt;</th><th scope=col>&lt;dbl&gt;</th><th scope=col>&lt;dbl&gt;</th><th scope=col>&lt;dbl&gt;</th><th scope=col>&lt;dbl&gt;</th><th scope=col>&lt;dbl&gt;</th><th scope=col>&lt;dbl&gt;</th><th scope=col>&lt;dbl&gt;</th><th scope=col>&lt;dbl&gt;</th></tr>\n",
       "</thead>\n",
       "<tbody>\n",
       "\t<tr><th scope=row>Q09666</th><td>Q09666</td><td>AHNK_HUMAN</td><td>AHNAK PM227  </td><td>reviewed</td><td>4984.80051</td><td>4959.72469</td><td>4885.11485</td><td>12114.33764</td><td>11727.54481</td><td>11587.019520</td><td>0.000350161</td><td>0.002141511</td><td> 1.25644317</td></tr>\n",
       "\t<tr><th scope=row>Q15149-3</th><td>Q15149</td><td>PLEC_HUMAN</td><td>PLEC PLEC1   </td><td>reviewed</td><td>  18.44386</td><td>  20.20029</td><td>  17.78025</td><td>   20.96845</td><td>   19.76066</td><td>   18.960941</td><td>0.308643832</td><td>0.340135415</td><td> 0.08117139</td></tr>\n",
       "\t<tr><th scope=row>Q15149</th><td>Q15149</td><td>PLEC_HUMAN</td><td>PLEC PLEC1   </td><td>reviewed</td><td>3202.24443</td><td>3335.80413</td><td>3156.99450</td><td> 6151.74000</td><td> 5983.79064</td><td> 6123.508587</td><td>0.000002830</td><td>0.000319444</td><td> 0.91329164</td></tr>\n",
       "\t<tr><th scope=row>Q15149-8</th><td>Q15149</td><td>PLEC_HUMAN</td><td>PLEC PLEC1   </td><td>reviewed</td><td>  13.18008</td><td>  13.66558</td><td>  13.50839</td><td>   10.36080</td><td>   10.83965</td><td>    9.876971</td><td>0.002227159</td><td>0.006280590</td><td>-0.37684673</td></tr>\n",
       "\t<tr><th scope=row>Q15149-4</th><td>Q15149</td><td>PLEC_HUMAN</td><td>PLEC PLEC1   </td><td>reviewed</td><td>  12.86596</td><td>  12.27709</td><td>  12.16204</td><td>   32.36789</td><td>   32.90083</td><td>   31.913274</td><td>0.000001350</td><td>0.000223258</td><td> 1.38131662</td></tr>\n",
       "\t<tr><th scope=row>P21333-2</th><td>P21333</td><td>FLNA_HUMAN</td><td>FLNA FLN FLN1</td><td>reviewed</td><td>3657.09665</td><td>4067.28070</td><td>3777.62035</td><td> 3550.46341</td><td> 3597.42159</td><td> 3459.932638</td><td>0.122895987</td><td>0.146827666</td><td>-0.11675658</td></tr>\n",
       "</tbody>\n",
       "</table>\n"
      ],
      "text/latex": [
       "A data.frame: 6 × 13\n",
       "\\begin{tabular}{r|lllllllllllll}\n",
       "  & Entry & Entry\\_name & Gene\\_name & Status & MCF7\\_1 & MCF7\\_2 & MCF7\\_3 & Doxorubicin\\_1 & Doxorubicin\\_2 & Doxorubicin\\_3 & P.value & P.adjust & log2FC\\\\\n",
       "  & <chr> & <chr> & <chr> & <chr> & <dbl> & <dbl> & <dbl> & <dbl> & <dbl> & <dbl> & <dbl> & <dbl> & <dbl>\\\\\n",
       "\\hline\n",
       "\tQ09666 & Q09666 & AHNK\\_HUMAN & AHNAK PM227   & reviewed & 4984.80051 & 4959.72469 & 4885.11485 & 12114.33764 & 11727.54481 & 11587.019520 & 0.000350161 & 0.002141511 &  1.25644317\\\\\n",
       "\tQ15149-3 & Q15149 & PLEC\\_HUMAN & PLEC PLEC1    & reviewed &   18.44386 &   20.20029 &   17.78025 &    20.96845 &    19.76066 &    18.960941 & 0.308643832 & 0.340135415 &  0.08117139\\\\\n",
       "\tQ15149 & Q15149 & PLEC\\_HUMAN & PLEC PLEC1    & reviewed & 3202.24443 & 3335.80413 & 3156.99450 &  6151.74000 &  5983.79064 &  6123.508587 & 0.000002830 & 0.000319444 &  0.91329164\\\\\n",
       "\tQ15149-8 & Q15149 & PLEC\\_HUMAN & PLEC PLEC1    & reviewed &   13.18008 &   13.66558 &   13.50839 &    10.36080 &    10.83965 &     9.876971 & 0.002227159 & 0.006280590 & -0.37684673\\\\\n",
       "\tQ15149-4 & Q15149 & PLEC\\_HUMAN & PLEC PLEC1    & reviewed &   12.86596 &   12.27709 &   12.16204 &    32.36789 &    32.90083 &    31.913274 & 0.000001350 & 0.000223258 &  1.38131662\\\\\n",
       "\tP21333-2 & P21333 & FLNA\\_HUMAN & FLNA FLN FLN1 & reviewed & 3657.09665 & 4067.28070 & 3777.62035 &  3550.46341 &  3597.42159 &  3459.932638 & 0.122895987 & 0.146827666 & -0.11675658\\\\\n",
       "\\end{tabular}\n"
      ],
      "text/markdown": [
       "\n",
       "A data.frame: 6 × 13\n",
       "\n",
       "| <!--/--> | Entry &lt;chr&gt; | Entry_name &lt;chr&gt; | Gene_name &lt;chr&gt; | Status &lt;chr&gt; | MCF7_1 &lt;dbl&gt; | MCF7_2 &lt;dbl&gt; | MCF7_3 &lt;dbl&gt; | Doxorubicin_1 &lt;dbl&gt; | Doxorubicin_2 &lt;dbl&gt; | Doxorubicin_3 &lt;dbl&gt; | P.value &lt;dbl&gt; | P.adjust &lt;dbl&gt; | log2FC &lt;dbl&gt; |\n",
       "|---|---|---|---|---|---|---|---|---|---|---|---|---|---|\n",
       "| Q09666 | Q09666 | AHNK_HUMAN | AHNAK PM227   | reviewed | 4984.80051 | 4959.72469 | 4885.11485 | 12114.33764 | 11727.54481 | 11587.019520 | 0.000350161 | 0.002141511 |  1.25644317 |\n",
       "| Q15149-3 | Q15149 | PLEC_HUMAN | PLEC PLEC1    | reviewed |   18.44386 |   20.20029 |   17.78025 |    20.96845 |    19.76066 |    18.960941 | 0.308643832 | 0.340135415 |  0.08117139 |\n",
       "| Q15149 | Q15149 | PLEC_HUMAN | PLEC PLEC1    | reviewed | 3202.24443 | 3335.80413 | 3156.99450 |  6151.74000 |  5983.79064 |  6123.508587 | 0.000002830 | 0.000319444 |  0.91329164 |\n",
       "| Q15149-8 | Q15149 | PLEC_HUMAN | PLEC PLEC1    | reviewed |   13.18008 |   13.66558 |   13.50839 |    10.36080 |    10.83965 |     9.876971 | 0.002227159 | 0.006280590 | -0.37684673 |\n",
       "| Q15149-4 | Q15149 | PLEC_HUMAN | PLEC PLEC1    | reviewed |   12.86596 |   12.27709 |   12.16204 |    32.36789 |    32.90083 |    31.913274 | 0.000001350 | 0.000223258 |  1.38131662 |\n",
       "| P21333-2 | P21333 | FLNA_HUMAN | FLNA FLN FLN1 | reviewed | 3657.09665 | 4067.28070 | 3777.62035 |  3550.46341 |  3597.42159 |  3459.932638 | 0.122895987 | 0.146827666 | -0.11675658 |\n",
       "\n"
      ],
      "text/plain": [
       "         Entry  Entry_name Gene_name     Status   MCF7_1     MCF7_2    \n",
       "Q09666   Q09666 AHNK_HUMAN AHNAK PM227   reviewed 4984.80051 4959.72469\n",
       "Q15149-3 Q15149 PLEC_HUMAN PLEC PLEC1    reviewed   18.44386   20.20029\n",
       "Q15149   Q15149 PLEC_HUMAN PLEC PLEC1    reviewed 3202.24443 3335.80413\n",
       "Q15149-8 Q15149 PLEC_HUMAN PLEC PLEC1    reviewed   13.18008   13.66558\n",
       "Q15149-4 Q15149 PLEC_HUMAN PLEC PLEC1    reviewed   12.86596   12.27709\n",
       "P21333-2 P21333 FLNA_HUMAN FLNA FLN FLN1 reviewed 3657.09665 4067.28070\n",
       "         MCF7_3     Doxorubicin_1 Doxorubicin_2 Doxorubicin_3 P.value    \n",
       "Q09666   4885.11485 12114.33764   11727.54481   11587.019520  0.000350161\n",
       "Q15149-3   17.78025    20.96845      19.76066      18.960941  0.308643832\n",
       "Q15149   3156.99450  6151.74000    5983.79064    6123.508587  0.000002830\n",
       "Q15149-8   13.50839    10.36080      10.83965       9.876971  0.002227159\n",
       "Q15149-4   12.16204    32.36789      32.90083      31.913274  0.000001350\n",
       "P21333-2 3777.62035  3550.46341    3597.42159    3459.932638  0.122895987\n",
       "         P.adjust    log2FC     \n",
       "Q09666   0.002141511  1.25644317\n",
       "Q15149-3 0.340135415  0.08117139\n",
       "Q15149   0.000319444  0.91329164\n",
       "Q15149-8 0.006280590 -0.37684673\n",
       "Q15149-4 0.000223258  1.38131662\n",
       "P21333-2 0.146827666 -0.11675658"
      ]
     },
     "metadata": {},
     "output_type": "display_data"
    }
   ],
   "source": [
    "example <- read.csv(\"./Example_data.csv\", header = T,row.names = 5)\n",
    "head(example)"
   ]
  },
  {
   "cell_type": "code",
   "execution_count": 23,
   "metadata": {},
   "outputs": [
    {
     "data": {
      "text/html": [
       "'data.frame'"
      ],
      "text/latex": [
       "'data.frame'"
      ],
      "text/markdown": [
       "'data.frame'"
      ],
      "text/plain": [
       "[1] \"data.frame\""
      ]
     },
     "metadata": {},
     "output_type": "display_data"
    }
   ],
   "source": [
    "class(example)"
   ]
  },
  {
   "cell_type": "markdown",
   "metadata": {},
   "source": [
    "# Ch.2 데이터 프레임 핸들링"
   ]
  },
  {
   "cell_type": "code",
   "execution_count": 24,
   "metadata": {},
   "outputs": [
    {
     "data": {
      "text/html": [
       "<table class=\"dataframe\">\n",
       "<caption>A data.frame: 6 × 13</caption>\n",
       "<thead>\n",
       "\t<tr><th></th><th scope=col>Entry</th><th scope=col>Entry_name</th><th scope=col>Gene_name</th><th scope=col>Status</th><th scope=col>MCF7_1</th><th scope=col>MCF7_2</th><th scope=col>MCF7_3</th><th scope=col>Doxorubicin_1</th><th scope=col>Doxorubicin_2</th><th scope=col>Doxorubicin_3</th><th scope=col>P.value</th><th scope=col>P.adjust</th><th scope=col>log2FC</th></tr>\n",
       "\t<tr><th></th><th scope=col>&lt;chr&gt;</th><th scope=col>&lt;chr&gt;</th><th scope=col>&lt;chr&gt;</th><th scope=col>&lt;chr&gt;</th><th scope=col>&lt;dbl&gt;</th><th scope=col>&lt;dbl&gt;</th><th scope=col>&lt;dbl&gt;</th><th scope=col>&lt;dbl&gt;</th><th scope=col>&lt;dbl&gt;</th><th scope=col>&lt;dbl&gt;</th><th scope=col>&lt;dbl&gt;</th><th scope=col>&lt;dbl&gt;</th><th scope=col>&lt;dbl&gt;</th></tr>\n",
       "</thead>\n",
       "<tbody>\n",
       "\t<tr><th scope=row>Q09666</th><td>Q09666</td><td>AHNK_HUMAN</td><td>AHNAK PM227  </td><td>reviewed</td><td>4984.80051</td><td>4959.72469</td><td>4885.11485</td><td>12114.33764</td><td>11727.54481</td><td>11587.019520</td><td>0.000350161</td><td>0.002141511</td><td> 1.25644317</td></tr>\n",
       "\t<tr><th scope=row>Q15149-3</th><td>Q15149</td><td>PLEC_HUMAN</td><td>PLEC PLEC1   </td><td>reviewed</td><td>  18.44386</td><td>  20.20029</td><td>  17.78025</td><td>   20.96845</td><td>   19.76066</td><td>   18.960941</td><td>0.308643832</td><td>0.340135415</td><td> 0.08117139</td></tr>\n",
       "\t<tr><th scope=row>Q15149</th><td>Q15149</td><td>PLEC_HUMAN</td><td>PLEC PLEC1   </td><td>reviewed</td><td>3202.24443</td><td>3335.80413</td><td>3156.99450</td><td> 6151.74000</td><td> 5983.79064</td><td> 6123.508587</td><td>0.000002830</td><td>0.000319444</td><td> 0.91329164</td></tr>\n",
       "\t<tr><th scope=row>Q15149-8</th><td>Q15149</td><td>PLEC_HUMAN</td><td>PLEC PLEC1   </td><td>reviewed</td><td>  13.18008</td><td>  13.66558</td><td>  13.50839</td><td>   10.36080</td><td>   10.83965</td><td>    9.876971</td><td>0.002227159</td><td>0.006280590</td><td>-0.37684673</td></tr>\n",
       "\t<tr><th scope=row>Q15149-4</th><td>Q15149</td><td>PLEC_HUMAN</td><td>PLEC PLEC1   </td><td>reviewed</td><td>  12.86596</td><td>  12.27709</td><td>  12.16204</td><td>   32.36789</td><td>   32.90083</td><td>   31.913274</td><td>0.000001350</td><td>0.000223258</td><td> 1.38131662</td></tr>\n",
       "\t<tr><th scope=row>P21333-2</th><td>P21333</td><td>FLNA_HUMAN</td><td>FLNA FLN FLN1</td><td>reviewed</td><td>3657.09665</td><td>4067.28070</td><td>3777.62035</td><td> 3550.46341</td><td> 3597.42159</td><td> 3459.932638</td><td>0.122895987</td><td>0.146827666</td><td>-0.11675658</td></tr>\n",
       "</tbody>\n",
       "</table>\n"
      ],
      "text/latex": [
       "A data.frame: 6 × 13\n",
       "\\begin{tabular}{r|lllllllllllll}\n",
       "  & Entry & Entry\\_name & Gene\\_name & Status & MCF7\\_1 & MCF7\\_2 & MCF7\\_3 & Doxorubicin\\_1 & Doxorubicin\\_2 & Doxorubicin\\_3 & P.value & P.adjust & log2FC\\\\\n",
       "  & <chr> & <chr> & <chr> & <chr> & <dbl> & <dbl> & <dbl> & <dbl> & <dbl> & <dbl> & <dbl> & <dbl> & <dbl>\\\\\n",
       "\\hline\n",
       "\tQ09666 & Q09666 & AHNK\\_HUMAN & AHNAK PM227   & reviewed & 4984.80051 & 4959.72469 & 4885.11485 & 12114.33764 & 11727.54481 & 11587.019520 & 0.000350161 & 0.002141511 &  1.25644317\\\\\n",
       "\tQ15149-3 & Q15149 & PLEC\\_HUMAN & PLEC PLEC1    & reviewed &   18.44386 &   20.20029 &   17.78025 &    20.96845 &    19.76066 &    18.960941 & 0.308643832 & 0.340135415 &  0.08117139\\\\\n",
       "\tQ15149 & Q15149 & PLEC\\_HUMAN & PLEC PLEC1    & reviewed & 3202.24443 & 3335.80413 & 3156.99450 &  6151.74000 &  5983.79064 &  6123.508587 & 0.000002830 & 0.000319444 &  0.91329164\\\\\n",
       "\tQ15149-8 & Q15149 & PLEC\\_HUMAN & PLEC PLEC1    & reviewed &   13.18008 &   13.66558 &   13.50839 &    10.36080 &    10.83965 &     9.876971 & 0.002227159 & 0.006280590 & -0.37684673\\\\\n",
       "\tQ15149-4 & Q15149 & PLEC\\_HUMAN & PLEC PLEC1    & reviewed &   12.86596 &   12.27709 &   12.16204 &    32.36789 &    32.90083 &    31.913274 & 0.000001350 & 0.000223258 &  1.38131662\\\\\n",
       "\tP21333-2 & P21333 & FLNA\\_HUMAN & FLNA FLN FLN1 & reviewed & 3657.09665 & 4067.28070 & 3777.62035 &  3550.46341 &  3597.42159 &  3459.932638 & 0.122895987 & 0.146827666 & -0.11675658\\\\\n",
       "\\end{tabular}\n"
      ],
      "text/markdown": [
       "\n",
       "A data.frame: 6 × 13\n",
       "\n",
       "| <!--/--> | Entry &lt;chr&gt; | Entry_name &lt;chr&gt; | Gene_name &lt;chr&gt; | Status &lt;chr&gt; | MCF7_1 &lt;dbl&gt; | MCF7_2 &lt;dbl&gt; | MCF7_3 &lt;dbl&gt; | Doxorubicin_1 &lt;dbl&gt; | Doxorubicin_2 &lt;dbl&gt; | Doxorubicin_3 &lt;dbl&gt; | P.value &lt;dbl&gt; | P.adjust &lt;dbl&gt; | log2FC &lt;dbl&gt; |\n",
       "|---|---|---|---|---|---|---|---|---|---|---|---|---|---|\n",
       "| Q09666 | Q09666 | AHNK_HUMAN | AHNAK PM227   | reviewed | 4984.80051 | 4959.72469 | 4885.11485 | 12114.33764 | 11727.54481 | 11587.019520 | 0.000350161 | 0.002141511 |  1.25644317 |\n",
       "| Q15149-3 | Q15149 | PLEC_HUMAN | PLEC PLEC1    | reviewed |   18.44386 |   20.20029 |   17.78025 |    20.96845 |    19.76066 |    18.960941 | 0.308643832 | 0.340135415 |  0.08117139 |\n",
       "| Q15149 | Q15149 | PLEC_HUMAN | PLEC PLEC1    | reviewed | 3202.24443 | 3335.80413 | 3156.99450 |  6151.74000 |  5983.79064 |  6123.508587 | 0.000002830 | 0.000319444 |  0.91329164 |\n",
       "| Q15149-8 | Q15149 | PLEC_HUMAN | PLEC PLEC1    | reviewed |   13.18008 |   13.66558 |   13.50839 |    10.36080 |    10.83965 |     9.876971 | 0.002227159 | 0.006280590 | -0.37684673 |\n",
       "| Q15149-4 | Q15149 | PLEC_HUMAN | PLEC PLEC1    | reviewed |   12.86596 |   12.27709 |   12.16204 |    32.36789 |    32.90083 |    31.913274 | 0.000001350 | 0.000223258 |  1.38131662 |\n",
       "| P21333-2 | P21333 | FLNA_HUMAN | FLNA FLN FLN1 | reviewed | 3657.09665 | 4067.28070 | 3777.62035 |  3550.46341 |  3597.42159 |  3459.932638 | 0.122895987 | 0.146827666 | -0.11675658 |\n",
       "\n"
      ],
      "text/plain": [
       "         Entry  Entry_name Gene_name     Status   MCF7_1     MCF7_2    \n",
       "Q09666   Q09666 AHNK_HUMAN AHNAK PM227   reviewed 4984.80051 4959.72469\n",
       "Q15149-3 Q15149 PLEC_HUMAN PLEC PLEC1    reviewed   18.44386   20.20029\n",
       "Q15149   Q15149 PLEC_HUMAN PLEC PLEC1    reviewed 3202.24443 3335.80413\n",
       "Q15149-8 Q15149 PLEC_HUMAN PLEC PLEC1    reviewed   13.18008   13.66558\n",
       "Q15149-4 Q15149 PLEC_HUMAN PLEC PLEC1    reviewed   12.86596   12.27709\n",
       "P21333-2 P21333 FLNA_HUMAN FLNA FLN FLN1 reviewed 3657.09665 4067.28070\n",
       "         MCF7_3     Doxorubicin_1 Doxorubicin_2 Doxorubicin_3 P.value    \n",
       "Q09666   4885.11485 12114.33764   11727.54481   11587.019520  0.000350161\n",
       "Q15149-3   17.78025    20.96845      19.76066      18.960941  0.308643832\n",
       "Q15149   3156.99450  6151.74000    5983.79064    6123.508587  0.000002830\n",
       "Q15149-8   13.50839    10.36080      10.83965       9.876971  0.002227159\n",
       "Q15149-4   12.16204    32.36789      32.90083      31.913274  0.000001350\n",
       "P21333-2 3777.62035  3550.46341    3597.42159    3459.932638  0.122895987\n",
       "         P.adjust    log2FC     \n",
       "Q09666   0.002141511  1.25644317\n",
       "Q15149-3 0.340135415  0.08117139\n",
       "Q15149   0.000319444  0.91329164\n",
       "Q15149-8 0.006280590 -0.37684673\n",
       "Q15149-4 0.000223258  1.38131662\n",
       "P21333-2 0.146827666 -0.11675658"
      ]
     },
     "metadata": {},
     "output_type": "display_data"
    }
   ],
   "source": [
    "head(example)"
   ]
  },
  {
   "cell_type": "code",
   "execution_count": 25,
   "metadata": {},
   "outputs": [
    {
     "data": {
      "text/html": [
       "7755"
      ],
      "text/latex": [
       "7755"
      ],
      "text/markdown": [
       "7755"
      ],
      "text/plain": [
       "[1] 7755"
      ]
     },
     "metadata": {},
     "output_type": "display_data"
    },
    {
     "data": {
      "text/html": [
       "13"
      ],
      "text/latex": [
       "13"
      ],
      "text/markdown": [
       "13"
      ],
      "text/plain": [
       "[1] 13"
      ]
     },
     "metadata": {},
     "output_type": "display_data"
    },
    {
     "data": {
      "text/html": [
       "<style>\n",
       ".list-inline {list-style: none; margin:0; padding: 0}\n",
       ".list-inline>li {display: inline-block}\n",
       ".list-inline>li:not(:last-child)::after {content: \"\\00b7\"; padding: 0 .5ex}\n",
       "</style>\n",
       "<ol class=list-inline><li>7755</li><li>13</li></ol>\n"
      ],
      "text/latex": [
       "\\begin{enumerate*}\n",
       "\\item 7755\n",
       "\\item 13\n",
       "\\end{enumerate*}\n"
      ],
      "text/markdown": [
       "1. 7755\n",
       "2. 13\n",
       "\n",
       "\n"
      ],
      "text/plain": [
       "[1] 7755   13"
      ]
     },
     "metadata": {},
     "output_type": "display_data"
    }
   ],
   "source": [
    "# 데이터프레임의 크기 확인하기 \n",
    "\n",
    "# row 길이 보기\n",
    "nrow(example)  \n",
    "\n",
    "# column 길이 보기\n",
    "ncol(example)  \n",
    "\n",
    " # 행렬 보기\n",
    "dim(example)  "
   ]
  },
  {
   "cell_type": "code",
   "execution_count": 26,
   "metadata": {},
   "outputs": [
    {
     "name": "stdout",
     "output_type": "stream",
     "text": [
      "조회하는 방법 1"
     ]
    },
    {
     "data": {
      "text/html": [
       "<style>\n",
       ".list-inline {list-style: none; margin:0; padding: 0}\n",
       ".list-inline>li {display: inline-block}\n",
       ".list-inline>li:not(:last-child)::after {content: \"\\00b7\"; padding: 0 .5ex}\n",
       "</style>\n",
       "<ol class=list-inline><li>'Q09666'</li><li>'Q15149'</li><li>'Q15149'</li><li>'Q15149'</li><li>'Q15149'</li><li>'P21333'</li></ol>\n"
      ],
      "text/latex": [
       "\\begin{enumerate*}\n",
       "\\item 'Q09666'\n",
       "\\item 'Q15149'\n",
       "\\item 'Q15149'\n",
       "\\item 'Q15149'\n",
       "\\item 'Q15149'\n",
       "\\item 'P21333'\n",
       "\\end{enumerate*}\n"
      ],
      "text/markdown": [
       "1. 'Q09666'\n",
       "2. 'Q15149'\n",
       "3. 'Q15149'\n",
       "4. 'Q15149'\n",
       "5. 'Q15149'\n",
       "6. 'P21333'\n",
       "\n",
       "\n"
      ],
      "text/plain": [
       "[1] \"Q09666\" \"Q15149\" \"Q15149\" \"Q15149\" \"Q15149\" \"P21333\""
      ]
     },
     "metadata": {},
     "output_type": "display_data"
    },
    {
     "name": "stdout",
     "output_type": "stream",
     "text": [
      "조회하는 방법 1-2"
     ]
    },
    {
     "data": {
      "text/html": [
       "<table class=\"dataframe\">\n",
       "<caption>A data.frame: 1 × 13</caption>\n",
       "<thead>\n",
       "\t<tr><th></th><th scope=col>Entry</th><th scope=col>Entry_name</th><th scope=col>Gene_name</th><th scope=col>Status</th><th scope=col>MCF7_1</th><th scope=col>MCF7_2</th><th scope=col>MCF7_3</th><th scope=col>Doxorubicin_1</th><th scope=col>Doxorubicin_2</th><th scope=col>Doxorubicin_3</th><th scope=col>P.value</th><th scope=col>P.adjust</th><th scope=col>log2FC</th></tr>\n",
       "\t<tr><th></th><th scope=col>&lt;chr&gt;</th><th scope=col>&lt;chr&gt;</th><th scope=col>&lt;chr&gt;</th><th scope=col>&lt;chr&gt;</th><th scope=col>&lt;dbl&gt;</th><th scope=col>&lt;dbl&gt;</th><th scope=col>&lt;dbl&gt;</th><th scope=col>&lt;dbl&gt;</th><th scope=col>&lt;dbl&gt;</th><th scope=col>&lt;dbl&gt;</th><th scope=col>&lt;dbl&gt;</th><th scope=col>&lt;dbl&gt;</th><th scope=col>&lt;dbl&gt;</th></tr>\n",
       "</thead>\n",
       "<tbody>\n",
       "\t<tr><th scope=row>Q09666</th><td>Q09666</td><td>AHNK_HUMAN</td><td>AHNAK PM227</td><td>reviewed</td><td>4984.801</td><td>4959.725</td><td>4885.115</td><td>12114.34</td><td>11727.54</td><td>11587.02</td><td>0.000350161</td><td>0.002141511</td><td>1.256443</td></tr>\n",
       "</tbody>\n",
       "</table>\n"
      ],
      "text/latex": [
       "A data.frame: 1 × 13\n",
       "\\begin{tabular}{r|lllllllllllll}\n",
       "  & Entry & Entry\\_name & Gene\\_name & Status & MCF7\\_1 & MCF7\\_2 & MCF7\\_3 & Doxorubicin\\_1 & Doxorubicin\\_2 & Doxorubicin\\_3 & P.value & P.adjust & log2FC\\\\\n",
       "  & <chr> & <chr> & <chr> & <chr> & <dbl> & <dbl> & <dbl> & <dbl> & <dbl> & <dbl> & <dbl> & <dbl> & <dbl>\\\\\n",
       "\\hline\n",
       "\tQ09666 & Q09666 & AHNK\\_HUMAN & AHNAK PM227 & reviewed & 4984.801 & 4959.725 & 4885.115 & 12114.34 & 11727.54 & 11587.02 & 0.000350161 & 0.002141511 & 1.256443\\\\\n",
       "\\end{tabular}\n"
      ],
      "text/markdown": [
       "\n",
       "A data.frame: 1 × 13\n",
       "\n",
       "| <!--/--> | Entry &lt;chr&gt; | Entry_name &lt;chr&gt; | Gene_name &lt;chr&gt; | Status &lt;chr&gt; | MCF7_1 &lt;dbl&gt; | MCF7_2 &lt;dbl&gt; | MCF7_3 &lt;dbl&gt; | Doxorubicin_1 &lt;dbl&gt; | Doxorubicin_2 &lt;dbl&gt; | Doxorubicin_3 &lt;dbl&gt; | P.value &lt;dbl&gt; | P.adjust &lt;dbl&gt; | log2FC &lt;dbl&gt; |\n",
       "|---|---|---|---|---|---|---|---|---|---|---|---|---|---|\n",
       "| Q09666 | Q09666 | AHNK_HUMAN | AHNAK PM227 | reviewed | 4984.801 | 4959.725 | 4885.115 | 12114.34 | 11727.54 | 11587.02 | 0.000350161 | 0.002141511 | 1.256443 |\n",
       "\n"
      ],
      "text/plain": [
       "       Entry  Entry_name Gene_name   Status   MCF7_1   MCF7_2   MCF7_3  \n",
       "Q09666 Q09666 AHNK_HUMAN AHNAK PM227 reviewed 4984.801 4959.725 4885.115\n",
       "       Doxorubicin_1 Doxorubicin_2 Doxorubicin_3 P.value     P.adjust   \n",
       "Q09666 12114.34      11727.54      11587.02      0.000350161 0.002141511\n",
       "       log2FC  \n",
       "Q09666 1.256443"
      ]
     },
     "metadata": {},
     "output_type": "display_data"
    },
    {
     "name": "stdout",
     "output_type": "stream",
     "text": [
      "조회하는 방법 1-3"
     ]
    },
    {
     "data": {
      "text/html": [
       "<table class=\"dataframe\">\n",
       "<caption>A data.frame: 6 × 1</caption>\n",
       "<thead>\n",
       "\t<tr><th></th><th scope=col>Entry</th></tr>\n",
       "\t<tr><th></th><th scope=col>&lt;chr&gt;</th></tr>\n",
       "</thead>\n",
       "<tbody>\n",
       "\t<tr><th scope=row>Q09666</th><td>Q09666</td></tr>\n",
       "\t<tr><th scope=row>Q15149-3</th><td>Q15149</td></tr>\n",
       "\t<tr><th scope=row>Q15149</th><td>Q15149</td></tr>\n",
       "\t<tr><th scope=row>Q15149-8</th><td>Q15149</td></tr>\n",
       "\t<tr><th scope=row>Q15149-4</th><td>Q15149</td></tr>\n",
       "\t<tr><th scope=row>P21333-2</th><td>P21333</td></tr>\n",
       "</tbody>\n",
       "</table>\n"
      ],
      "text/latex": [
       "A data.frame: 6 × 1\n",
       "\\begin{tabular}{r|l}\n",
       "  & Entry\\\\\n",
       "  & <chr>\\\\\n",
       "\\hline\n",
       "\tQ09666 & Q09666\\\\\n",
       "\tQ15149-3 & Q15149\\\\\n",
       "\tQ15149 & Q15149\\\\\n",
       "\tQ15149-8 & Q15149\\\\\n",
       "\tQ15149-4 & Q15149\\\\\n",
       "\tP21333-2 & P21333\\\\\n",
       "\\end{tabular}\n"
      ],
      "text/markdown": [
       "\n",
       "A data.frame: 6 × 1\n",
       "\n",
       "| <!--/--> | Entry &lt;chr&gt; |\n",
       "|---|---|\n",
       "| Q09666 | Q09666 |\n",
       "| Q15149-3 | Q15149 |\n",
       "| Q15149 | Q15149 |\n",
       "| Q15149-8 | Q15149 |\n",
       "| Q15149-4 | Q15149 |\n",
       "| P21333-2 | P21333 |\n",
       "\n"
      ],
      "text/plain": [
       "         Entry \n",
       "Q09666   Q09666\n",
       "Q15149-3 Q15149\n",
       "Q15149   Q15149\n",
       "Q15149-8 Q15149\n",
       "Q15149-4 Q15149\n",
       "P21333-2 P21333"
      ]
     },
     "metadata": {},
     "output_type": "display_data"
    },
    {
     "name": "stdout",
     "output_type": "stream",
     "text": [
      "조회하는 방법 2"
     ]
    },
    {
     "data": {
      "text/html": [
       "<style>\n",
       ".list-inline {list-style: none; margin:0; padding: 0}\n",
       ".list-inline>li {display: inline-block}\n",
       ".list-inline>li:not(:last-child)::after {content: \"\\00b7\"; padding: 0 .5ex}\n",
       "</style>\n",
       "<ol class=list-inline><li>'Q09666'</li><li>'Q15149'</li><li>'Q15149'</li><li>'Q15149'</li><li>'Q15149'</li><li>'P21333'</li></ol>\n"
      ],
      "text/latex": [
       "\\begin{enumerate*}\n",
       "\\item 'Q09666'\n",
       "\\item 'Q15149'\n",
       "\\item 'Q15149'\n",
       "\\item 'Q15149'\n",
       "\\item 'Q15149'\n",
       "\\item 'P21333'\n",
       "\\end{enumerate*}\n"
      ],
      "text/markdown": [
       "1. 'Q09666'\n",
       "2. 'Q15149'\n",
       "3. 'Q15149'\n",
       "4. 'Q15149'\n",
       "5. 'Q15149'\n",
       "6. 'P21333'\n",
       "\n",
       "\n"
      ],
      "text/plain": [
       "[1] \"Q09666\" \"Q15149\" \"Q15149\" \"Q15149\" \"Q15149\" \"P21333\""
      ]
     },
     "metadata": {},
     "output_type": "display_data"
    }
   ],
   "source": [
    "# 데이터 프레임 열 조회하기\n",
    "\n",
    "\n",
    "\n",
    "cat(\"조회하는 방법 1\")\n",
    "head(example[,1])\n",
    "\n",
    "cat(\"조회하는 방법 1-2\")\n",
    "head(example[1,])\n",
    "\n",
    "cat(\"조회하는 방법 1-3\")\n",
    "head(example[1])\n",
    "\n",
    "cat(\"조회하는 방법 2\")\n",
    "head(example$Entry)\n",
    "\n",
    "\n"
   ]
  },
  {
   "cell_type": "code",
   "execution_count": 27,
   "metadata": {},
   "outputs": [
    {
     "data": {
      "text/html": [
       "<table class=\"dataframe\">\n",
       "<caption>A data.frame: 6 × 6</caption>\n",
       "<thead>\n",
       "\t<tr><th></th><th scope=col>MCF7_1</th><th scope=col>MCF7_2</th><th scope=col>MCF7_3</th><th scope=col>Doxorubicin_1</th><th scope=col>Doxorubicin_2</th><th scope=col>Doxorubicin_3</th></tr>\n",
       "\t<tr><th></th><th scope=col>&lt;dbl&gt;</th><th scope=col>&lt;dbl&gt;</th><th scope=col>&lt;dbl&gt;</th><th scope=col>&lt;dbl&gt;</th><th scope=col>&lt;dbl&gt;</th><th scope=col>&lt;dbl&gt;</th></tr>\n",
       "</thead>\n",
       "<tbody>\n",
       "\t<tr><th scope=row>Q09666</th><td>4984.80051</td><td>4959.72469</td><td>4885.11485</td><td>12114.33764</td><td>11727.54481</td><td>11587.019520</td></tr>\n",
       "\t<tr><th scope=row>Q15149-3</th><td>  18.44386</td><td>  20.20029</td><td>  17.78025</td><td>   20.96845</td><td>   19.76066</td><td>   18.960941</td></tr>\n",
       "\t<tr><th scope=row>Q15149</th><td>3202.24443</td><td>3335.80413</td><td>3156.99450</td><td> 6151.74000</td><td> 5983.79064</td><td> 6123.508587</td></tr>\n",
       "\t<tr><th scope=row>Q15149-8</th><td>  13.18008</td><td>  13.66558</td><td>  13.50839</td><td>   10.36080</td><td>   10.83965</td><td>    9.876971</td></tr>\n",
       "\t<tr><th scope=row>Q15149-4</th><td>  12.86596</td><td>  12.27709</td><td>  12.16204</td><td>   32.36789</td><td>   32.90083</td><td>   31.913274</td></tr>\n",
       "\t<tr><th scope=row>P21333-2</th><td>3657.09665</td><td>4067.28070</td><td>3777.62035</td><td> 3550.46341</td><td> 3597.42159</td><td> 3459.932638</td></tr>\n",
       "</tbody>\n",
       "</table>\n"
      ],
      "text/latex": [
       "A data.frame: 6 × 6\n",
       "\\begin{tabular}{r|llllll}\n",
       "  & MCF7\\_1 & MCF7\\_2 & MCF7\\_3 & Doxorubicin\\_1 & Doxorubicin\\_2 & Doxorubicin\\_3\\\\\n",
       "  & <dbl> & <dbl> & <dbl> & <dbl> & <dbl> & <dbl>\\\\\n",
       "\\hline\n",
       "\tQ09666 & 4984.80051 & 4959.72469 & 4885.11485 & 12114.33764 & 11727.54481 & 11587.019520\\\\\n",
       "\tQ15149-3 &   18.44386 &   20.20029 &   17.78025 &    20.96845 &    19.76066 &    18.960941\\\\\n",
       "\tQ15149 & 3202.24443 & 3335.80413 & 3156.99450 &  6151.74000 &  5983.79064 &  6123.508587\\\\\n",
       "\tQ15149-8 &   13.18008 &   13.66558 &   13.50839 &    10.36080 &    10.83965 &     9.876971\\\\\n",
       "\tQ15149-4 &   12.86596 &   12.27709 &   12.16204 &    32.36789 &    32.90083 &    31.913274\\\\\n",
       "\tP21333-2 & 3657.09665 & 4067.28070 & 3777.62035 &  3550.46341 &  3597.42159 &  3459.932638\\\\\n",
       "\\end{tabular}\n"
      ],
      "text/markdown": [
       "\n",
       "A data.frame: 6 × 6\n",
       "\n",
       "| <!--/--> | MCF7_1 &lt;dbl&gt; | MCF7_2 &lt;dbl&gt; | MCF7_3 &lt;dbl&gt; | Doxorubicin_1 &lt;dbl&gt; | Doxorubicin_2 &lt;dbl&gt; | Doxorubicin_3 &lt;dbl&gt; |\n",
       "|---|---|---|---|---|---|---|\n",
       "| Q09666 | 4984.80051 | 4959.72469 | 4885.11485 | 12114.33764 | 11727.54481 | 11587.019520 |\n",
       "| Q15149-3 |   18.44386 |   20.20029 |   17.78025 |    20.96845 |    19.76066 |    18.960941 |\n",
       "| Q15149 | 3202.24443 | 3335.80413 | 3156.99450 |  6151.74000 |  5983.79064 |  6123.508587 |\n",
       "| Q15149-8 |   13.18008 |   13.66558 |   13.50839 |    10.36080 |    10.83965 |     9.876971 |\n",
       "| Q15149-4 |   12.86596 |   12.27709 |   12.16204 |    32.36789 |    32.90083 |    31.913274 |\n",
       "| P21333-2 | 3657.09665 | 4067.28070 | 3777.62035 |  3550.46341 |  3597.42159 |  3459.932638 |\n",
       "\n"
      ],
      "text/plain": [
       "         MCF7_1     MCF7_2     MCF7_3     Doxorubicin_1 Doxorubicin_2\n",
       "Q09666   4984.80051 4959.72469 4885.11485 12114.33764   11727.54481  \n",
       "Q15149-3   18.44386   20.20029   17.78025    20.96845      19.76066  \n",
       "Q15149   3202.24443 3335.80413 3156.99450  6151.74000    5983.79064  \n",
       "Q15149-8   13.18008   13.66558   13.50839    10.36080      10.83965  \n",
       "Q15149-4   12.86596   12.27709   12.16204    32.36789      32.90083  \n",
       "P21333-2 3657.09665 4067.28070 3777.62035  3550.46341    3597.42159  \n",
       "         Doxorubicin_3\n",
       "Q09666   11587.019520 \n",
       "Q15149-3    18.960941 \n",
       "Q15149    6123.508587 \n",
       "Q15149-8     9.876971 \n",
       "Q15149-4    31.913274 \n",
       "P21333-2  3459.932638 "
      ]
     },
     "metadata": {},
     "output_type": "display_data"
    }
   ],
   "source": [
    "# 필요한 데이터만 추출하기1\n",
    "\n",
    "\n",
    "expression <- example[,5:10]\n",
    "head(expression)"
   ]
  },
  {
   "cell_type": "code",
   "execution_count": 28,
   "metadata": {},
   "outputs": [
    {
     "data": {
      "text/html": [
       "<table class=\"dataframe\">\n",
       "<caption>A data.frame: 6 × 13</caption>\n",
       "<thead>\n",
       "\t<tr><th></th><th scope=col>Entry</th><th scope=col>Entry_name</th><th scope=col>Gene_name</th><th scope=col>Status</th><th scope=col>MCF7_1</th><th scope=col>MCF7_2</th><th scope=col>MCF7_3</th><th scope=col>Doxorubicin_1</th><th scope=col>Doxorubicin_2</th><th scope=col>Doxorubicin_3</th><th scope=col>P.value</th><th scope=col>P.adjust</th><th scope=col>log2FC</th></tr>\n",
       "\t<tr><th></th><th scope=col>&lt;chr&gt;</th><th scope=col>&lt;chr&gt;</th><th scope=col>&lt;chr&gt;</th><th scope=col>&lt;chr&gt;</th><th scope=col>&lt;dbl&gt;</th><th scope=col>&lt;dbl&gt;</th><th scope=col>&lt;dbl&gt;</th><th scope=col>&lt;dbl&gt;</th><th scope=col>&lt;dbl&gt;</th><th scope=col>&lt;dbl&gt;</th><th scope=col>&lt;dbl&gt;</th><th scope=col>&lt;dbl&gt;</th><th scope=col>&lt;dbl&gt;</th></tr>\n",
       "</thead>\n",
       "<tbody>\n",
       "\t<tr><th scope=row>Q09666</th><td>Q09666</td><td>AHNK_HUMAN</td><td>AHNAK PM227  </td><td>reviewed</td><td>4984.80051</td><td>4959.72469</td><td>4885.11485</td><td>12114.33764</td><td>11727.54481</td><td>11587.019520</td><td>0.000350161</td><td>0.002141511</td><td> 1.25644317</td></tr>\n",
       "\t<tr><th scope=row>Q15149-3</th><td>Q15149</td><td>PLEC_HUMAN</td><td>PLEC PLEC1   </td><td>reviewed</td><td>  18.44386</td><td>  20.20029</td><td>  17.78025</td><td>   20.96845</td><td>   19.76066</td><td>   18.960941</td><td>0.308643832</td><td>0.340135415</td><td> 0.08117139</td></tr>\n",
       "\t<tr><th scope=row>Q15149</th><td>Q15149</td><td>PLEC_HUMAN</td><td>PLEC PLEC1   </td><td>reviewed</td><td>3202.24443</td><td>3335.80413</td><td>3156.99450</td><td> 6151.74000</td><td> 5983.79064</td><td> 6123.508587</td><td>0.000002830</td><td>0.000319444</td><td> 0.91329164</td></tr>\n",
       "\t<tr><th scope=row>Q15149-8</th><td>Q15149</td><td>PLEC_HUMAN</td><td>PLEC PLEC1   </td><td>reviewed</td><td>  13.18008</td><td>  13.66558</td><td>  13.50839</td><td>   10.36080</td><td>   10.83965</td><td>    9.876971</td><td>0.002227159</td><td>0.006280590</td><td>-0.37684673</td></tr>\n",
       "\t<tr><th scope=row>Q15149-4</th><td>Q15149</td><td>PLEC_HUMAN</td><td>PLEC PLEC1   </td><td>reviewed</td><td>  12.86596</td><td>  12.27709</td><td>  12.16204</td><td>   32.36789</td><td>   32.90083</td><td>   31.913274</td><td>0.000001350</td><td>0.000223258</td><td> 1.38131662</td></tr>\n",
       "\t<tr><th scope=row>P21333-2</th><td>P21333</td><td>FLNA_HUMAN</td><td>FLNA FLN FLN1</td><td>reviewed</td><td>3657.09665</td><td>4067.28070</td><td>3777.62035</td><td> 3550.46341</td><td> 3597.42159</td><td> 3459.932638</td><td>0.122895987</td><td>0.146827666</td><td>-0.11675658</td></tr>\n",
       "</tbody>\n",
       "</table>\n"
      ],
      "text/latex": [
       "A data.frame: 6 × 13\n",
       "\\begin{tabular}{r|lllllllllllll}\n",
       "  & Entry & Entry\\_name & Gene\\_name & Status & MCF7\\_1 & MCF7\\_2 & MCF7\\_3 & Doxorubicin\\_1 & Doxorubicin\\_2 & Doxorubicin\\_3 & P.value & P.adjust & log2FC\\\\\n",
       "  & <chr> & <chr> & <chr> & <chr> & <dbl> & <dbl> & <dbl> & <dbl> & <dbl> & <dbl> & <dbl> & <dbl> & <dbl>\\\\\n",
       "\\hline\n",
       "\tQ09666 & Q09666 & AHNK\\_HUMAN & AHNAK PM227   & reviewed & 4984.80051 & 4959.72469 & 4885.11485 & 12114.33764 & 11727.54481 & 11587.019520 & 0.000350161 & 0.002141511 &  1.25644317\\\\\n",
       "\tQ15149-3 & Q15149 & PLEC\\_HUMAN & PLEC PLEC1    & reviewed &   18.44386 &   20.20029 &   17.78025 &    20.96845 &    19.76066 &    18.960941 & 0.308643832 & 0.340135415 &  0.08117139\\\\\n",
       "\tQ15149 & Q15149 & PLEC\\_HUMAN & PLEC PLEC1    & reviewed & 3202.24443 & 3335.80413 & 3156.99450 &  6151.74000 &  5983.79064 &  6123.508587 & 0.000002830 & 0.000319444 &  0.91329164\\\\\n",
       "\tQ15149-8 & Q15149 & PLEC\\_HUMAN & PLEC PLEC1    & reviewed &   13.18008 &   13.66558 &   13.50839 &    10.36080 &    10.83965 &     9.876971 & 0.002227159 & 0.006280590 & -0.37684673\\\\\n",
       "\tQ15149-4 & Q15149 & PLEC\\_HUMAN & PLEC PLEC1    & reviewed &   12.86596 &   12.27709 &   12.16204 &    32.36789 &    32.90083 &    31.913274 & 0.000001350 & 0.000223258 &  1.38131662\\\\\n",
       "\tP21333-2 & P21333 & FLNA\\_HUMAN & FLNA FLN FLN1 & reviewed & 3657.09665 & 4067.28070 & 3777.62035 &  3550.46341 &  3597.42159 &  3459.932638 & 0.122895987 & 0.146827666 & -0.11675658\\\\\n",
       "\\end{tabular}\n"
      ],
      "text/markdown": [
       "\n",
       "A data.frame: 6 × 13\n",
       "\n",
       "| <!--/--> | Entry &lt;chr&gt; | Entry_name &lt;chr&gt; | Gene_name &lt;chr&gt; | Status &lt;chr&gt; | MCF7_1 &lt;dbl&gt; | MCF7_2 &lt;dbl&gt; | MCF7_3 &lt;dbl&gt; | Doxorubicin_1 &lt;dbl&gt; | Doxorubicin_2 &lt;dbl&gt; | Doxorubicin_3 &lt;dbl&gt; | P.value &lt;dbl&gt; | P.adjust &lt;dbl&gt; | log2FC &lt;dbl&gt; |\n",
       "|---|---|---|---|---|---|---|---|---|---|---|---|---|---|\n",
       "| Q09666 | Q09666 | AHNK_HUMAN | AHNAK PM227   | reviewed | 4984.80051 | 4959.72469 | 4885.11485 | 12114.33764 | 11727.54481 | 11587.019520 | 0.000350161 | 0.002141511 |  1.25644317 |\n",
       "| Q15149-3 | Q15149 | PLEC_HUMAN | PLEC PLEC1    | reviewed |   18.44386 |   20.20029 |   17.78025 |    20.96845 |    19.76066 |    18.960941 | 0.308643832 | 0.340135415 |  0.08117139 |\n",
       "| Q15149 | Q15149 | PLEC_HUMAN | PLEC PLEC1    | reviewed | 3202.24443 | 3335.80413 | 3156.99450 |  6151.74000 |  5983.79064 |  6123.508587 | 0.000002830 | 0.000319444 |  0.91329164 |\n",
       "| Q15149-8 | Q15149 | PLEC_HUMAN | PLEC PLEC1    | reviewed |   13.18008 |   13.66558 |   13.50839 |    10.36080 |    10.83965 |     9.876971 | 0.002227159 | 0.006280590 | -0.37684673 |\n",
       "| Q15149-4 | Q15149 | PLEC_HUMAN | PLEC PLEC1    | reviewed |   12.86596 |   12.27709 |   12.16204 |    32.36789 |    32.90083 |    31.913274 | 0.000001350 | 0.000223258 |  1.38131662 |\n",
       "| P21333-2 | P21333 | FLNA_HUMAN | FLNA FLN FLN1 | reviewed | 3657.09665 | 4067.28070 | 3777.62035 |  3550.46341 |  3597.42159 |  3459.932638 | 0.122895987 | 0.146827666 | -0.11675658 |\n",
       "\n"
      ],
      "text/plain": [
       "         Entry  Entry_name Gene_name     Status   MCF7_1     MCF7_2    \n",
       "Q09666   Q09666 AHNK_HUMAN AHNAK PM227   reviewed 4984.80051 4959.72469\n",
       "Q15149-3 Q15149 PLEC_HUMAN PLEC PLEC1    reviewed   18.44386   20.20029\n",
       "Q15149   Q15149 PLEC_HUMAN PLEC PLEC1    reviewed 3202.24443 3335.80413\n",
       "Q15149-8 Q15149 PLEC_HUMAN PLEC PLEC1    reviewed   13.18008   13.66558\n",
       "Q15149-4 Q15149 PLEC_HUMAN PLEC PLEC1    reviewed   12.86596   12.27709\n",
       "P21333-2 P21333 FLNA_HUMAN FLNA FLN FLN1 reviewed 3657.09665 4067.28070\n",
       "         MCF7_3     Doxorubicin_1 Doxorubicin_2 Doxorubicin_3 P.value    \n",
       "Q09666   4885.11485 12114.33764   11727.54481   11587.019520  0.000350161\n",
       "Q15149-3   17.78025    20.96845      19.76066      18.960941  0.308643832\n",
       "Q15149   3156.99450  6151.74000    5983.79064    6123.508587  0.000002830\n",
       "Q15149-8   13.50839    10.36080      10.83965       9.876971  0.002227159\n",
       "Q15149-4   12.16204    32.36789      32.90083      31.913274  0.000001350\n",
       "P21333-2 3777.62035  3550.46341    3597.42159    3459.932638  0.122895987\n",
       "         P.adjust    log2FC     \n",
       "Q09666   0.002141511  1.25644317\n",
       "Q15149-3 0.340135415  0.08117139\n",
       "Q15149   0.000319444  0.91329164\n",
       "Q15149-8 0.006280590 -0.37684673\n",
       "Q15149-4 0.000223258  1.38131662\n",
       "P21333-2 0.146827666 -0.11675658"
      ]
     },
     "metadata": {},
     "output_type": "display_data"
    }
   ],
   "source": [
    "head(example)"
   ]
  },
  {
   "cell_type": "code",
   "execution_count": 29,
   "metadata": {},
   "outputs": [
    {
     "data": {
      "text/html": [
       "<table class=\"dataframe\">\n",
       "<caption>A data.frame: 6 × 2</caption>\n",
       "<thead>\n",
       "\t<tr><th></th><th scope=col>P.adjust</th><th scope=col>log2FC</th></tr>\n",
       "\t<tr><th></th><th scope=col>&lt;dbl&gt;</th><th scope=col>&lt;dbl&gt;</th></tr>\n",
       "</thead>\n",
       "<tbody>\n",
       "\t<tr><th scope=row>Q09666</th><td>0.002141511</td><td> 1.25644317</td></tr>\n",
       "\t<tr><th scope=row>Q15149-3</th><td>0.340135415</td><td> 0.08117139</td></tr>\n",
       "\t<tr><th scope=row>Q15149</th><td>0.000319444</td><td> 0.91329164</td></tr>\n",
       "\t<tr><th scope=row>Q15149-8</th><td>0.006280590</td><td>-0.37684673</td></tr>\n",
       "\t<tr><th scope=row>Q15149-4</th><td>0.000223258</td><td> 1.38131662</td></tr>\n",
       "\t<tr><th scope=row>P21333-2</th><td>0.146827666</td><td>-0.11675658</td></tr>\n",
       "</tbody>\n",
       "</table>\n"
      ],
      "text/latex": [
       "A data.frame: 6 × 2\n",
       "\\begin{tabular}{r|ll}\n",
       "  & P.adjust & log2FC\\\\\n",
       "  & <dbl> & <dbl>\\\\\n",
       "\\hline\n",
       "\tQ09666 & 0.002141511 &  1.25644317\\\\\n",
       "\tQ15149-3 & 0.340135415 &  0.08117139\\\\\n",
       "\tQ15149 & 0.000319444 &  0.91329164\\\\\n",
       "\tQ15149-8 & 0.006280590 & -0.37684673\\\\\n",
       "\tQ15149-4 & 0.000223258 &  1.38131662\\\\\n",
       "\tP21333-2 & 0.146827666 & -0.11675658\\\\\n",
       "\\end{tabular}\n"
      ],
      "text/markdown": [
       "\n",
       "A data.frame: 6 × 2\n",
       "\n",
       "| <!--/--> | P.adjust &lt;dbl&gt; | log2FC &lt;dbl&gt; |\n",
       "|---|---|---|\n",
       "| Q09666 | 0.002141511 |  1.25644317 |\n",
       "| Q15149-3 | 0.340135415 |  0.08117139 |\n",
       "| Q15149 | 0.000319444 |  0.91329164 |\n",
       "| Q15149-8 | 0.006280590 | -0.37684673 |\n",
       "| Q15149-4 | 0.000223258 |  1.38131662 |\n",
       "| P21333-2 | 0.146827666 | -0.11675658 |\n",
       "\n"
      ],
      "text/plain": [
       "         P.adjust    log2FC     \n",
       "Q09666   0.002141511  1.25644317\n",
       "Q15149-3 0.340135415  0.08117139\n",
       "Q15149   0.000319444  0.91329164\n",
       "Q15149-8 0.006280590 -0.37684673\n",
       "Q15149-4 0.000223258  1.38131662\n",
       "P21333-2 0.146827666 -0.11675658"
      ]
     },
     "metadata": {},
     "output_type": "display_data"
    }
   ],
   "source": [
    "# 필요한 데이터만 추출하기2\n",
    "\n",
    "\n",
    "fold <- example[,12:13]\n",
    "head(fold)"
   ]
  },
  {
   "cell_type": "code",
   "execution_count": 30,
   "metadata": {},
   "outputs": [
    {
     "data": {
      "text/html": [
       "<table class=\"dataframe\">\n",
       "<caption>A data.frame: 6 × 6</caption>\n",
       "<thead>\n",
       "\t<tr><th></th><th scope=col>MCF7_1</th><th scope=col>MCF7_2</th><th scope=col>MCF7_3</th><th scope=col>Doxorubicin_1</th><th scope=col>Doxorubicin_2</th><th scope=col>Doxorubicin_3</th></tr>\n",
       "\t<tr><th></th><th scope=col>&lt;dbl&gt;</th><th scope=col>&lt;dbl&gt;</th><th scope=col>&lt;dbl&gt;</th><th scope=col>&lt;dbl&gt;</th><th scope=col>&lt;dbl&gt;</th><th scope=col>&lt;dbl&gt;</th></tr>\n",
       "</thead>\n",
       "<tbody>\n",
       "\t<tr><th scope=row>Q09666</th><td>4984.80051</td><td>4959.72469</td><td>4885.11485</td><td>12114.33764</td><td>11727.54481</td><td>11587.019520</td></tr>\n",
       "\t<tr><th scope=row>Q15149-3</th><td>  18.44386</td><td>  20.20029</td><td>  17.78025</td><td>   20.96845</td><td>   19.76066</td><td>   18.960941</td></tr>\n",
       "\t<tr><th scope=row>Q15149</th><td>3202.24443</td><td>3335.80413</td><td>3156.99450</td><td> 6151.74000</td><td> 5983.79064</td><td> 6123.508587</td></tr>\n",
       "\t<tr><th scope=row>Q15149-8</th><td>  13.18008</td><td>  13.66558</td><td>  13.50839</td><td>   10.36080</td><td>   10.83965</td><td>    9.876971</td></tr>\n",
       "\t<tr><th scope=row>Q15149-4</th><td>  12.86596</td><td>  12.27709</td><td>  12.16204</td><td>   32.36789</td><td>   32.90083</td><td>   31.913274</td></tr>\n",
       "\t<tr><th scope=row>P21333-2</th><td>3657.09665</td><td>4067.28070</td><td>3777.62035</td><td> 3550.46341</td><td> 3597.42159</td><td> 3459.932638</td></tr>\n",
       "</tbody>\n",
       "</table>\n"
      ],
      "text/latex": [
       "A data.frame: 6 × 6\n",
       "\\begin{tabular}{r|llllll}\n",
       "  & MCF7\\_1 & MCF7\\_2 & MCF7\\_3 & Doxorubicin\\_1 & Doxorubicin\\_2 & Doxorubicin\\_3\\\\\n",
       "  & <dbl> & <dbl> & <dbl> & <dbl> & <dbl> & <dbl>\\\\\n",
       "\\hline\n",
       "\tQ09666 & 4984.80051 & 4959.72469 & 4885.11485 & 12114.33764 & 11727.54481 & 11587.019520\\\\\n",
       "\tQ15149-3 &   18.44386 &   20.20029 &   17.78025 &    20.96845 &    19.76066 &    18.960941\\\\\n",
       "\tQ15149 & 3202.24443 & 3335.80413 & 3156.99450 &  6151.74000 &  5983.79064 &  6123.508587\\\\\n",
       "\tQ15149-8 &   13.18008 &   13.66558 &   13.50839 &    10.36080 &    10.83965 &     9.876971\\\\\n",
       "\tQ15149-4 &   12.86596 &   12.27709 &   12.16204 &    32.36789 &    32.90083 &    31.913274\\\\\n",
       "\tP21333-2 & 3657.09665 & 4067.28070 & 3777.62035 &  3550.46341 &  3597.42159 &  3459.932638\\\\\n",
       "\\end{tabular}\n"
      ],
      "text/markdown": [
       "\n",
       "A data.frame: 6 × 6\n",
       "\n",
       "| <!--/--> | MCF7_1 &lt;dbl&gt; | MCF7_2 &lt;dbl&gt; | MCF7_3 &lt;dbl&gt; | Doxorubicin_1 &lt;dbl&gt; | Doxorubicin_2 &lt;dbl&gt; | Doxorubicin_3 &lt;dbl&gt; |\n",
       "|---|---|---|---|---|---|---|\n",
       "| Q09666 | 4984.80051 | 4959.72469 | 4885.11485 | 12114.33764 | 11727.54481 | 11587.019520 |\n",
       "| Q15149-3 |   18.44386 |   20.20029 |   17.78025 |    20.96845 |    19.76066 |    18.960941 |\n",
       "| Q15149 | 3202.24443 | 3335.80413 | 3156.99450 |  6151.74000 |  5983.79064 |  6123.508587 |\n",
       "| Q15149-8 |   13.18008 |   13.66558 |   13.50839 |    10.36080 |    10.83965 |     9.876971 |\n",
       "| Q15149-4 |   12.86596 |   12.27709 |   12.16204 |    32.36789 |    32.90083 |    31.913274 |\n",
       "| P21333-2 | 3657.09665 | 4067.28070 | 3777.62035 |  3550.46341 |  3597.42159 |  3459.932638 |\n",
       "\n"
      ],
      "text/plain": [
       "         MCF7_1     MCF7_2     MCF7_3     Doxorubicin_1 Doxorubicin_2\n",
       "Q09666   4984.80051 4959.72469 4885.11485 12114.33764   11727.54481  \n",
       "Q15149-3   18.44386   20.20029   17.78025    20.96845      19.76066  \n",
       "Q15149   3202.24443 3335.80413 3156.99450  6151.74000    5983.79064  \n",
       "Q15149-8   13.18008   13.66558   13.50839    10.36080      10.83965  \n",
       "Q15149-4   12.86596   12.27709   12.16204    32.36789      32.90083  \n",
       "P21333-2 3657.09665 4067.28070 3777.62035  3550.46341    3597.42159  \n",
       "         Doxorubicin_3\n",
       "Q09666   11587.019520 \n",
       "Q15149-3    18.960941 \n",
       "Q15149    6123.508587 \n",
       "Q15149-8     9.876971 \n",
       "Q15149-4    31.913274 \n",
       "P21333-2  3459.932638 "
      ]
     },
     "metadata": {},
     "output_type": "display_data"
    },
    {
     "name": "stdout",
     "output_type": "stream",
     "text": [
      "nrow is 7755"
     ]
    },
    {
     "data": {
      "text/html": [
       "<style>\n",
       ".list-inline {list-style: none; margin:0; padding: 0}\n",
       ".list-inline>li {display: inline-block}\n",
       ".list-inline>li:not(:last-child)::after {content: \"\\00b7\"; padding: 0 .5ex}\n",
       "</style>\n",
       "<ol class=list-inline><li>'AHNAK PM227'</li><li>'PLEC PLEC1'</li><li>'PLEC PLEC1'</li><li>'PLEC PLEC1'</li><li>'PLEC PLEC1'</li><li>'FLNA FLN FLN1'</li></ol>\n"
      ],
      "text/latex": [
       "\\begin{enumerate*}\n",
       "\\item 'AHNAK PM227'\n",
       "\\item 'PLEC PLEC1'\n",
       "\\item 'PLEC PLEC1'\n",
       "\\item 'PLEC PLEC1'\n",
       "\\item 'PLEC PLEC1'\n",
       "\\item 'FLNA FLN FLN1'\n",
       "\\end{enumerate*}\n"
      ],
      "text/markdown": [
       "1. 'AHNAK PM227'\n",
       "2. 'PLEC PLEC1'\n",
       "3. 'PLEC PLEC1'\n",
       "4. 'PLEC PLEC1'\n",
       "5. 'PLEC PLEC1'\n",
       "6. 'FLNA FLN FLN1'\n",
       "\n",
       "\n"
      ],
      "text/plain": [
       "[1] \"AHNAK PM227\"   \"PLEC PLEC1\"    \"PLEC PLEC1\"    \"PLEC PLEC1\"   \n",
       "[5] \"PLEC PLEC1\"    \"FLNA FLN FLN1\""
      ]
     },
     "metadata": {},
     "output_type": "display_data"
    },
    {
     "name": "stdout",
     "output_type": "stream",
     "text": [
      "length is 7755"
     ]
    },
    {
     "data": {
      "text/html": [
       "<table class=\"dataframe\">\n",
       "<caption>A data.frame: 6 × 7</caption>\n",
       "<thead>\n",
       "\t<tr><th></th><th scope=col>MCF7_1</th><th scope=col>MCF7_2</th><th scope=col>MCF7_3</th><th scope=col>Doxorubicin_1</th><th scope=col>Doxorubicin_2</th><th scope=col>Doxorubicin_3</th><th scope=col>Gene_name</th></tr>\n",
       "\t<tr><th></th><th scope=col>&lt;dbl&gt;</th><th scope=col>&lt;dbl&gt;</th><th scope=col>&lt;dbl&gt;</th><th scope=col>&lt;dbl&gt;</th><th scope=col>&lt;dbl&gt;</th><th scope=col>&lt;dbl&gt;</th><th scope=col>&lt;chr&gt;</th></tr>\n",
       "</thead>\n",
       "<tbody>\n",
       "\t<tr><th scope=row>Q09666</th><td>4984.80051</td><td>4959.72469</td><td>4885.11485</td><td>12114.33764</td><td>11727.54481</td><td>11587.019520</td><td>AHNAK PM227  </td></tr>\n",
       "\t<tr><th scope=row>Q15149-3</th><td>  18.44386</td><td>  20.20029</td><td>  17.78025</td><td>   20.96845</td><td>   19.76066</td><td>   18.960941</td><td>PLEC PLEC1   </td></tr>\n",
       "\t<tr><th scope=row>Q15149</th><td>3202.24443</td><td>3335.80413</td><td>3156.99450</td><td> 6151.74000</td><td> 5983.79064</td><td> 6123.508587</td><td>PLEC PLEC1   </td></tr>\n",
       "\t<tr><th scope=row>Q15149-8</th><td>  13.18008</td><td>  13.66558</td><td>  13.50839</td><td>   10.36080</td><td>   10.83965</td><td>    9.876971</td><td>PLEC PLEC1   </td></tr>\n",
       "\t<tr><th scope=row>Q15149-4</th><td>  12.86596</td><td>  12.27709</td><td>  12.16204</td><td>   32.36789</td><td>   32.90083</td><td>   31.913274</td><td>PLEC PLEC1   </td></tr>\n",
       "\t<tr><th scope=row>P21333-2</th><td>3657.09665</td><td>4067.28070</td><td>3777.62035</td><td> 3550.46341</td><td> 3597.42159</td><td> 3459.932638</td><td>FLNA FLN FLN1</td></tr>\n",
       "</tbody>\n",
       "</table>\n"
      ],
      "text/latex": [
       "A data.frame: 6 × 7\n",
       "\\begin{tabular}{r|lllllll}\n",
       "  & MCF7\\_1 & MCF7\\_2 & MCF7\\_3 & Doxorubicin\\_1 & Doxorubicin\\_2 & Doxorubicin\\_3 & Gene\\_name\\\\\n",
       "  & <dbl> & <dbl> & <dbl> & <dbl> & <dbl> & <dbl> & <chr>\\\\\n",
       "\\hline\n",
       "\tQ09666 & 4984.80051 & 4959.72469 & 4885.11485 & 12114.33764 & 11727.54481 & 11587.019520 & AHNAK PM227  \\\\\n",
       "\tQ15149-3 &   18.44386 &   20.20029 &   17.78025 &    20.96845 &    19.76066 &    18.960941 & PLEC PLEC1   \\\\\n",
       "\tQ15149 & 3202.24443 & 3335.80413 & 3156.99450 &  6151.74000 &  5983.79064 &  6123.508587 & PLEC PLEC1   \\\\\n",
       "\tQ15149-8 &   13.18008 &   13.66558 &   13.50839 &    10.36080 &    10.83965 &     9.876971 & PLEC PLEC1   \\\\\n",
       "\tQ15149-4 &   12.86596 &   12.27709 &   12.16204 &    32.36789 &    32.90083 &    31.913274 & PLEC PLEC1   \\\\\n",
       "\tP21333-2 & 3657.09665 & 4067.28070 & 3777.62035 &  3550.46341 &  3597.42159 &  3459.932638 & FLNA FLN FLN1\\\\\n",
       "\\end{tabular}\n"
      ],
      "text/markdown": [
       "\n",
       "A data.frame: 6 × 7\n",
       "\n",
       "| <!--/--> | MCF7_1 &lt;dbl&gt; | MCF7_2 &lt;dbl&gt; | MCF7_3 &lt;dbl&gt; | Doxorubicin_1 &lt;dbl&gt; | Doxorubicin_2 &lt;dbl&gt; | Doxorubicin_3 &lt;dbl&gt; | Gene_name &lt;chr&gt; |\n",
       "|---|---|---|---|---|---|---|---|\n",
       "| Q09666 | 4984.80051 | 4959.72469 | 4885.11485 | 12114.33764 | 11727.54481 | 11587.019520 | AHNAK PM227   |\n",
       "| Q15149-3 |   18.44386 |   20.20029 |   17.78025 |    20.96845 |    19.76066 |    18.960941 | PLEC PLEC1    |\n",
       "| Q15149 | 3202.24443 | 3335.80413 | 3156.99450 |  6151.74000 |  5983.79064 |  6123.508587 | PLEC PLEC1    |\n",
       "| Q15149-8 |   13.18008 |   13.66558 |   13.50839 |    10.36080 |    10.83965 |     9.876971 | PLEC PLEC1    |\n",
       "| Q15149-4 |   12.86596 |   12.27709 |   12.16204 |    32.36789 |    32.90083 |    31.913274 | PLEC PLEC1    |\n",
       "| P21333-2 | 3657.09665 | 4067.28070 | 3777.62035 |  3550.46341 |  3597.42159 |  3459.932638 | FLNA FLN FLN1 |\n",
       "\n"
      ],
      "text/plain": [
       "         MCF7_1     MCF7_2     MCF7_3     Doxorubicin_1 Doxorubicin_2\n",
       "Q09666   4984.80051 4959.72469 4885.11485 12114.33764   11727.54481  \n",
       "Q15149-3   18.44386   20.20029   17.78025    20.96845      19.76066  \n",
       "Q15149   3202.24443 3335.80413 3156.99450  6151.74000    5983.79064  \n",
       "Q15149-8   13.18008   13.66558   13.50839    10.36080      10.83965  \n",
       "Q15149-4   12.86596   12.27709   12.16204    32.36789      32.90083  \n",
       "P21333-2 3657.09665 4067.28070 3777.62035  3550.46341    3597.42159  \n",
       "         Doxorubicin_3 Gene_name    \n",
       "Q09666   11587.019520  AHNAK PM227  \n",
       "Q15149-3    18.960941  PLEC PLEC1   \n",
       "Q15149    6123.508587  PLEC PLEC1   \n",
       "Q15149-8     9.876971  PLEC PLEC1   \n",
       "Q15149-4    31.913274  PLEC PLEC1   \n",
       "P21333-2  3459.932638  FLNA FLN FLN1"
      ]
     },
     "metadata": {},
     "output_type": "display_data"
    }
   ],
   "source": [
    "#데이터프레임에 신규 열 추가하기\n",
    "head(expression)\n",
    "cat(\"nrow is\", nrow(expression)) \n",
    "head(example$Gene_name)\n",
    "cat(\"length is\",length(example$Gene_name))\n",
    "\n",
    "\n",
    "\n",
    "\n",
    "expression$Gene_name <- example$Gene_name\n",
    "head(expression)"
   ]
  },
  {
   "cell_type": "code",
   "execution_count": 31,
   "metadata": {},
   "outputs": [
    {
     "data": {
      "text/html": [
       "<table class=\"dataframe\">\n",
       "<caption>A data.frame: 6 × 9</caption>\n",
       "<thead>\n",
       "\t<tr><th></th><th scope=col>MCF7_1</th><th scope=col>MCF7_2</th><th scope=col>MCF7_3</th><th scope=col>Doxorubicin_1</th><th scope=col>Doxorubicin_2</th><th scope=col>Doxorubicin_3</th><th scope=col>Gene_name</th><th scope=col>P.adjust</th><th scope=col>log2FC</th></tr>\n",
       "\t<tr><th></th><th scope=col>&lt;dbl&gt;</th><th scope=col>&lt;dbl&gt;</th><th scope=col>&lt;dbl&gt;</th><th scope=col>&lt;dbl&gt;</th><th scope=col>&lt;dbl&gt;</th><th scope=col>&lt;dbl&gt;</th><th scope=col>&lt;chr&gt;</th><th scope=col>&lt;dbl&gt;</th><th scope=col>&lt;dbl&gt;</th></tr>\n",
       "</thead>\n",
       "<tbody>\n",
       "\t<tr><th scope=row>Q09666</th><td>4984.80051</td><td>4959.72469</td><td>4885.11485</td><td>12114.33764</td><td>11727.54481</td><td>11587.019520</td><td>AHNAK PM227  </td><td>0.002141511</td><td> 1.25644317</td></tr>\n",
       "\t<tr><th scope=row>Q15149-3</th><td>  18.44386</td><td>  20.20029</td><td>  17.78025</td><td>   20.96845</td><td>   19.76066</td><td>   18.960941</td><td>PLEC PLEC1   </td><td>0.340135415</td><td> 0.08117139</td></tr>\n",
       "\t<tr><th scope=row>Q15149</th><td>3202.24443</td><td>3335.80413</td><td>3156.99450</td><td> 6151.74000</td><td> 5983.79064</td><td> 6123.508587</td><td>PLEC PLEC1   </td><td>0.000319444</td><td> 0.91329164</td></tr>\n",
       "\t<tr><th scope=row>Q15149-8</th><td>  13.18008</td><td>  13.66558</td><td>  13.50839</td><td>   10.36080</td><td>   10.83965</td><td>    9.876971</td><td>PLEC PLEC1   </td><td>0.006280590</td><td>-0.37684673</td></tr>\n",
       "\t<tr><th scope=row>Q15149-4</th><td>  12.86596</td><td>  12.27709</td><td>  12.16204</td><td>   32.36789</td><td>   32.90083</td><td>   31.913274</td><td>PLEC PLEC1   </td><td>0.000223258</td><td> 1.38131662</td></tr>\n",
       "\t<tr><th scope=row>P21333-2</th><td>3657.09665</td><td>4067.28070</td><td>3777.62035</td><td> 3550.46341</td><td> 3597.42159</td><td> 3459.932638</td><td>FLNA FLN FLN1</td><td>0.146827666</td><td>-0.11675658</td></tr>\n",
       "</tbody>\n",
       "</table>\n"
      ],
      "text/latex": [
       "A data.frame: 6 × 9\n",
       "\\begin{tabular}{r|lllllllll}\n",
       "  & MCF7\\_1 & MCF7\\_2 & MCF7\\_3 & Doxorubicin\\_1 & Doxorubicin\\_2 & Doxorubicin\\_3 & Gene\\_name & P.adjust & log2FC\\\\\n",
       "  & <dbl> & <dbl> & <dbl> & <dbl> & <dbl> & <dbl> & <chr> & <dbl> & <dbl>\\\\\n",
       "\\hline\n",
       "\tQ09666 & 4984.80051 & 4959.72469 & 4885.11485 & 12114.33764 & 11727.54481 & 11587.019520 & AHNAK PM227   & 0.002141511 &  1.25644317\\\\\n",
       "\tQ15149-3 &   18.44386 &   20.20029 &   17.78025 &    20.96845 &    19.76066 &    18.960941 & PLEC PLEC1    & 0.340135415 &  0.08117139\\\\\n",
       "\tQ15149 & 3202.24443 & 3335.80413 & 3156.99450 &  6151.74000 &  5983.79064 &  6123.508587 & PLEC PLEC1    & 0.000319444 &  0.91329164\\\\\n",
       "\tQ15149-8 &   13.18008 &   13.66558 &   13.50839 &    10.36080 &    10.83965 &     9.876971 & PLEC PLEC1    & 0.006280590 & -0.37684673\\\\\n",
       "\tQ15149-4 &   12.86596 &   12.27709 &   12.16204 &    32.36789 &    32.90083 &    31.913274 & PLEC PLEC1    & 0.000223258 &  1.38131662\\\\\n",
       "\tP21333-2 & 3657.09665 & 4067.28070 & 3777.62035 &  3550.46341 &  3597.42159 &  3459.932638 & FLNA FLN FLN1 & 0.146827666 & -0.11675658\\\\\n",
       "\\end{tabular}\n"
      ],
      "text/markdown": [
       "\n",
       "A data.frame: 6 × 9\n",
       "\n",
       "| <!--/--> | MCF7_1 &lt;dbl&gt; | MCF7_2 &lt;dbl&gt; | MCF7_3 &lt;dbl&gt; | Doxorubicin_1 &lt;dbl&gt; | Doxorubicin_2 &lt;dbl&gt; | Doxorubicin_3 &lt;dbl&gt; | Gene_name &lt;chr&gt; | P.adjust &lt;dbl&gt; | log2FC &lt;dbl&gt; |\n",
       "|---|---|---|---|---|---|---|---|---|---|\n",
       "| Q09666 | 4984.80051 | 4959.72469 | 4885.11485 | 12114.33764 | 11727.54481 | 11587.019520 | AHNAK PM227   | 0.002141511 |  1.25644317 |\n",
       "| Q15149-3 |   18.44386 |   20.20029 |   17.78025 |    20.96845 |    19.76066 |    18.960941 | PLEC PLEC1    | 0.340135415 |  0.08117139 |\n",
       "| Q15149 | 3202.24443 | 3335.80413 | 3156.99450 |  6151.74000 |  5983.79064 |  6123.508587 | PLEC PLEC1    | 0.000319444 |  0.91329164 |\n",
       "| Q15149-8 |   13.18008 |   13.66558 |   13.50839 |    10.36080 |    10.83965 |     9.876971 | PLEC PLEC1    | 0.006280590 | -0.37684673 |\n",
       "| Q15149-4 |   12.86596 |   12.27709 |   12.16204 |    32.36789 |    32.90083 |    31.913274 | PLEC PLEC1    | 0.000223258 |  1.38131662 |\n",
       "| P21333-2 | 3657.09665 | 4067.28070 | 3777.62035 |  3550.46341 |  3597.42159 |  3459.932638 | FLNA FLN FLN1 | 0.146827666 | -0.11675658 |\n",
       "\n"
      ],
      "text/plain": [
       "         MCF7_1     MCF7_2     MCF7_3     Doxorubicin_1 Doxorubicin_2\n",
       "Q09666   4984.80051 4959.72469 4885.11485 12114.33764   11727.54481  \n",
       "Q15149-3   18.44386   20.20029   17.78025    20.96845      19.76066  \n",
       "Q15149   3202.24443 3335.80413 3156.99450  6151.74000    5983.79064  \n",
       "Q15149-8   13.18008   13.66558   13.50839    10.36080      10.83965  \n",
       "Q15149-4   12.86596   12.27709   12.16204    32.36789      32.90083  \n",
       "P21333-2 3657.09665 4067.28070 3777.62035  3550.46341    3597.42159  \n",
       "         Doxorubicin_3 Gene_name     P.adjust    log2FC     \n",
       "Q09666   11587.019520  AHNAK PM227   0.002141511  1.25644317\n",
       "Q15149-3    18.960941  PLEC PLEC1    0.340135415  0.08117139\n",
       "Q15149    6123.508587  PLEC PLEC1    0.000319444  0.91329164\n",
       "Q15149-8     9.876971  PLEC PLEC1    0.006280590 -0.37684673\n",
       "Q15149-4    31.913274  PLEC PLEC1    0.000223258  1.38131662\n",
       "P21333-2  3459.932638  FLNA FLN FLN1 0.146827666 -0.11675658"
      ]
     },
     "metadata": {},
     "output_type": "display_data"
    }
   ],
   "source": [
    "# 데이터 프레임 합치기\n",
    "\n",
    "# 행 개수가 똑같은 두개의 데이터프레임을  양옆으로 합치려면: cbind()\n",
    "# 열 개수가 똑같은 두개의 데이터프레임을  위아래로 합치려면: rbind()\n",
    "\n",
    "\n",
    "merge_table<- cbind(expression,fold)\n",
    "head(merge_table)"
   ]
  },
  {
   "cell_type": "markdown",
   "metadata": {},
   "source": [
    "## subset 함수를 활용한 데이터 프레임 추출하기\n",
    "---\n",
    "## Column 이름으로 추출하기"
   ]
  },
  {
   "cell_type": "code",
   "execution_count": 32,
   "metadata": {},
   "outputs": [
    {
     "data": {
      "text/html": [
       "<table class=\"dataframe\">\n",
       "<caption>A data.frame: 6 × 13</caption>\n",
       "<thead>\n",
       "\t<tr><th></th><th scope=col>Entry</th><th scope=col>Entry_name</th><th scope=col>Gene_name</th><th scope=col>Status</th><th scope=col>MCF7_1</th><th scope=col>MCF7_2</th><th scope=col>MCF7_3</th><th scope=col>Doxorubicin_1</th><th scope=col>Doxorubicin_2</th><th scope=col>Doxorubicin_3</th><th scope=col>P.value</th><th scope=col>P.adjust</th><th scope=col>log2FC</th></tr>\n",
       "\t<tr><th></th><th scope=col>&lt;chr&gt;</th><th scope=col>&lt;chr&gt;</th><th scope=col>&lt;chr&gt;</th><th scope=col>&lt;chr&gt;</th><th scope=col>&lt;dbl&gt;</th><th scope=col>&lt;dbl&gt;</th><th scope=col>&lt;dbl&gt;</th><th scope=col>&lt;dbl&gt;</th><th scope=col>&lt;dbl&gt;</th><th scope=col>&lt;dbl&gt;</th><th scope=col>&lt;dbl&gt;</th><th scope=col>&lt;dbl&gt;</th><th scope=col>&lt;dbl&gt;</th></tr>\n",
       "</thead>\n",
       "<tbody>\n",
       "\t<tr><th scope=row>Q09666</th><td>Q09666</td><td>AHNK_HUMAN</td><td>AHNAK PM227  </td><td>reviewed</td><td>4984.80051</td><td>4959.72469</td><td>4885.11485</td><td>12114.33764</td><td>11727.54481</td><td>11587.019520</td><td>0.000350161</td><td>0.002141511</td><td> 1.25644317</td></tr>\n",
       "\t<tr><th scope=row>Q15149-3</th><td>Q15149</td><td>PLEC_HUMAN</td><td>PLEC PLEC1   </td><td>reviewed</td><td>  18.44386</td><td>  20.20029</td><td>  17.78025</td><td>   20.96845</td><td>   19.76066</td><td>   18.960941</td><td>0.308643832</td><td>0.340135415</td><td> 0.08117139</td></tr>\n",
       "\t<tr><th scope=row>Q15149</th><td>Q15149</td><td>PLEC_HUMAN</td><td>PLEC PLEC1   </td><td>reviewed</td><td>3202.24443</td><td>3335.80413</td><td>3156.99450</td><td> 6151.74000</td><td> 5983.79064</td><td> 6123.508587</td><td>0.000002830</td><td>0.000319444</td><td> 0.91329164</td></tr>\n",
       "\t<tr><th scope=row>Q15149-8</th><td>Q15149</td><td>PLEC_HUMAN</td><td>PLEC PLEC1   </td><td>reviewed</td><td>  13.18008</td><td>  13.66558</td><td>  13.50839</td><td>   10.36080</td><td>   10.83965</td><td>    9.876971</td><td>0.002227159</td><td>0.006280590</td><td>-0.37684673</td></tr>\n",
       "\t<tr><th scope=row>Q15149-4</th><td>Q15149</td><td>PLEC_HUMAN</td><td>PLEC PLEC1   </td><td>reviewed</td><td>  12.86596</td><td>  12.27709</td><td>  12.16204</td><td>   32.36789</td><td>   32.90083</td><td>   31.913274</td><td>0.000001350</td><td>0.000223258</td><td> 1.38131662</td></tr>\n",
       "\t<tr><th scope=row>P21333-2</th><td>P21333</td><td>FLNA_HUMAN</td><td>FLNA FLN FLN1</td><td>reviewed</td><td>3657.09665</td><td>4067.28070</td><td>3777.62035</td><td> 3550.46341</td><td> 3597.42159</td><td> 3459.932638</td><td>0.122895987</td><td>0.146827666</td><td>-0.11675658</td></tr>\n",
       "</tbody>\n",
       "</table>\n"
      ],
      "text/latex": [
       "A data.frame: 6 × 13\n",
       "\\begin{tabular}{r|lllllllllllll}\n",
       "  & Entry & Entry\\_name & Gene\\_name & Status & MCF7\\_1 & MCF7\\_2 & MCF7\\_3 & Doxorubicin\\_1 & Doxorubicin\\_2 & Doxorubicin\\_3 & P.value & P.adjust & log2FC\\\\\n",
       "  & <chr> & <chr> & <chr> & <chr> & <dbl> & <dbl> & <dbl> & <dbl> & <dbl> & <dbl> & <dbl> & <dbl> & <dbl>\\\\\n",
       "\\hline\n",
       "\tQ09666 & Q09666 & AHNK\\_HUMAN & AHNAK PM227   & reviewed & 4984.80051 & 4959.72469 & 4885.11485 & 12114.33764 & 11727.54481 & 11587.019520 & 0.000350161 & 0.002141511 &  1.25644317\\\\\n",
       "\tQ15149-3 & Q15149 & PLEC\\_HUMAN & PLEC PLEC1    & reviewed &   18.44386 &   20.20029 &   17.78025 &    20.96845 &    19.76066 &    18.960941 & 0.308643832 & 0.340135415 &  0.08117139\\\\\n",
       "\tQ15149 & Q15149 & PLEC\\_HUMAN & PLEC PLEC1    & reviewed & 3202.24443 & 3335.80413 & 3156.99450 &  6151.74000 &  5983.79064 &  6123.508587 & 0.000002830 & 0.000319444 &  0.91329164\\\\\n",
       "\tQ15149-8 & Q15149 & PLEC\\_HUMAN & PLEC PLEC1    & reviewed &   13.18008 &   13.66558 &   13.50839 &    10.36080 &    10.83965 &     9.876971 & 0.002227159 & 0.006280590 & -0.37684673\\\\\n",
       "\tQ15149-4 & Q15149 & PLEC\\_HUMAN & PLEC PLEC1    & reviewed &   12.86596 &   12.27709 &   12.16204 &    32.36789 &    32.90083 &    31.913274 & 0.000001350 & 0.000223258 &  1.38131662\\\\\n",
       "\tP21333-2 & P21333 & FLNA\\_HUMAN & FLNA FLN FLN1 & reviewed & 3657.09665 & 4067.28070 & 3777.62035 &  3550.46341 &  3597.42159 &  3459.932638 & 0.122895987 & 0.146827666 & -0.11675658\\\\\n",
       "\\end{tabular}\n"
      ],
      "text/markdown": [
       "\n",
       "A data.frame: 6 × 13\n",
       "\n",
       "| <!--/--> | Entry &lt;chr&gt; | Entry_name &lt;chr&gt; | Gene_name &lt;chr&gt; | Status &lt;chr&gt; | MCF7_1 &lt;dbl&gt; | MCF7_2 &lt;dbl&gt; | MCF7_3 &lt;dbl&gt; | Doxorubicin_1 &lt;dbl&gt; | Doxorubicin_2 &lt;dbl&gt; | Doxorubicin_3 &lt;dbl&gt; | P.value &lt;dbl&gt; | P.adjust &lt;dbl&gt; | log2FC &lt;dbl&gt; |\n",
       "|---|---|---|---|---|---|---|---|---|---|---|---|---|---|\n",
       "| Q09666 | Q09666 | AHNK_HUMAN | AHNAK PM227   | reviewed | 4984.80051 | 4959.72469 | 4885.11485 | 12114.33764 | 11727.54481 | 11587.019520 | 0.000350161 | 0.002141511 |  1.25644317 |\n",
       "| Q15149-3 | Q15149 | PLEC_HUMAN | PLEC PLEC1    | reviewed |   18.44386 |   20.20029 |   17.78025 |    20.96845 |    19.76066 |    18.960941 | 0.308643832 | 0.340135415 |  0.08117139 |\n",
       "| Q15149 | Q15149 | PLEC_HUMAN | PLEC PLEC1    | reviewed | 3202.24443 | 3335.80413 | 3156.99450 |  6151.74000 |  5983.79064 |  6123.508587 | 0.000002830 | 0.000319444 |  0.91329164 |\n",
       "| Q15149-8 | Q15149 | PLEC_HUMAN | PLEC PLEC1    | reviewed |   13.18008 |   13.66558 |   13.50839 |    10.36080 |    10.83965 |     9.876971 | 0.002227159 | 0.006280590 | -0.37684673 |\n",
       "| Q15149-4 | Q15149 | PLEC_HUMAN | PLEC PLEC1    | reviewed |   12.86596 |   12.27709 |   12.16204 |    32.36789 |    32.90083 |    31.913274 | 0.000001350 | 0.000223258 |  1.38131662 |\n",
       "| P21333-2 | P21333 | FLNA_HUMAN | FLNA FLN FLN1 | reviewed | 3657.09665 | 4067.28070 | 3777.62035 |  3550.46341 |  3597.42159 |  3459.932638 | 0.122895987 | 0.146827666 | -0.11675658 |\n",
       "\n"
      ],
      "text/plain": [
       "         Entry  Entry_name Gene_name     Status   MCF7_1     MCF7_2    \n",
       "Q09666   Q09666 AHNK_HUMAN AHNAK PM227   reviewed 4984.80051 4959.72469\n",
       "Q15149-3 Q15149 PLEC_HUMAN PLEC PLEC1    reviewed   18.44386   20.20029\n",
       "Q15149   Q15149 PLEC_HUMAN PLEC PLEC1    reviewed 3202.24443 3335.80413\n",
       "Q15149-8 Q15149 PLEC_HUMAN PLEC PLEC1    reviewed   13.18008   13.66558\n",
       "Q15149-4 Q15149 PLEC_HUMAN PLEC PLEC1    reviewed   12.86596   12.27709\n",
       "P21333-2 P21333 FLNA_HUMAN FLNA FLN FLN1 reviewed 3657.09665 4067.28070\n",
       "         MCF7_3     Doxorubicin_1 Doxorubicin_2 Doxorubicin_3 P.value    \n",
       "Q09666   4885.11485 12114.33764   11727.54481   11587.019520  0.000350161\n",
       "Q15149-3   17.78025    20.96845      19.76066      18.960941  0.308643832\n",
       "Q15149   3156.99450  6151.74000    5983.79064    6123.508587  0.000002830\n",
       "Q15149-8   13.50839    10.36080      10.83965       9.876971  0.002227159\n",
       "Q15149-4   12.16204    32.36789      32.90083      31.913274  0.000001350\n",
       "P21333-2 3777.62035  3550.46341    3597.42159    3459.932638  0.122895987\n",
       "         P.adjust    log2FC     \n",
       "Q09666   0.002141511  1.25644317\n",
       "Q15149-3 0.340135415  0.08117139\n",
       "Q15149   0.000319444  0.91329164\n",
       "Q15149-8 0.006280590 -0.37684673\n",
       "Q15149-4 0.000223258  1.38131662\n",
       "P21333-2 0.146827666 -0.11675658"
      ]
     },
     "metadata": {},
     "output_type": "display_data"
    }
   ],
   "source": [
    "head(example)"
   ]
  },
  {
   "cell_type": "code",
   "execution_count": 33,
   "metadata": {},
   "outputs": [
    {
     "data": {
      "text/html": [
       "<table class=\"dataframe\">\n",
       "<caption>A data.frame: 6 × 6</caption>\n",
       "<thead>\n",
       "\t<tr><th></th><th scope=col>MCF7_1</th><th scope=col>MCF7_2</th><th scope=col>MCF7_3</th><th scope=col>Doxorubicin_1</th><th scope=col>Doxorubicin_2</th><th scope=col>Doxorubicin_3</th></tr>\n",
       "\t<tr><th></th><th scope=col>&lt;dbl&gt;</th><th scope=col>&lt;dbl&gt;</th><th scope=col>&lt;dbl&gt;</th><th scope=col>&lt;dbl&gt;</th><th scope=col>&lt;dbl&gt;</th><th scope=col>&lt;dbl&gt;</th></tr>\n",
       "</thead>\n",
       "<tbody>\n",
       "\t<tr><th scope=row>Q09666</th><td>4984.80051</td><td>4959.72469</td><td>4885.11485</td><td>12114.33764</td><td>11727.54481</td><td>11587.019520</td></tr>\n",
       "\t<tr><th scope=row>Q15149-3</th><td>  18.44386</td><td>  20.20029</td><td>  17.78025</td><td>   20.96845</td><td>   19.76066</td><td>   18.960941</td></tr>\n",
       "\t<tr><th scope=row>Q15149</th><td>3202.24443</td><td>3335.80413</td><td>3156.99450</td><td> 6151.74000</td><td> 5983.79064</td><td> 6123.508587</td></tr>\n",
       "\t<tr><th scope=row>Q15149-8</th><td>  13.18008</td><td>  13.66558</td><td>  13.50839</td><td>   10.36080</td><td>   10.83965</td><td>    9.876971</td></tr>\n",
       "\t<tr><th scope=row>Q15149-4</th><td>  12.86596</td><td>  12.27709</td><td>  12.16204</td><td>   32.36789</td><td>   32.90083</td><td>   31.913274</td></tr>\n",
       "\t<tr><th scope=row>P21333-2</th><td>3657.09665</td><td>4067.28070</td><td>3777.62035</td><td> 3550.46341</td><td> 3597.42159</td><td> 3459.932638</td></tr>\n",
       "</tbody>\n",
       "</table>\n"
      ],
      "text/latex": [
       "A data.frame: 6 × 6\n",
       "\\begin{tabular}{r|llllll}\n",
       "  & MCF7\\_1 & MCF7\\_2 & MCF7\\_3 & Doxorubicin\\_1 & Doxorubicin\\_2 & Doxorubicin\\_3\\\\\n",
       "  & <dbl> & <dbl> & <dbl> & <dbl> & <dbl> & <dbl>\\\\\n",
       "\\hline\n",
       "\tQ09666 & 4984.80051 & 4959.72469 & 4885.11485 & 12114.33764 & 11727.54481 & 11587.019520\\\\\n",
       "\tQ15149-3 &   18.44386 &   20.20029 &   17.78025 &    20.96845 &    19.76066 &    18.960941\\\\\n",
       "\tQ15149 & 3202.24443 & 3335.80413 & 3156.99450 &  6151.74000 &  5983.79064 &  6123.508587\\\\\n",
       "\tQ15149-8 &   13.18008 &   13.66558 &   13.50839 &    10.36080 &    10.83965 &     9.876971\\\\\n",
       "\tQ15149-4 &   12.86596 &   12.27709 &   12.16204 &    32.36789 &    32.90083 &    31.913274\\\\\n",
       "\tP21333-2 & 3657.09665 & 4067.28070 & 3777.62035 &  3550.46341 &  3597.42159 &  3459.932638\\\\\n",
       "\\end{tabular}\n"
      ],
      "text/markdown": [
       "\n",
       "A data.frame: 6 × 6\n",
       "\n",
       "| <!--/--> | MCF7_1 &lt;dbl&gt; | MCF7_2 &lt;dbl&gt; | MCF7_3 &lt;dbl&gt; | Doxorubicin_1 &lt;dbl&gt; | Doxorubicin_2 &lt;dbl&gt; | Doxorubicin_3 &lt;dbl&gt; |\n",
       "|---|---|---|---|---|---|---|\n",
       "| Q09666 | 4984.80051 | 4959.72469 | 4885.11485 | 12114.33764 | 11727.54481 | 11587.019520 |\n",
       "| Q15149-3 |   18.44386 |   20.20029 |   17.78025 |    20.96845 |    19.76066 |    18.960941 |\n",
       "| Q15149 | 3202.24443 | 3335.80413 | 3156.99450 |  6151.74000 |  5983.79064 |  6123.508587 |\n",
       "| Q15149-8 |   13.18008 |   13.66558 |   13.50839 |    10.36080 |    10.83965 |     9.876971 |\n",
       "| Q15149-4 |   12.86596 |   12.27709 |   12.16204 |    32.36789 |    32.90083 |    31.913274 |\n",
       "| P21333-2 | 3657.09665 | 4067.28070 | 3777.62035 |  3550.46341 |  3597.42159 |  3459.932638 |\n",
       "\n"
      ],
      "text/plain": [
       "         MCF7_1     MCF7_2     MCF7_3     Doxorubicin_1 Doxorubicin_2\n",
       "Q09666   4984.80051 4959.72469 4885.11485 12114.33764   11727.54481  \n",
       "Q15149-3   18.44386   20.20029   17.78025    20.96845      19.76066  \n",
       "Q15149   3202.24443 3335.80413 3156.99450  6151.74000    5983.79064  \n",
       "Q15149-8   13.18008   13.66558   13.50839    10.36080      10.83965  \n",
       "Q15149-4   12.86596   12.27709   12.16204    32.36789      32.90083  \n",
       "P21333-2 3657.09665 4067.28070 3777.62035  3550.46341    3597.42159  \n",
       "         Doxorubicin_3\n",
       "Q09666   11587.019520 \n",
       "Q15149-3    18.960941 \n",
       "Q15149    6123.508587 \n",
       "Q15149-8     9.876971 \n",
       "Q15149-4    31.913274 \n",
       "P21333-2  3459.932638 "
      ]
     },
     "metadata": {},
     "output_type": "display_data"
    }
   ],
   "source": [
    "expression <- subset(example,select=c(\"MCF7_1\",\"MCF7_2\",\"MCF7_3\",\"Doxorubicin_1\",\"Doxorubicin_2\",\"Doxorubicin_3\"))\n",
    "\n",
    "head(expression)"
   ]
  },
  {
   "cell_type": "code",
   "execution_count": 34,
   "metadata": {},
   "outputs": [
    {
     "data": {
      "text/html": [
       "<table class=\"dataframe\">\n",
       "<caption>A data.frame: 6 × 2</caption>\n",
       "<thead>\n",
       "\t<tr><th></th><th scope=col>P.adjust</th><th scope=col>log2FC</th></tr>\n",
       "\t<tr><th></th><th scope=col>&lt;dbl&gt;</th><th scope=col>&lt;dbl&gt;</th></tr>\n",
       "</thead>\n",
       "<tbody>\n",
       "\t<tr><th scope=row>Q09666</th><td>0.002141511</td><td> 1.25644317</td></tr>\n",
       "\t<tr><th scope=row>Q15149-3</th><td>0.340135415</td><td> 0.08117139</td></tr>\n",
       "\t<tr><th scope=row>Q15149</th><td>0.000319444</td><td> 0.91329164</td></tr>\n",
       "\t<tr><th scope=row>Q15149-8</th><td>0.006280590</td><td>-0.37684673</td></tr>\n",
       "\t<tr><th scope=row>Q15149-4</th><td>0.000223258</td><td> 1.38131662</td></tr>\n",
       "\t<tr><th scope=row>P21333-2</th><td>0.146827666</td><td>-0.11675658</td></tr>\n",
       "</tbody>\n",
       "</table>\n"
      ],
      "text/latex": [
       "A data.frame: 6 × 2\n",
       "\\begin{tabular}{r|ll}\n",
       "  & P.adjust & log2FC\\\\\n",
       "  & <dbl> & <dbl>\\\\\n",
       "\\hline\n",
       "\tQ09666 & 0.002141511 &  1.25644317\\\\\n",
       "\tQ15149-3 & 0.340135415 &  0.08117139\\\\\n",
       "\tQ15149 & 0.000319444 &  0.91329164\\\\\n",
       "\tQ15149-8 & 0.006280590 & -0.37684673\\\\\n",
       "\tQ15149-4 & 0.000223258 &  1.38131662\\\\\n",
       "\tP21333-2 & 0.146827666 & -0.11675658\\\\\n",
       "\\end{tabular}\n"
      ],
      "text/markdown": [
       "\n",
       "A data.frame: 6 × 2\n",
       "\n",
       "| <!--/--> | P.adjust &lt;dbl&gt; | log2FC &lt;dbl&gt; |\n",
       "|---|---|---|\n",
       "| Q09666 | 0.002141511 |  1.25644317 |\n",
       "| Q15149-3 | 0.340135415 |  0.08117139 |\n",
       "| Q15149 | 0.000319444 |  0.91329164 |\n",
       "| Q15149-8 | 0.006280590 | -0.37684673 |\n",
       "| Q15149-4 | 0.000223258 |  1.38131662 |\n",
       "| P21333-2 | 0.146827666 | -0.11675658 |\n",
       "\n"
      ],
      "text/plain": [
       "         P.adjust    log2FC     \n",
       "Q09666   0.002141511  1.25644317\n",
       "Q15149-3 0.340135415  0.08117139\n",
       "Q15149   0.000319444  0.91329164\n",
       "Q15149-8 0.006280590 -0.37684673\n",
       "Q15149-4 0.000223258  1.38131662\n",
       "P21333-2 0.146827666 -0.11675658"
      ]
     },
     "metadata": {},
     "output_type": "display_data"
    }
   ],
   "source": [
    "fold <- subset(example,select=c(\"P.adjust\",\"log2FC\"))\n",
    "\n",
    "head(fold)"
   ]
  },
  {
   "cell_type": "markdown",
   "metadata": {},
   "source": [
    "## 조건에 맞는 열로 추출하기"
   ]
  },
  {
   "cell_type": "code",
   "execution_count": 35,
   "metadata": {},
   "outputs": [
    {
     "data": {
      "text/html": [
       "<table class=\"dataframe\">\n",
       "<caption>A data.frame: 6 × 2</caption>\n",
       "<thead>\n",
       "\t<tr><th></th><th scope=col>P.adjust</th><th scope=col>log2FC</th></tr>\n",
       "\t<tr><th></th><th scope=col>&lt;dbl&gt;</th><th scope=col>&lt;dbl&gt;</th></tr>\n",
       "</thead>\n",
       "<tbody>\n",
       "\t<tr><th scope=row>Q09666</th><td>0.002141511</td><td> 1.25644317</td></tr>\n",
       "\t<tr><th scope=row>Q15149-3</th><td>0.340135415</td><td> 0.08117139</td></tr>\n",
       "\t<tr><th scope=row>Q15149</th><td>0.000319444</td><td> 0.91329164</td></tr>\n",
       "\t<tr><th scope=row>Q15149-8</th><td>0.006280590</td><td>-0.37684673</td></tr>\n",
       "\t<tr><th scope=row>Q15149-4</th><td>0.000223258</td><td> 1.38131662</td></tr>\n",
       "\t<tr><th scope=row>P21333-2</th><td>0.146827666</td><td>-0.11675658</td></tr>\n",
       "</tbody>\n",
       "</table>\n"
      ],
      "text/latex": [
       "A data.frame: 6 × 2\n",
       "\\begin{tabular}{r|ll}\n",
       "  & P.adjust & log2FC\\\\\n",
       "  & <dbl> & <dbl>\\\\\n",
       "\\hline\n",
       "\tQ09666 & 0.002141511 &  1.25644317\\\\\n",
       "\tQ15149-3 & 0.340135415 &  0.08117139\\\\\n",
       "\tQ15149 & 0.000319444 &  0.91329164\\\\\n",
       "\tQ15149-8 & 0.006280590 & -0.37684673\\\\\n",
       "\tQ15149-4 & 0.000223258 &  1.38131662\\\\\n",
       "\tP21333-2 & 0.146827666 & -0.11675658\\\\\n",
       "\\end{tabular}\n"
      ],
      "text/markdown": [
       "\n",
       "A data.frame: 6 × 2\n",
       "\n",
       "| <!--/--> | P.adjust &lt;dbl&gt; | log2FC &lt;dbl&gt; |\n",
       "|---|---|---|\n",
       "| Q09666 | 0.002141511 |  1.25644317 |\n",
       "| Q15149-3 | 0.340135415 |  0.08117139 |\n",
       "| Q15149 | 0.000319444 |  0.91329164 |\n",
       "| Q15149-8 | 0.006280590 | -0.37684673 |\n",
       "| Q15149-4 | 0.000223258 |  1.38131662 |\n",
       "| P21333-2 | 0.146827666 | -0.11675658 |\n",
       "\n"
      ],
      "text/plain": [
       "         P.adjust    log2FC     \n",
       "Q09666   0.002141511  1.25644317\n",
       "Q15149-3 0.340135415  0.08117139\n",
       "Q15149   0.000319444  0.91329164\n",
       "Q15149-8 0.006280590 -0.37684673\n",
       "Q15149-4 0.000223258  1.38131662\n",
       "P21333-2 0.146827666 -0.11675658"
      ]
     },
     "metadata": {},
     "output_type": "display_data"
    }
   ],
   "source": [
    "head(fold)"
   ]
  },
  {
   "cell_type": "code",
   "execution_count": 36,
   "metadata": {},
   "outputs": [
    {
     "data": {
      "text/html": [
       "<table class=\"dataframe\">\n",
       "<caption>A data.frame: 6 × 2</caption>\n",
       "<thead>\n",
       "\t<tr><th></th><th scope=col>P.adjust</th><th scope=col>log2FC</th></tr>\n",
       "\t<tr><th></th><th scope=col>&lt;dbl&gt;</th><th scope=col>&lt;dbl&gt;</th></tr>\n",
       "</thead>\n",
       "<tbody>\n",
       "\t<tr><th scope=row>Q09666</th><td>0.002141511</td><td> 1.2564432</td></tr>\n",
       "\t<tr><th scope=row>Q15149</th><td>0.000319444</td><td> 0.9132916</td></tr>\n",
       "\t<tr><th scope=row>Q15149-8</th><td>0.006280590</td><td>-0.3768467</td></tr>\n",
       "\t<tr><th scope=row>Q15149-4</th><td>0.000223258</td><td> 1.3813166</td></tr>\n",
       "\t<tr><th scope=row>Q14204</th><td>0.011834786</td><td> 0.4533949</td></tr>\n",
       "\t<tr><th scope=row>P78527</th><td>0.000873574</td><td> 0.5018461</td></tr>\n",
       "</tbody>\n",
       "</table>\n"
      ],
      "text/latex": [
       "A data.frame: 6 × 2\n",
       "\\begin{tabular}{r|ll}\n",
       "  & P.adjust & log2FC\\\\\n",
       "  & <dbl> & <dbl>\\\\\n",
       "\\hline\n",
       "\tQ09666 & 0.002141511 &  1.2564432\\\\\n",
       "\tQ15149 & 0.000319444 &  0.9132916\\\\\n",
       "\tQ15149-8 & 0.006280590 & -0.3768467\\\\\n",
       "\tQ15149-4 & 0.000223258 &  1.3813166\\\\\n",
       "\tQ14204 & 0.011834786 &  0.4533949\\\\\n",
       "\tP78527 & 0.000873574 &  0.5018461\\\\\n",
       "\\end{tabular}\n"
      ],
      "text/markdown": [
       "\n",
       "A data.frame: 6 × 2\n",
       "\n",
       "| <!--/--> | P.adjust &lt;dbl&gt; | log2FC &lt;dbl&gt; |\n",
       "|---|---|---|\n",
       "| Q09666 | 0.002141511 |  1.2564432 |\n",
       "| Q15149 | 0.000319444 |  0.9132916 |\n",
       "| Q15149-8 | 0.006280590 | -0.3768467 |\n",
       "| Q15149-4 | 0.000223258 |  1.3813166 |\n",
       "| Q14204 | 0.011834786 |  0.4533949 |\n",
       "| P78527 | 0.000873574 |  0.5018461 |\n",
       "\n"
      ],
      "text/plain": [
       "         P.adjust    log2FC    \n",
       "Q09666   0.002141511  1.2564432\n",
       "Q15149   0.000319444  0.9132916\n",
       "Q15149-8 0.006280590 -0.3768467\n",
       "Q15149-4 0.000223258  1.3813166\n",
       "Q14204   0.011834786  0.4533949\n",
       "P78527   0.000873574  0.5018461"
      ]
     },
     "metadata": {},
     "output_type": "display_data"
    },
    {
     "data": {
      "text/html": [
       "5623"
      ],
      "text/latex": [
       "5623"
      ],
      "text/markdown": [
       "5623"
      ],
      "text/plain": [
       "[1] 5623"
      ]
     },
     "metadata": {},
     "output_type": "display_data"
    }
   ],
   "source": [
    "# P-value로 데이터 자르기\n",
    "fold.pval.05 <- subset(fold,fold$P.adjust <= 0.05)\n",
    "head(fold.pval.05)\n",
    "nrow(fold.pval.05)"
   ]
  },
  {
   "cell_type": "code",
   "execution_count": 37,
   "metadata": {},
   "outputs": [
    {
     "data": {
      "text/html": [
       "<table class=\"dataframe\">\n",
       "<caption>A data.frame: 6 × 2</caption>\n",
       "<thead>\n",
       "\t<tr><th></th><th scope=col>P.adjust</th><th scope=col>log2FC</th></tr>\n",
       "\t<tr><th></th><th scope=col>&lt;dbl&gt;</th><th scope=col>&lt;dbl&gt;</th></tr>\n",
       "</thead>\n",
       "<tbody>\n",
       "\t<tr><th scope=row>Q09666</th><td>0.002141511</td><td> 1.2564432</td></tr>\n",
       "\t<tr><th scope=row>Q15149</th><td>0.000319444</td><td> 0.9132916</td></tr>\n",
       "\t<tr><th scope=row>Q15149-8</th><td>0.006280590</td><td>-0.3768467</td></tr>\n",
       "\t<tr><th scope=row>Q15149-4</th><td>0.000223258</td><td> 1.3813166</td></tr>\n",
       "\t<tr><th scope=row>Q14204</th><td>0.011834786</td><td> 0.4533949</td></tr>\n",
       "\t<tr><th scope=row>P78527</th><td>0.000873574</td><td> 0.5018461</td></tr>\n",
       "</tbody>\n",
       "</table>\n"
      ],
      "text/latex": [
       "A data.frame: 6 × 2\n",
       "\\begin{tabular}{r|ll}\n",
       "  & P.adjust & log2FC\\\\\n",
       "  & <dbl> & <dbl>\\\\\n",
       "\\hline\n",
       "\tQ09666 & 0.002141511 &  1.2564432\\\\\n",
       "\tQ15149 & 0.000319444 &  0.9132916\\\\\n",
       "\tQ15149-8 & 0.006280590 & -0.3768467\\\\\n",
       "\tQ15149-4 & 0.000223258 &  1.3813166\\\\\n",
       "\tQ14204 & 0.011834786 &  0.4533949\\\\\n",
       "\tP78527 & 0.000873574 &  0.5018461\\\\\n",
       "\\end{tabular}\n"
      ],
      "text/markdown": [
       "\n",
       "A data.frame: 6 × 2\n",
       "\n",
       "| <!--/--> | P.adjust &lt;dbl&gt; | log2FC &lt;dbl&gt; |\n",
       "|---|---|---|\n",
       "| Q09666 | 0.002141511 |  1.2564432 |\n",
       "| Q15149 | 0.000319444 |  0.9132916 |\n",
       "| Q15149-8 | 0.006280590 | -0.3768467 |\n",
       "| Q15149-4 | 0.000223258 |  1.3813166 |\n",
       "| Q14204 | 0.011834786 |  0.4533949 |\n",
       "| P78527 | 0.000873574 |  0.5018461 |\n",
       "\n"
      ],
      "text/plain": [
       "         P.adjust    log2FC    \n",
       "Q09666   0.002141511  1.2564432\n",
       "Q15149   0.000319444  0.9132916\n",
       "Q15149-8 0.006280590 -0.3768467\n",
       "Q15149-4 0.000223258  1.3813166\n",
       "Q14204   0.011834786  0.4533949\n",
       "P78527   0.000873574  0.5018461"
      ]
     },
     "metadata": {},
     "output_type": "display_data"
    },
    {
     "data": {
      "text/html": [
       "4741"
      ],
      "text/latex": [
       "4741"
      ],
      "text/markdown": [
       "4741"
      ],
      "text/plain": [
       "[1] 4741"
      ]
     },
     "metadata": {},
     "output_type": "display_data"
    }
   ],
   "source": [
    "# P-value & Fold change로 데이터 자르기\n",
    "fold.pval.05.Fold1.2 <- subset(fold,fold$P.adjust <= 0.05 & (fold$log2FC >= log(1.2,2)|fold$log2FC <= -log(1.2,2) ) )\n",
    "head(fold.pval.05.Fold1.2)\n",
    "nrow(fold.pval.05.Fold1.2)"
   ]
  },
  {
   "cell_type": "markdown",
   "metadata": {},
   "source": [
    "# Ch.3 Library 활용하여 데이터 프레임 핸들링 하기"
   ]
  },
  {
   "cell_type": "code",
   "execution_count": 38,
   "metadata": {},
   "outputs": [
    {
     "ename": "ERROR",
     "evalue": "Error in install.packages(): no packages were specified\n",
     "output_type": "error",
     "traceback": [
      "Error in install.packages(): no packages were specified\nTraceback:\n",
      "1. install.packages()",
      "2. stop(\"no packages were specified\")"
     ]
    }
   ],
   "source": [
    "install.packages()\n",
    "#install.packages(\"tidyverse\")\n",
    "# OR\n",
    "\n",
    "#install.packages(\"devtools\")\n",
    "#devtools::install_github(\"tidyverse/tidyverse\")"
   ]
  },
  {
   "cell_type": "markdown",
   "metadata": {},
   "source": [
    "### Tidyverse 란?\n",
    "  \n",
    "---\n",
    "![Tidyverse](https://teachdatascience.com/post/tidyverse/tidyverse-package-workflow.png)"
   ]
  },
  {
   "cell_type": "code",
   "execution_count": 39,
   "metadata": {},
   "outputs": [
    {
     "ename": "ERROR",
     "evalue": "Error in library(\"tidyverse\"): ‘tidyverse’이라고 불리는 패키지가 없습니다\n",
     "output_type": "error",
     "traceback": [
      "Error in library(\"tidyverse\"): ‘tidyverse’이라고 불리는 패키지가 없습니다\nTraceback:\n",
      "1. library(\"tidyverse\")"
     ]
    }
   ],
   "source": [
    "library(\"tidyverse\")\n",
    "library(\"reshape2\")"
   ]
  },
  {
   "cell_type": "markdown",
   "metadata": {},
   "source": [
    "### stat 패키지 살펴보기\n",
    "\n",
    "[stat 패키지 함수 목록 바로가기](https://stat.ethz.ch/R-manual/R-devel/library/stats/html/00Index.html)"
   ]
  },
  {
   "cell_type": "markdown",
   "metadata": {},
   "source": [
    "## 패키지를 활용해 데이터 조작하기"
   ]
  },
  {
   "cell_type": "code",
   "execution_count": 40,
   "metadata": {
    "scrolled": false
   },
   "outputs": [
    {
     "data": {
      "text/html": [
       "<table class=\"dataframe\">\n",
       "<caption>A data.frame: 6 × 2</caption>\n",
       "<thead>\n",
       "\t<tr><th></th><th scope=col>P.adjust</th><th scope=col>log2FC</th></tr>\n",
       "\t<tr><th></th><th scope=col>&lt;dbl&gt;</th><th scope=col>&lt;dbl&gt;</th></tr>\n",
       "</thead>\n",
       "<tbody>\n",
       "\t<tr><th scope=row>Q09666</th><td>0.002141511</td><td> 1.25644317</td></tr>\n",
       "\t<tr><th scope=row>Q15149-3</th><td>0.340135415</td><td> 0.08117139</td></tr>\n",
       "\t<tr><th scope=row>Q15149</th><td>0.000319444</td><td> 0.91329164</td></tr>\n",
       "\t<tr><th scope=row>Q15149-8</th><td>0.006280590</td><td>-0.37684673</td></tr>\n",
       "\t<tr><th scope=row>Q15149-4</th><td>0.000223258</td><td> 1.38131662</td></tr>\n",
       "\t<tr><th scope=row>P21333-2</th><td>0.146827666</td><td>-0.11675658</td></tr>\n",
       "</tbody>\n",
       "</table>\n"
      ],
      "text/latex": [
       "A data.frame: 6 × 2\n",
       "\\begin{tabular}{r|ll}\n",
       "  & P.adjust & log2FC\\\\\n",
       "  & <dbl> & <dbl>\\\\\n",
       "\\hline\n",
       "\tQ09666 & 0.002141511 &  1.25644317\\\\\n",
       "\tQ15149-3 & 0.340135415 &  0.08117139\\\\\n",
       "\tQ15149 & 0.000319444 &  0.91329164\\\\\n",
       "\tQ15149-8 & 0.006280590 & -0.37684673\\\\\n",
       "\tQ15149-4 & 0.000223258 &  1.38131662\\\\\n",
       "\tP21333-2 & 0.146827666 & -0.11675658\\\\\n",
       "\\end{tabular}\n"
      ],
      "text/markdown": [
       "\n",
       "A data.frame: 6 × 2\n",
       "\n",
       "| <!--/--> | P.adjust &lt;dbl&gt; | log2FC &lt;dbl&gt; |\n",
       "|---|---|---|\n",
       "| Q09666 | 0.002141511 |  1.25644317 |\n",
       "| Q15149-3 | 0.340135415 |  0.08117139 |\n",
       "| Q15149 | 0.000319444 |  0.91329164 |\n",
       "| Q15149-8 | 0.006280590 | -0.37684673 |\n",
       "| Q15149-4 | 0.000223258 |  1.38131662 |\n",
       "| P21333-2 | 0.146827666 | -0.11675658 |\n",
       "\n"
      ],
      "text/plain": [
       "         P.adjust    log2FC     \n",
       "Q09666   0.002141511  1.25644317\n",
       "Q15149-3 0.340135415  0.08117139\n",
       "Q15149   0.000319444  0.91329164\n",
       "Q15149-8 0.006280590 -0.37684673\n",
       "Q15149-4 0.000223258  1.38131662\n",
       "P21333-2 0.146827666 -0.11675658"
      ]
     },
     "metadata": {},
     "output_type": "display_data"
    },
    {
     "ename": "ERROR",
     "evalue": "Error in rownames_to_column(fold, var = \"Accession\"): 함수 \"rownames_to_column\"를 찾을 수 없습니다\n",
     "output_type": "error",
     "traceback": [
      "Error in rownames_to_column(fold, var = \"Accession\"): 함수 \"rownames_to_column\"를 찾을 수 없습니다\nTraceback:\n"
     ]
    }
   ],
   "source": [
    "head(fold)\n",
    "fold <- rownames_to_column(fold, var=\"Accession\")\n",
    "head(fold)"
   ]
  },
  {
   "cell_type": "code",
   "execution_count": 41,
   "metadata": {},
   "outputs": [
    {
     "data": {
      "text/html": [
       "<table class=\"dataframe\">\n",
       "<caption>A data.frame: 6 × 2</caption>\n",
       "<thead>\n",
       "\t<tr><th></th><th scope=col>P.adjust</th><th scope=col>log2FC</th></tr>\n",
       "\t<tr><th></th><th scope=col>&lt;dbl&gt;</th><th scope=col>&lt;dbl&gt;</th></tr>\n",
       "</thead>\n",
       "<tbody>\n",
       "\t<tr><th scope=row>Q09666</th><td>0.002141511</td><td> 1.25644317</td></tr>\n",
       "\t<tr><th scope=row>Q15149-3</th><td>0.340135415</td><td> 0.08117139</td></tr>\n",
       "\t<tr><th scope=row>Q15149</th><td>0.000319444</td><td> 0.91329164</td></tr>\n",
       "\t<tr><th scope=row>Q15149-8</th><td>0.006280590</td><td>-0.37684673</td></tr>\n",
       "\t<tr><th scope=row>Q15149-4</th><td>0.000223258</td><td> 1.38131662</td></tr>\n",
       "\t<tr><th scope=row>P21333-2</th><td>0.146827666</td><td>-0.11675658</td></tr>\n",
       "</tbody>\n",
       "</table>\n"
      ],
      "text/latex": [
       "A data.frame: 6 × 2\n",
       "\\begin{tabular}{r|ll}\n",
       "  & P.adjust & log2FC\\\\\n",
       "  & <dbl> & <dbl>\\\\\n",
       "\\hline\n",
       "\tQ09666 & 0.002141511 &  1.25644317\\\\\n",
       "\tQ15149-3 & 0.340135415 &  0.08117139\\\\\n",
       "\tQ15149 & 0.000319444 &  0.91329164\\\\\n",
       "\tQ15149-8 & 0.006280590 & -0.37684673\\\\\n",
       "\tQ15149-4 & 0.000223258 &  1.38131662\\\\\n",
       "\tP21333-2 & 0.146827666 & -0.11675658\\\\\n",
       "\\end{tabular}\n"
      ],
      "text/markdown": [
       "\n",
       "A data.frame: 6 × 2\n",
       "\n",
       "| <!--/--> | P.adjust &lt;dbl&gt; | log2FC &lt;dbl&gt; |\n",
       "|---|---|---|\n",
       "| Q09666 | 0.002141511 |  1.25644317 |\n",
       "| Q15149-3 | 0.340135415 |  0.08117139 |\n",
       "| Q15149 | 0.000319444 |  0.91329164 |\n",
       "| Q15149-8 | 0.006280590 | -0.37684673 |\n",
       "| Q15149-4 | 0.000223258 |  1.38131662 |\n",
       "| P21333-2 | 0.146827666 | -0.11675658 |\n",
       "\n"
      ],
      "text/plain": [
       "         P.adjust    log2FC     \n",
       "Q09666   0.002141511  1.25644317\n",
       "Q15149-3 0.340135415  0.08117139\n",
       "Q15149   0.000319444  0.91329164\n",
       "Q15149-8 0.006280590 -0.37684673\n",
       "Q15149-4 0.000223258  1.38131662\n",
       "P21333-2 0.146827666 -0.11675658"
      ]
     },
     "metadata": {},
     "output_type": "display_data"
    },
    {
     "ename": "ERROR",
     "evalue": "Error in column_to_rownames(fold, var = \"Accession\"): 함수 \"column_to_rownames\"를 찾을 수 없습니다\n",
     "output_type": "error",
     "traceback": [
      "Error in column_to_rownames(fold, var = \"Accession\"): 함수 \"column_to_rownames\"를 찾을 수 없습니다\nTraceback:\n"
     ]
    }
   ],
   "source": [
    "head(fold)\n",
    "fold <- column_to_rownames(fold, var=\"Accession\")\n",
    "head(fold)"
   ]
  },
  {
   "cell_type": "markdown",
   "metadata": {},
   "source": [
    "## 데이터 melt 시켜 tidy 형태의 데이터로 만들기"
   ]
  },
  {
   "cell_type": "code",
   "execution_count": 42,
   "metadata": {},
   "outputs": [
    {
     "data": {
      "text/html": [
       "<table class=\"dataframe\">\n",
       "<caption>A data.frame: 6 × 6</caption>\n",
       "<thead>\n",
       "\t<tr><th></th><th scope=col>MCF7_1</th><th scope=col>MCF7_2</th><th scope=col>MCF7_3</th><th scope=col>Doxorubicin_1</th><th scope=col>Doxorubicin_2</th><th scope=col>Doxorubicin_3</th></tr>\n",
       "\t<tr><th></th><th scope=col>&lt;dbl&gt;</th><th scope=col>&lt;dbl&gt;</th><th scope=col>&lt;dbl&gt;</th><th scope=col>&lt;dbl&gt;</th><th scope=col>&lt;dbl&gt;</th><th scope=col>&lt;dbl&gt;</th></tr>\n",
       "</thead>\n",
       "<tbody>\n",
       "\t<tr><th scope=row>Q09666</th><td>4984.80051</td><td>4959.72469</td><td>4885.11485</td><td>12114.33764</td><td>11727.54481</td><td>11587.019520</td></tr>\n",
       "\t<tr><th scope=row>Q15149-3</th><td>  18.44386</td><td>  20.20029</td><td>  17.78025</td><td>   20.96845</td><td>   19.76066</td><td>   18.960941</td></tr>\n",
       "\t<tr><th scope=row>Q15149</th><td>3202.24443</td><td>3335.80413</td><td>3156.99450</td><td> 6151.74000</td><td> 5983.79064</td><td> 6123.508587</td></tr>\n",
       "\t<tr><th scope=row>Q15149-8</th><td>  13.18008</td><td>  13.66558</td><td>  13.50839</td><td>   10.36080</td><td>   10.83965</td><td>    9.876971</td></tr>\n",
       "\t<tr><th scope=row>Q15149-4</th><td>  12.86596</td><td>  12.27709</td><td>  12.16204</td><td>   32.36789</td><td>   32.90083</td><td>   31.913274</td></tr>\n",
       "\t<tr><th scope=row>P21333-2</th><td>3657.09665</td><td>4067.28070</td><td>3777.62035</td><td> 3550.46341</td><td> 3597.42159</td><td> 3459.932638</td></tr>\n",
       "</tbody>\n",
       "</table>\n"
      ],
      "text/latex": [
       "A data.frame: 6 × 6\n",
       "\\begin{tabular}{r|llllll}\n",
       "  & MCF7\\_1 & MCF7\\_2 & MCF7\\_3 & Doxorubicin\\_1 & Doxorubicin\\_2 & Doxorubicin\\_3\\\\\n",
       "  & <dbl> & <dbl> & <dbl> & <dbl> & <dbl> & <dbl>\\\\\n",
       "\\hline\n",
       "\tQ09666 & 4984.80051 & 4959.72469 & 4885.11485 & 12114.33764 & 11727.54481 & 11587.019520\\\\\n",
       "\tQ15149-3 &   18.44386 &   20.20029 &   17.78025 &    20.96845 &    19.76066 &    18.960941\\\\\n",
       "\tQ15149 & 3202.24443 & 3335.80413 & 3156.99450 &  6151.74000 &  5983.79064 &  6123.508587\\\\\n",
       "\tQ15149-8 &   13.18008 &   13.66558 &   13.50839 &    10.36080 &    10.83965 &     9.876971\\\\\n",
       "\tQ15149-4 &   12.86596 &   12.27709 &   12.16204 &    32.36789 &    32.90083 &    31.913274\\\\\n",
       "\tP21333-2 & 3657.09665 & 4067.28070 & 3777.62035 &  3550.46341 &  3597.42159 &  3459.932638\\\\\n",
       "\\end{tabular}\n"
      ],
      "text/markdown": [
       "\n",
       "A data.frame: 6 × 6\n",
       "\n",
       "| <!--/--> | MCF7_1 &lt;dbl&gt; | MCF7_2 &lt;dbl&gt; | MCF7_3 &lt;dbl&gt; | Doxorubicin_1 &lt;dbl&gt; | Doxorubicin_2 &lt;dbl&gt; | Doxorubicin_3 &lt;dbl&gt; |\n",
       "|---|---|---|---|---|---|---|\n",
       "| Q09666 | 4984.80051 | 4959.72469 | 4885.11485 | 12114.33764 | 11727.54481 | 11587.019520 |\n",
       "| Q15149-3 |   18.44386 |   20.20029 |   17.78025 |    20.96845 |    19.76066 |    18.960941 |\n",
       "| Q15149 | 3202.24443 | 3335.80413 | 3156.99450 |  6151.74000 |  5983.79064 |  6123.508587 |\n",
       "| Q15149-8 |   13.18008 |   13.66558 |   13.50839 |    10.36080 |    10.83965 |     9.876971 |\n",
       "| Q15149-4 |   12.86596 |   12.27709 |   12.16204 |    32.36789 |    32.90083 |    31.913274 |\n",
       "| P21333-2 | 3657.09665 | 4067.28070 | 3777.62035 |  3550.46341 |  3597.42159 |  3459.932638 |\n",
       "\n"
      ],
      "text/plain": [
       "         MCF7_1     MCF7_2     MCF7_3     Doxorubicin_1 Doxorubicin_2\n",
       "Q09666   4984.80051 4959.72469 4885.11485 12114.33764   11727.54481  \n",
       "Q15149-3   18.44386   20.20029   17.78025    20.96845      19.76066  \n",
       "Q15149   3202.24443 3335.80413 3156.99450  6151.74000    5983.79064  \n",
       "Q15149-8   13.18008   13.66558   13.50839    10.36080      10.83965  \n",
       "Q15149-4   12.86596   12.27709   12.16204    32.36789      32.90083  \n",
       "P21333-2 3657.09665 4067.28070 3777.62035  3550.46341    3597.42159  \n",
       "         Doxorubicin_3\n",
       "Q09666   11587.019520 \n",
       "Q15149-3    18.960941 \n",
       "Q15149    6123.508587 \n",
       "Q15149-8     9.876971 \n",
       "Q15149-4    31.913274 \n",
       "P21333-2  3459.932638 "
      ]
     },
     "metadata": {},
     "output_type": "display_data"
    }
   ],
   "source": [
    "head(expression)"
   ]
  },
  {
   "cell_type": "code",
   "execution_count": 43,
   "metadata": {},
   "outputs": [
    {
     "ename": "ERROR",
     "evalue": "Error in rownames_to_column(expression, var = \"Accession\"): 함수 \"rownames_to_column\"를 찾을 수 없습니다\n",
     "output_type": "error",
     "traceback": [
      "Error in rownames_to_column(expression, var = \"Accession\"): 함수 \"rownames_to_column\"를 찾을 수 없습니다\nTraceback:\n"
     ]
    }
   ],
   "source": [
    "expression <- rownames_to_column(expression,var=\"Accession\")\n",
    "head(expression)"
   ]
  },
  {
   "cell_type": "code",
   "execution_count": 44,
   "metadata": {},
   "outputs": [
    {
     "ename": "ERROR",
     "evalue": "Error in melt(expression): 함수 \"melt\"를 찾을 수 없습니다\n",
     "output_type": "error",
     "traceback": [
      "Error in melt(expression): 함수 \"melt\"를 찾을 수 없습니다\nTraceback:\n"
     ]
    }
   ],
   "source": [
    "expression_melt <- melt(expression)\n",
    "head(expression_melt)"
   ]
  },
  {
   "cell_type": "code",
   "execution_count": 45,
   "metadata": {},
   "outputs": [
    {
     "ename": "ERROR",
     "evalue": "Error in subset(expression_melt, expression_melt$Accession == \"Q09666\"): 객체 'expression_melt'를 찾을 수 없습니다\n",
     "output_type": "error",
     "traceback": [
      "Error in subset(expression_melt, expression_melt$Accession == \"Q09666\"): 객체 'expression_melt'를 찾을 수 없습니다\nTraceback:\n",
      "1. subset(expression_melt, expression_melt$Accession == \"Q09666\")"
     ]
    }
   ],
   "source": [
    "subset(expression_melt, expression_melt$Accession ==\"Q09666\")"
   ]
  }
 ],
 "metadata": {
  "kernelspec": {
   "display_name": "R_v4.1.2_2022JAN",
   "language": "R",
   "name": "ir412"
  },
  "language_info": {
   "codemirror_mode": "r",
   "file_extension": ".r",
   "mimetype": "text/x-r-source",
   "name": "R",
   "pygments_lexer": "r",
   "version": "4.1.2"
  }
 },
 "nbformat": 4,
 "nbformat_minor": 4
}
